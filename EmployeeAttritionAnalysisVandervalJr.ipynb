{
  "nbformat": 4,
  "nbformat_minor": 0,
  "metadata": {
    "colab": {
      "name": "AndroidPermissionDataSet.ipynb",
      "provenance": [],
      "collapsed_sections": []
    },
    "kernelspec": {
      "name": "python3",
      "display_name": "Python 3"
    },
    "language_info": {
      "name": "python"
    }
  },
  "cells": [
    {
      "cell_type": "markdown",
      "source": [
        "# Introdução\n",
        "\n",
        "Uma grande empresa, chamada XYZ, emprega aproximadamente 4000 funcionários. Entretanto, todo ano, aproximadamente 15% dos empregados deixa a empresa e precisam ser substituídos. A gestão acredita que essa taxa de saída de funcionários (seja por conta própria ou por demissão) é ruim para a empresa, por razões como:\n",
        "\n",
        "\n",
        "\n",
        "1.   Os projetos acabam atrasando, o que diminui a reputação entre clientes e parceiros;\n",
        "2.   É necessário manter um departamento considerável para contratar novas pessoas;\n",
        "3. Na maioria das vezes os novos empregados precisam ser treinados para o cargo e/ou precisam de tempo para se acostumar com a empresa.\n",
        "\n",
        "Considerando isso, o objetivo desse projeto é modelar a probabilidade de um funcionário sair da empresa. Também é importante entender quais variáveis são mais importantes para que a gestão possa corrigir o problema na empresa."
      ],
      "metadata": {
        "id": "LdCnRCo62Dt1"
      }
    },
    {
      "cell_type": "markdown",
      "source": [
        "# Configurações iniciais"
      ],
      "metadata": {
        "id": "AUr9-rua2JlU"
      }
    },
    {
      "cell_type": "markdown",
      "source": [
        "Essas são algumas configurações inicias que serão usadas ao longo de todo o notebook, como importações de bibliotecas. Também é fixada uma seed para garantir reprodutibilidade na aleatoriedade."
      ],
      "metadata": {
        "id": "LAfPoZJxjO8r"
      }
    },
    {
      "cell_type": "code",
      "execution_count": 1,
      "metadata": {
        "id": "XJdr-4uOTxnZ"
      },
      "outputs": [],
      "source": [
        "\n",
        "import numpy as np\n",
        "import os\n",
        "\n",
        "seed = 31\n",
        "np.random.seed(seed)\n",
        "\n",
        "%matplotlib inline \n",
        "import matplotlib as mpl \n",
        "import matplotlib.pyplot as plt \n",
        "\n",
        "mpl.rc('axes', labelsize=14) \n",
        "mpl.rc('xtick', labelsize=12)\n",
        "mpl.rc('ytick', labelsize=12)\n",
        "\n",
        "import warnings\n",
        "warnings.filterwarnings(action=\"ignore\", message=\"^internal gelsd\")"
      ]
    },
    {
      "cell_type": "markdown",
      "source": [
        "# Conjunto de dados"
      ],
      "metadata": {
        "id": "1dvQ5Mpw2SPq"
      }
    },
    {
      "cell_type": "markdown",
      "source": [
        "Vamos começar a entender os dados que possuímos. Primeiros, vamos pegar os dados do csv:"
      ],
      "metadata": {
        "id": "vGBhEx0r2top"
      }
    },
    {
      "cell_type": "code",
      "source": [
        "import pandas as pd\n",
        "\n",
        "employee_dataset = pd.read_csv(\"data.csv\")"
      ],
      "metadata": {
        "id": "RG0PVMmTUj6q"
      },
      "execution_count": 2,
      "outputs": []
    },
    {
      "cell_type": "markdown",
      "source": [
        "Vamos observar as primeiras linhas dos dados:"
      ],
      "metadata": {
        "id": "Dlbix2yv2zPq"
      }
    },
    {
      "cell_type": "code",
      "source": [
        "employee_dataset.head()"
      ],
      "metadata": {
        "colab": {
          "base_uri": "https://localhost:8080/",
          "height": 369
        },
        "id": "m4in7JPfVtol",
        "outputId": "c534394a-e0de-4a11-e96d-f3b6b450d48a"
      },
      "execution_count": 3,
      "outputs": [
        {
          "output_type": "execute_result",
          "data": {
            "text/plain": [
              "   Age Attrition     BusinessTravel              Department  DistanceFromHome  \\\n",
              "0   51        No      Travel_Rarely                   Sales                 6   \n",
              "1   31       Yes  Travel_Frequently  Research & Development                10   \n",
              "2   32        No  Travel_Frequently  Research & Development                17   \n",
              "3   38        No         Non-Travel  Research & Development                 2   \n",
              "4   32        No      Travel_Rarely  Research & Development                10   \n",
              "\n",
              "   Education EducationField  EmployeeCount  EmployeeID  Gender  ...  \\\n",
              "0          2  Life Sciences              1           1  Female  ...   \n",
              "1          1  Life Sciences              1           2  Female  ...   \n",
              "2          4          Other              1           3    Male  ...   \n",
              "3          5  Life Sciences              1           4    Male  ...   \n",
              "4          1        Medical              1           5    Male  ...   \n",
              "\n",
              "   NumCompaniesWorked Over18 PercentSalaryHike  StandardHours  \\\n",
              "0                 1.0      Y                11              8   \n",
              "1                 0.0      Y                23              8   \n",
              "2                 1.0      Y                15              8   \n",
              "3                 3.0      Y                11              8   \n",
              "4                 4.0      Y                12              8   \n",
              "\n",
              "   StockOptionLevel TotalWorkingYears  TrainingTimesLastYear  YearsAtCompany  \\\n",
              "0                 0               1.0                      6               1   \n",
              "1                 1               6.0                      3               5   \n",
              "2                 3               5.0                      2               5   \n",
              "3                 3              13.0                      5               8   \n",
              "4                 2               9.0                      2               6   \n",
              "\n",
              "   YearsSinceLastPromotion  YearsWithCurrManager  \n",
              "0                        0                     0  \n",
              "1                        1                     4  \n",
              "2                        0                     3  \n",
              "3                        7                     5  \n",
              "4                        0                     4  \n",
              "\n",
              "[5 rows x 24 columns]"
            ],
            "text/html": [
              "\n",
              "  <div id=\"df-6d4400f4-ea02-4f2c-bb48-491d7359d1f2\">\n",
              "    <div class=\"colab-df-container\">\n",
              "      <div>\n",
              "<style scoped>\n",
              "    .dataframe tbody tr th:only-of-type {\n",
              "        vertical-align: middle;\n",
              "    }\n",
              "\n",
              "    .dataframe tbody tr th {\n",
              "        vertical-align: top;\n",
              "    }\n",
              "\n",
              "    .dataframe thead th {\n",
              "        text-align: right;\n",
              "    }\n",
              "</style>\n",
              "<table border=\"1\" class=\"dataframe\">\n",
              "  <thead>\n",
              "    <tr style=\"text-align: right;\">\n",
              "      <th></th>\n",
              "      <th>Age</th>\n",
              "      <th>Attrition</th>\n",
              "      <th>BusinessTravel</th>\n",
              "      <th>Department</th>\n",
              "      <th>DistanceFromHome</th>\n",
              "      <th>Education</th>\n",
              "      <th>EducationField</th>\n",
              "      <th>EmployeeCount</th>\n",
              "      <th>EmployeeID</th>\n",
              "      <th>Gender</th>\n",
              "      <th>...</th>\n",
              "      <th>NumCompaniesWorked</th>\n",
              "      <th>Over18</th>\n",
              "      <th>PercentSalaryHike</th>\n",
              "      <th>StandardHours</th>\n",
              "      <th>StockOptionLevel</th>\n",
              "      <th>TotalWorkingYears</th>\n",
              "      <th>TrainingTimesLastYear</th>\n",
              "      <th>YearsAtCompany</th>\n",
              "      <th>YearsSinceLastPromotion</th>\n",
              "      <th>YearsWithCurrManager</th>\n",
              "    </tr>\n",
              "  </thead>\n",
              "  <tbody>\n",
              "    <tr>\n",
              "      <th>0</th>\n",
              "      <td>51</td>\n",
              "      <td>No</td>\n",
              "      <td>Travel_Rarely</td>\n",
              "      <td>Sales</td>\n",
              "      <td>6</td>\n",
              "      <td>2</td>\n",
              "      <td>Life Sciences</td>\n",
              "      <td>1</td>\n",
              "      <td>1</td>\n",
              "      <td>Female</td>\n",
              "      <td>...</td>\n",
              "      <td>1.0</td>\n",
              "      <td>Y</td>\n",
              "      <td>11</td>\n",
              "      <td>8</td>\n",
              "      <td>0</td>\n",
              "      <td>1.0</td>\n",
              "      <td>6</td>\n",
              "      <td>1</td>\n",
              "      <td>0</td>\n",
              "      <td>0</td>\n",
              "    </tr>\n",
              "    <tr>\n",
              "      <th>1</th>\n",
              "      <td>31</td>\n",
              "      <td>Yes</td>\n",
              "      <td>Travel_Frequently</td>\n",
              "      <td>Research &amp; Development</td>\n",
              "      <td>10</td>\n",
              "      <td>1</td>\n",
              "      <td>Life Sciences</td>\n",
              "      <td>1</td>\n",
              "      <td>2</td>\n",
              "      <td>Female</td>\n",
              "      <td>...</td>\n",
              "      <td>0.0</td>\n",
              "      <td>Y</td>\n",
              "      <td>23</td>\n",
              "      <td>8</td>\n",
              "      <td>1</td>\n",
              "      <td>6.0</td>\n",
              "      <td>3</td>\n",
              "      <td>5</td>\n",
              "      <td>1</td>\n",
              "      <td>4</td>\n",
              "    </tr>\n",
              "    <tr>\n",
              "      <th>2</th>\n",
              "      <td>32</td>\n",
              "      <td>No</td>\n",
              "      <td>Travel_Frequently</td>\n",
              "      <td>Research &amp; Development</td>\n",
              "      <td>17</td>\n",
              "      <td>4</td>\n",
              "      <td>Other</td>\n",
              "      <td>1</td>\n",
              "      <td>3</td>\n",
              "      <td>Male</td>\n",
              "      <td>...</td>\n",
              "      <td>1.0</td>\n",
              "      <td>Y</td>\n",
              "      <td>15</td>\n",
              "      <td>8</td>\n",
              "      <td>3</td>\n",
              "      <td>5.0</td>\n",
              "      <td>2</td>\n",
              "      <td>5</td>\n",
              "      <td>0</td>\n",
              "      <td>3</td>\n",
              "    </tr>\n",
              "    <tr>\n",
              "      <th>3</th>\n",
              "      <td>38</td>\n",
              "      <td>No</td>\n",
              "      <td>Non-Travel</td>\n",
              "      <td>Research &amp; Development</td>\n",
              "      <td>2</td>\n",
              "      <td>5</td>\n",
              "      <td>Life Sciences</td>\n",
              "      <td>1</td>\n",
              "      <td>4</td>\n",
              "      <td>Male</td>\n",
              "      <td>...</td>\n",
              "      <td>3.0</td>\n",
              "      <td>Y</td>\n",
              "      <td>11</td>\n",
              "      <td>8</td>\n",
              "      <td>3</td>\n",
              "      <td>13.0</td>\n",
              "      <td>5</td>\n",
              "      <td>8</td>\n",
              "      <td>7</td>\n",
              "      <td>5</td>\n",
              "    </tr>\n",
              "    <tr>\n",
              "      <th>4</th>\n",
              "      <td>32</td>\n",
              "      <td>No</td>\n",
              "      <td>Travel_Rarely</td>\n",
              "      <td>Research &amp; Development</td>\n",
              "      <td>10</td>\n",
              "      <td>1</td>\n",
              "      <td>Medical</td>\n",
              "      <td>1</td>\n",
              "      <td>5</td>\n",
              "      <td>Male</td>\n",
              "      <td>...</td>\n",
              "      <td>4.0</td>\n",
              "      <td>Y</td>\n",
              "      <td>12</td>\n",
              "      <td>8</td>\n",
              "      <td>2</td>\n",
              "      <td>9.0</td>\n",
              "      <td>2</td>\n",
              "      <td>6</td>\n",
              "      <td>0</td>\n",
              "      <td>4</td>\n",
              "    </tr>\n",
              "  </tbody>\n",
              "</table>\n",
              "<p>5 rows × 24 columns</p>\n",
              "</div>\n",
              "      <button class=\"colab-df-convert\" onclick=\"convertToInteractive('df-6d4400f4-ea02-4f2c-bb48-491d7359d1f2')\"\n",
              "              title=\"Convert this dataframe to an interactive table.\"\n",
              "              style=\"display:none;\">\n",
              "        \n",
              "  <svg xmlns=\"http://www.w3.org/2000/svg\" height=\"24px\"viewBox=\"0 0 24 24\"\n",
              "       width=\"24px\">\n",
              "    <path d=\"M0 0h24v24H0V0z\" fill=\"none\"/>\n",
              "    <path d=\"M18.56 5.44l.94 2.06.94-2.06 2.06-.94-2.06-.94-.94-2.06-.94 2.06-2.06.94zm-11 1L8.5 8.5l.94-2.06 2.06-.94-2.06-.94L8.5 2.5l-.94 2.06-2.06.94zm10 10l.94 2.06.94-2.06 2.06-.94-2.06-.94-.94-2.06-.94 2.06-2.06.94z\"/><path d=\"M17.41 7.96l-1.37-1.37c-.4-.4-.92-.59-1.43-.59-.52 0-1.04.2-1.43.59L10.3 9.45l-7.72 7.72c-.78.78-.78 2.05 0 2.83L4 21.41c.39.39.9.59 1.41.59.51 0 1.02-.2 1.41-.59l7.78-7.78 2.81-2.81c.8-.78.8-2.07 0-2.86zM5.41 20L4 18.59l7.72-7.72 1.47 1.35L5.41 20z\"/>\n",
              "  </svg>\n",
              "      </button>\n",
              "      \n",
              "  <style>\n",
              "    .colab-df-container {\n",
              "      display:flex;\n",
              "      flex-wrap:wrap;\n",
              "      gap: 12px;\n",
              "    }\n",
              "\n",
              "    .colab-df-convert {\n",
              "      background-color: #E8F0FE;\n",
              "      border: none;\n",
              "      border-radius: 50%;\n",
              "      cursor: pointer;\n",
              "      display: none;\n",
              "      fill: #1967D2;\n",
              "      height: 32px;\n",
              "      padding: 0 0 0 0;\n",
              "      width: 32px;\n",
              "    }\n",
              "\n",
              "    .colab-df-convert:hover {\n",
              "      background-color: #E2EBFA;\n",
              "      box-shadow: 0px 1px 2px rgba(60, 64, 67, 0.3), 0px 1px 3px 1px rgba(60, 64, 67, 0.15);\n",
              "      fill: #174EA6;\n",
              "    }\n",
              "\n",
              "    [theme=dark] .colab-df-convert {\n",
              "      background-color: #3B4455;\n",
              "      fill: #D2E3FC;\n",
              "    }\n",
              "\n",
              "    [theme=dark] .colab-df-convert:hover {\n",
              "      background-color: #434B5C;\n",
              "      box-shadow: 0px 1px 3px 1px rgba(0, 0, 0, 0.15);\n",
              "      filter: drop-shadow(0px 1px 2px rgba(0, 0, 0, 0.3));\n",
              "      fill: #FFFFFF;\n",
              "    }\n",
              "  </style>\n",
              "\n",
              "      <script>\n",
              "        const buttonEl =\n",
              "          document.querySelector('#df-6d4400f4-ea02-4f2c-bb48-491d7359d1f2 button.colab-df-convert');\n",
              "        buttonEl.style.display =\n",
              "          google.colab.kernel.accessAllowed ? 'block' : 'none';\n",
              "\n",
              "        async function convertToInteractive(key) {\n",
              "          const element = document.querySelector('#df-6d4400f4-ea02-4f2c-bb48-491d7359d1f2');\n",
              "          const dataTable =\n",
              "            await google.colab.kernel.invokeFunction('convertToInteractive',\n",
              "                                                     [key], {});\n",
              "          if (!dataTable) return;\n",
              "\n",
              "          const docLinkHtml = 'Like what you see? Visit the ' +\n",
              "            '<a target=\"_blank\" href=https://colab.research.google.com/notebooks/data_table.ipynb>data table notebook</a>'\n",
              "            + ' to learn more about interactive tables.';\n",
              "          element.innerHTML = '';\n",
              "          dataTable['output_type'] = 'display_data';\n",
              "          await google.colab.output.renderOutput(dataTable, element);\n",
              "          const docLink = document.createElement('div');\n",
              "          docLink.innerHTML = docLinkHtml;\n",
              "          element.appendChild(docLink);\n",
              "        }\n",
              "      </script>\n",
              "    </div>\n",
              "  </div>\n",
              "  "
            ]
          },
          "metadata": {},
          "execution_count": 3
        }
      ]
    },
    {
      "cell_type": "markdown",
      "source": [
        "Perceba que os dados estão ordenados pelo EmployeeId. Mais tarde trataremos de randomizar a ordem das linhas (embaralhar os dados).\n",
        "\n",
        "Vamos entender o que cada coluna quer dizer.\n",
        "\n",
        "1. Age: Idade do empregado;\n",
        "2. Attrition: Se o empregado saiu da empresa no ano anterior ou não;\n",
        "3. BusinessTravel: Com que frequência o empregado fez viagens à negócio no último ano;\n",
        "4. Department: Departamento dentro da empresa;\n",
        "5. DistanceFromHome: Distância do local de trabalho até a casa do empregado em kms;\n",
        "6. Education: Level de educação. São valores de 1 à 5 que significam 'Bellow College', 'College', 'Bachelor', 'Master', 'Doctor';\n",
        "7. EducationField: Área de estudo;\n",
        "8. EmployeeCount: Número de empregos;\n",
        "9. EmployeeId: Id/número do empregado;\n",
        "10. Gender: Gênero;\n",
        "11. JobLevel: Nível do trabalho na empresa em uma escala de 1 a 5.\n",
        "12. JobRole: Nome do cargo do trabalhador na empresa;\n",
        "13. MaritalStatus: Estado civil do empregado;\n",
        "14. MontlyIncome: Renda mensal em rupias por mês;\n",
        "15. NumCompaniesWorked: Número de empresas para as quais o empregado já trabalhou.\n",
        "16. Over18: Se o empregado possui mais de 18 anos ou não.\n",
        "17. PercentSalaryHike: Aumento salarial percentual no último ano;\n",
        "18. StandardHours: Número de horas de trabalho usual do empregado;\n",
        "19. StockOptionLevel: Nível de ações da empresa concedidas ao empregado;\n",
        "19. TotalWorkingYears: Número total de anos em que o empregado trabalhou até agora;\n",
        "20. TrainingTimesLastYear: Número de vezes que o empregado recebeu um treinamento no último ano;\n",
        "21. YearsAtCompany: Número total de anos do empregado na empresa;\n",
        "22. YearsSinceLastPromotion: Número de anos desde a última promoção;\n",
        "23. YearsWithCurrManager: Número de anos que o empregado ficou submetido ao seu gerente atual.\n",
        "\n",
        "\n",
        "Observemos o formato dos dados e algumas linhas aleatórias:"
      ],
      "metadata": {
        "id": "KWpMbNdg21Me"
      }
    },
    {
      "cell_type": "code",
      "source": [
        "print(employee_dataset.shape)\n",
        "employee_dataset.sample(n = 10)"
      ],
      "metadata": {
        "colab": {
          "base_uri": "https://localhost:8080/",
          "height": 578
        },
        "id": "mrLDosUxW1Oj",
        "outputId": "b5f68359-cb87-4329-fe34-ff220173e525"
      },
      "execution_count": 4,
      "outputs": [
        {
          "output_type": "stream",
          "name": "stdout",
          "text": [
            "(4410, 24)\n"
          ]
        },
        {
          "output_type": "execute_result",
          "data": {
            "text/plain": [
              "      Age Attrition     BusinessTravel              Department  \\\n",
              "4309   58        No      Travel_Rarely                   Sales   \n",
              "1624   46        No      Travel_Rarely                   Sales   \n",
              "2055   26        No      Travel_Rarely  Research & Development   \n",
              "1420   40        No         Non-Travel  Research & Development   \n",
              "2288   54        No  Travel_Frequently                   Sales   \n",
              "2966   26        No  Travel_Frequently  Research & Development   \n",
              "4357   29       Yes      Travel_Rarely                   Sales   \n",
              "1880   28        No      Travel_Rarely  Research & Development   \n",
              "929    38        No  Travel_Frequently  Research & Development   \n",
              "3276   29        No      Travel_Rarely  Research & Development   \n",
              "\n",
              "      DistanceFromHome  Education EducationField  EmployeeCount  EmployeeID  \\\n",
              "4309                 3          3      Marketing              1        4310   \n",
              "1624                19          4      Marketing              1        1625   \n",
              "2055                 1          4  Life Sciences              1        2056   \n",
              "1420                28          2  Life Sciences              1        1421   \n",
              "2288                10          3  Life Sciences              1        2289   \n",
              "2966                 9          3  Life Sciences              1        2967   \n",
              "4357                10          2  Life Sciences              1        4358   \n",
              "1880                10          3  Life Sciences              1        1881   \n",
              "929                 19          2  Life Sciences              1         930   \n",
              "3276                10          3          Other              1        3277   \n",
              "\n",
              "      Gender  ...  NumCompaniesWorked Over18 PercentSalaryHike  StandardHours  \\\n",
              "4309  Female  ...                 4.0      Y                11              8   \n",
              "1624  Female  ...                 2.0      Y                14              8   \n",
              "2055    Male  ...                 1.0      Y                21              8   \n",
              "1420    Male  ...                 9.0      Y                22              8   \n",
              "2288  Female  ...                 3.0      Y                12              8   \n",
              "2966  Female  ...                 1.0      Y                22              8   \n",
              "4357  Female  ...                 1.0      Y                19              8   \n",
              "1880  Female  ...                 5.0      Y                20              8   \n",
              "929     Male  ...                 7.0      Y                12              8   \n",
              "3276    Male  ...                 1.0      Y                11              8   \n",
              "\n",
              "      StockOptionLevel TotalWorkingYears  TrainingTimesLastYear  \\\n",
              "4309                 3               9.0                      4   \n",
              "1624                 0              19.0                      5   \n",
              "2055                 1               8.0                      3   \n",
              "1420                 0               5.0                      2   \n",
              "2288                 0              26.0                      3   \n",
              "2966                 0               5.0                      3   \n",
              "4357                 2              10.0                      2   \n",
              "1880                 1               6.0                      2   \n",
              "929                  1              19.0                      3   \n",
              "3276                 0              10.0                      3   \n",
              "\n",
              "      YearsAtCompany  YearsSinceLastPromotion  YearsWithCurrManager  \n",
              "4309               1                        0                     0  \n",
              "1624              10                        0                     8  \n",
              "2055               8                        0                     7  \n",
              "1420               3                        0                     2  \n",
              "2288              14                        1                    12  \n",
              "2966               5                        3                     3  \n",
              "4357              10                        1                     9  \n",
              "1880               2                        2                     2  \n",
              "929               13                        2                     9  \n",
              "3276              10                        0                     7  \n",
              "\n",
              "[10 rows x 24 columns]"
            ],
            "text/html": [
              "\n",
              "  <div id=\"df-115a033c-138b-4cb5-a3dd-8f641695bacb\">\n",
              "    <div class=\"colab-df-container\">\n",
              "      <div>\n",
              "<style scoped>\n",
              "    .dataframe tbody tr th:only-of-type {\n",
              "        vertical-align: middle;\n",
              "    }\n",
              "\n",
              "    .dataframe tbody tr th {\n",
              "        vertical-align: top;\n",
              "    }\n",
              "\n",
              "    .dataframe thead th {\n",
              "        text-align: right;\n",
              "    }\n",
              "</style>\n",
              "<table border=\"1\" class=\"dataframe\">\n",
              "  <thead>\n",
              "    <tr style=\"text-align: right;\">\n",
              "      <th></th>\n",
              "      <th>Age</th>\n",
              "      <th>Attrition</th>\n",
              "      <th>BusinessTravel</th>\n",
              "      <th>Department</th>\n",
              "      <th>DistanceFromHome</th>\n",
              "      <th>Education</th>\n",
              "      <th>EducationField</th>\n",
              "      <th>EmployeeCount</th>\n",
              "      <th>EmployeeID</th>\n",
              "      <th>Gender</th>\n",
              "      <th>...</th>\n",
              "      <th>NumCompaniesWorked</th>\n",
              "      <th>Over18</th>\n",
              "      <th>PercentSalaryHike</th>\n",
              "      <th>StandardHours</th>\n",
              "      <th>StockOptionLevel</th>\n",
              "      <th>TotalWorkingYears</th>\n",
              "      <th>TrainingTimesLastYear</th>\n",
              "      <th>YearsAtCompany</th>\n",
              "      <th>YearsSinceLastPromotion</th>\n",
              "      <th>YearsWithCurrManager</th>\n",
              "    </tr>\n",
              "  </thead>\n",
              "  <tbody>\n",
              "    <tr>\n",
              "      <th>4309</th>\n",
              "      <td>58</td>\n",
              "      <td>No</td>\n",
              "      <td>Travel_Rarely</td>\n",
              "      <td>Sales</td>\n",
              "      <td>3</td>\n",
              "      <td>3</td>\n",
              "      <td>Marketing</td>\n",
              "      <td>1</td>\n",
              "      <td>4310</td>\n",
              "      <td>Female</td>\n",
              "      <td>...</td>\n",
              "      <td>4.0</td>\n",
              "      <td>Y</td>\n",
              "      <td>11</td>\n",
              "      <td>8</td>\n",
              "      <td>3</td>\n",
              "      <td>9.0</td>\n",
              "      <td>4</td>\n",
              "      <td>1</td>\n",
              "      <td>0</td>\n",
              "      <td>0</td>\n",
              "    </tr>\n",
              "    <tr>\n",
              "      <th>1624</th>\n",
              "      <td>46</td>\n",
              "      <td>No</td>\n",
              "      <td>Travel_Rarely</td>\n",
              "      <td>Sales</td>\n",
              "      <td>19</td>\n",
              "      <td>4</td>\n",
              "      <td>Marketing</td>\n",
              "      <td>1</td>\n",
              "      <td>1625</td>\n",
              "      <td>Female</td>\n",
              "      <td>...</td>\n",
              "      <td>2.0</td>\n",
              "      <td>Y</td>\n",
              "      <td>14</td>\n",
              "      <td>8</td>\n",
              "      <td>0</td>\n",
              "      <td>19.0</td>\n",
              "      <td>5</td>\n",
              "      <td>10</td>\n",
              "      <td>0</td>\n",
              "      <td>8</td>\n",
              "    </tr>\n",
              "    <tr>\n",
              "      <th>2055</th>\n",
              "      <td>26</td>\n",
              "      <td>No</td>\n",
              "      <td>Travel_Rarely</td>\n",
              "      <td>Research &amp; Development</td>\n",
              "      <td>1</td>\n",
              "      <td>4</td>\n",
              "      <td>Life Sciences</td>\n",
              "      <td>1</td>\n",
              "      <td>2056</td>\n",
              "      <td>Male</td>\n",
              "      <td>...</td>\n",
              "      <td>1.0</td>\n",
              "      <td>Y</td>\n",
              "      <td>21</td>\n",
              "      <td>8</td>\n",
              "      <td>1</td>\n",
              "      <td>8.0</td>\n",
              "      <td>3</td>\n",
              "      <td>8</td>\n",
              "      <td>0</td>\n",
              "      <td>7</td>\n",
              "    </tr>\n",
              "    <tr>\n",
              "      <th>1420</th>\n",
              "      <td>40</td>\n",
              "      <td>No</td>\n",
              "      <td>Non-Travel</td>\n",
              "      <td>Research &amp; Development</td>\n",
              "      <td>28</td>\n",
              "      <td>2</td>\n",
              "      <td>Life Sciences</td>\n",
              "      <td>1</td>\n",
              "      <td>1421</td>\n",
              "      <td>Male</td>\n",
              "      <td>...</td>\n",
              "      <td>9.0</td>\n",
              "      <td>Y</td>\n",
              "      <td>22</td>\n",
              "      <td>8</td>\n",
              "      <td>0</td>\n",
              "      <td>5.0</td>\n",
              "      <td>2</td>\n",
              "      <td>3</td>\n",
              "      <td>0</td>\n",
              "      <td>2</td>\n",
              "    </tr>\n",
              "    <tr>\n",
              "      <th>2288</th>\n",
              "      <td>54</td>\n",
              "      <td>No</td>\n",
              "      <td>Travel_Frequently</td>\n",
              "      <td>Sales</td>\n",
              "      <td>10</td>\n",
              "      <td>3</td>\n",
              "      <td>Life Sciences</td>\n",
              "      <td>1</td>\n",
              "      <td>2289</td>\n",
              "      <td>Female</td>\n",
              "      <td>...</td>\n",
              "      <td>3.0</td>\n",
              "      <td>Y</td>\n",
              "      <td>12</td>\n",
              "      <td>8</td>\n",
              "      <td>0</td>\n",
              "      <td>26.0</td>\n",
              "      <td>3</td>\n",
              "      <td>14</td>\n",
              "      <td>1</td>\n",
              "      <td>12</td>\n",
              "    </tr>\n",
              "    <tr>\n",
              "      <th>2966</th>\n",
              "      <td>26</td>\n",
              "      <td>No</td>\n",
              "      <td>Travel_Frequently</td>\n",
              "      <td>Research &amp; Development</td>\n",
              "      <td>9</td>\n",
              "      <td>3</td>\n",
              "      <td>Life Sciences</td>\n",
              "      <td>1</td>\n",
              "      <td>2967</td>\n",
              "      <td>Female</td>\n",
              "      <td>...</td>\n",
              "      <td>1.0</td>\n",
              "      <td>Y</td>\n",
              "      <td>22</td>\n",
              "      <td>8</td>\n",
              "      <td>0</td>\n",
              "      <td>5.0</td>\n",
              "      <td>3</td>\n",
              "      <td>5</td>\n",
              "      <td>3</td>\n",
              "      <td>3</td>\n",
              "    </tr>\n",
              "    <tr>\n",
              "      <th>4357</th>\n",
              "      <td>29</td>\n",
              "      <td>Yes</td>\n",
              "      <td>Travel_Rarely</td>\n",
              "      <td>Sales</td>\n",
              "      <td>10</td>\n",
              "      <td>2</td>\n",
              "      <td>Life Sciences</td>\n",
              "      <td>1</td>\n",
              "      <td>4358</td>\n",
              "      <td>Female</td>\n",
              "      <td>...</td>\n",
              "      <td>1.0</td>\n",
              "      <td>Y</td>\n",
              "      <td>19</td>\n",
              "      <td>8</td>\n",
              "      <td>2</td>\n",
              "      <td>10.0</td>\n",
              "      <td>2</td>\n",
              "      <td>10</td>\n",
              "      <td>1</td>\n",
              "      <td>9</td>\n",
              "    </tr>\n",
              "    <tr>\n",
              "      <th>1880</th>\n",
              "      <td>28</td>\n",
              "      <td>No</td>\n",
              "      <td>Travel_Rarely</td>\n",
              "      <td>Research &amp; Development</td>\n",
              "      <td>10</td>\n",
              "      <td>3</td>\n",
              "      <td>Life Sciences</td>\n",
              "      <td>1</td>\n",
              "      <td>1881</td>\n",
              "      <td>Female</td>\n",
              "      <td>...</td>\n",
              "      <td>5.0</td>\n",
              "      <td>Y</td>\n",
              "      <td>20</td>\n",
              "      <td>8</td>\n",
              "      <td>1</td>\n",
              "      <td>6.0</td>\n",
              "      <td>2</td>\n",
              "      <td>2</td>\n",
              "      <td>2</td>\n",
              "      <td>2</td>\n",
              "    </tr>\n",
              "    <tr>\n",
              "      <th>929</th>\n",
              "      <td>38</td>\n",
              "      <td>No</td>\n",
              "      <td>Travel_Frequently</td>\n",
              "      <td>Research &amp; Development</td>\n",
              "      <td>19</td>\n",
              "      <td>2</td>\n",
              "      <td>Life Sciences</td>\n",
              "      <td>1</td>\n",
              "      <td>930</td>\n",
              "      <td>Male</td>\n",
              "      <td>...</td>\n",
              "      <td>7.0</td>\n",
              "      <td>Y</td>\n",
              "      <td>12</td>\n",
              "      <td>8</td>\n",
              "      <td>1</td>\n",
              "      <td>19.0</td>\n",
              "      <td>3</td>\n",
              "      <td>13</td>\n",
              "      <td>2</td>\n",
              "      <td>9</td>\n",
              "    </tr>\n",
              "    <tr>\n",
              "      <th>3276</th>\n",
              "      <td>29</td>\n",
              "      <td>No</td>\n",
              "      <td>Travel_Rarely</td>\n",
              "      <td>Research &amp; Development</td>\n",
              "      <td>10</td>\n",
              "      <td>3</td>\n",
              "      <td>Other</td>\n",
              "      <td>1</td>\n",
              "      <td>3277</td>\n",
              "      <td>Male</td>\n",
              "      <td>...</td>\n",
              "      <td>1.0</td>\n",
              "      <td>Y</td>\n",
              "      <td>11</td>\n",
              "      <td>8</td>\n",
              "      <td>0</td>\n",
              "      <td>10.0</td>\n",
              "      <td>3</td>\n",
              "      <td>10</td>\n",
              "      <td>0</td>\n",
              "      <td>7</td>\n",
              "    </tr>\n",
              "  </tbody>\n",
              "</table>\n",
              "<p>10 rows × 24 columns</p>\n",
              "</div>\n",
              "      <button class=\"colab-df-convert\" onclick=\"convertToInteractive('df-115a033c-138b-4cb5-a3dd-8f641695bacb')\"\n",
              "              title=\"Convert this dataframe to an interactive table.\"\n",
              "              style=\"display:none;\">\n",
              "        \n",
              "  <svg xmlns=\"http://www.w3.org/2000/svg\" height=\"24px\"viewBox=\"0 0 24 24\"\n",
              "       width=\"24px\">\n",
              "    <path d=\"M0 0h24v24H0V0z\" fill=\"none\"/>\n",
              "    <path d=\"M18.56 5.44l.94 2.06.94-2.06 2.06-.94-2.06-.94-.94-2.06-.94 2.06-2.06.94zm-11 1L8.5 8.5l.94-2.06 2.06-.94-2.06-.94L8.5 2.5l-.94 2.06-2.06.94zm10 10l.94 2.06.94-2.06 2.06-.94-2.06-.94-.94-2.06-.94 2.06-2.06.94z\"/><path d=\"M17.41 7.96l-1.37-1.37c-.4-.4-.92-.59-1.43-.59-.52 0-1.04.2-1.43.59L10.3 9.45l-7.72 7.72c-.78.78-.78 2.05 0 2.83L4 21.41c.39.39.9.59 1.41.59.51 0 1.02-.2 1.41-.59l7.78-7.78 2.81-2.81c.8-.78.8-2.07 0-2.86zM5.41 20L4 18.59l7.72-7.72 1.47 1.35L5.41 20z\"/>\n",
              "  </svg>\n",
              "      </button>\n",
              "      \n",
              "  <style>\n",
              "    .colab-df-container {\n",
              "      display:flex;\n",
              "      flex-wrap:wrap;\n",
              "      gap: 12px;\n",
              "    }\n",
              "\n",
              "    .colab-df-convert {\n",
              "      background-color: #E8F0FE;\n",
              "      border: none;\n",
              "      border-radius: 50%;\n",
              "      cursor: pointer;\n",
              "      display: none;\n",
              "      fill: #1967D2;\n",
              "      height: 32px;\n",
              "      padding: 0 0 0 0;\n",
              "      width: 32px;\n",
              "    }\n",
              "\n",
              "    .colab-df-convert:hover {\n",
              "      background-color: #E2EBFA;\n",
              "      box-shadow: 0px 1px 2px rgba(60, 64, 67, 0.3), 0px 1px 3px 1px rgba(60, 64, 67, 0.15);\n",
              "      fill: #174EA6;\n",
              "    }\n",
              "\n",
              "    [theme=dark] .colab-df-convert {\n",
              "      background-color: #3B4455;\n",
              "      fill: #D2E3FC;\n",
              "    }\n",
              "\n",
              "    [theme=dark] .colab-df-convert:hover {\n",
              "      background-color: #434B5C;\n",
              "      box-shadow: 0px 1px 3px 1px rgba(0, 0, 0, 0.15);\n",
              "      filter: drop-shadow(0px 1px 2px rgba(0, 0, 0, 0.3));\n",
              "      fill: #FFFFFF;\n",
              "    }\n",
              "  </style>\n",
              "\n",
              "      <script>\n",
              "        const buttonEl =\n",
              "          document.querySelector('#df-115a033c-138b-4cb5-a3dd-8f641695bacb button.colab-df-convert');\n",
              "        buttonEl.style.display =\n",
              "          google.colab.kernel.accessAllowed ? 'block' : 'none';\n",
              "\n",
              "        async function convertToInteractive(key) {\n",
              "          const element = document.querySelector('#df-115a033c-138b-4cb5-a3dd-8f641695bacb');\n",
              "          const dataTable =\n",
              "            await google.colab.kernel.invokeFunction('convertToInteractive',\n",
              "                                                     [key], {});\n",
              "          if (!dataTable) return;\n",
              "\n",
              "          const docLinkHtml = 'Like what you see? Visit the ' +\n",
              "            '<a target=\"_blank\" href=https://colab.research.google.com/notebooks/data_table.ipynb>data table notebook</a>'\n",
              "            + ' to learn more about interactive tables.';\n",
              "          element.innerHTML = '';\n",
              "          dataTable['output_type'] = 'display_data';\n",
              "          await google.colab.output.renderOutput(dataTable, element);\n",
              "          const docLink = document.createElement('div');\n",
              "          docLink.innerHTML = docLinkHtml;\n",
              "          element.appendChild(docLink);\n",
              "        }\n",
              "      </script>\n",
              "    </div>\n",
              "  </div>\n",
              "  "
            ]
          },
          "metadata": {},
          "execution_count": 4
        }
      ]
    },
    {
      "cell_type": "markdown",
      "source": [
        "Perceba que temos um total de 4410 linhas e 24 colunas, das quais 23 são features e uma é o rótulo (Attrition)\n",
        "\n",
        "Vamos verificar o formato dos nossos dados:"
      ],
      "metadata": {
        "id": "SOxODtvT27Ix"
      }
    },
    {
      "cell_type": "code",
      "source": [
        "employee_dataset.info()"
      ],
      "metadata": {
        "colab": {
          "base_uri": "https://localhost:8080/"
        },
        "id": "pBjkh7fWas-U",
        "outputId": "68fdf7ba-d726-4551-9d91-4d71ebe13779"
      },
      "execution_count": 5,
      "outputs": [
        {
          "output_type": "stream",
          "name": "stdout",
          "text": [
            "<class 'pandas.core.frame.DataFrame'>\n",
            "RangeIndex: 4410 entries, 0 to 4409\n",
            "Data columns (total 24 columns):\n",
            " #   Column                   Non-Null Count  Dtype  \n",
            "---  ------                   --------------  -----  \n",
            " 0   Age                      4410 non-null   int64  \n",
            " 1   Attrition                4410 non-null   object \n",
            " 2   BusinessTravel           4410 non-null   object \n",
            " 3   Department               4410 non-null   object \n",
            " 4   DistanceFromHome         4410 non-null   int64  \n",
            " 5   Education                4410 non-null   int64  \n",
            " 6   EducationField           4410 non-null   object \n",
            " 7   EmployeeCount            4410 non-null   int64  \n",
            " 8   EmployeeID               4410 non-null   int64  \n",
            " 9   Gender                   4410 non-null   object \n",
            " 10  JobLevel                 4410 non-null   int64  \n",
            " 11  JobRole                  4410 non-null   object \n",
            " 12  MaritalStatus            4410 non-null   object \n",
            " 13  MonthlyIncome            4410 non-null   int64  \n",
            " 14  NumCompaniesWorked       4391 non-null   float64\n",
            " 15  Over18                   4410 non-null   object \n",
            " 16  PercentSalaryHike        4410 non-null   int64  \n",
            " 17  StandardHours            4410 non-null   int64  \n",
            " 18  StockOptionLevel         4410 non-null   int64  \n",
            " 19  TotalWorkingYears        4401 non-null   float64\n",
            " 20  TrainingTimesLastYear    4410 non-null   int64  \n",
            " 21  YearsAtCompany           4410 non-null   int64  \n",
            " 22  YearsSinceLastPromotion  4410 non-null   int64  \n",
            " 23  YearsWithCurrManager     4410 non-null   int64  \n",
            "dtypes: float64(2), int64(14), object(8)\n",
            "memory usage: 827.0+ KB\n"
          ]
        }
      ]
    },
    {
      "cell_type": "markdown",
      "source": [
        "Perceba que Attrition, BusinessTravel, Department, EducationField, Gender, JobRole, MaritalStatus, Over18 são todos dados não numéricos, e 4391 linhas tem o parâmetro \"NumCompaninesWorked\" como não nulo, de um total de 4410. Isto é, 19 desses dados estão classificados como nulo. Temos a mesma questão com o parâmetro TotalWorkingYears, que apresenta 9 dados nulos. Precisaremos tratar desses dados para torná-los apropriados ao treinamento de modelos.\n",
        "\n",
        "Vamos agora observar algumas estátisticas básicas dos nossos dados:"
      ],
      "metadata": {
        "id": "C9cZn9MA2-u7"
      }
    },
    {
      "cell_type": "code",
      "source": [
        "employee_dataset.describe()"
      ],
      "metadata": {
        "colab": {
          "base_uri": "https://localhost:8080/",
          "height": 364
        },
        "id": "_6MaNTzMbAkF",
        "outputId": "19c3a207-a779-4456-bb57-ebcf5d2d5ccf"
      },
      "execution_count": 6,
      "outputs": [
        {
          "output_type": "execute_result",
          "data": {
            "text/plain": [
              "               Age  DistanceFromHome    Education  EmployeeCount   EmployeeID  \\\n",
              "count  4410.000000       4410.000000  4410.000000         4410.0  4410.000000   \n",
              "mean     36.923810          9.192517     2.912925            1.0  2205.500000   \n",
              "std       9.133301          8.105026     1.023933            0.0  1273.201673   \n",
              "min      18.000000          1.000000     1.000000            1.0     1.000000   \n",
              "25%      30.000000          2.000000     2.000000            1.0  1103.250000   \n",
              "50%      36.000000          7.000000     3.000000            1.0  2205.500000   \n",
              "75%      43.000000         14.000000     4.000000            1.0  3307.750000   \n",
              "max      60.000000         29.000000     5.000000            1.0  4410.000000   \n",
              "\n",
              "          JobLevel  MonthlyIncome  NumCompaniesWorked  PercentSalaryHike  \\\n",
              "count  4410.000000    4410.000000         4391.000000        4410.000000   \n",
              "mean      2.063946   65029.312925            2.694830          15.209524   \n",
              "std       1.106689   47068.888559            2.498887           3.659108   \n",
              "min       1.000000   10090.000000            0.000000          11.000000   \n",
              "25%       1.000000   29110.000000            1.000000          12.000000   \n",
              "50%       2.000000   49190.000000            2.000000          14.000000   \n",
              "75%       3.000000   83800.000000            4.000000          18.000000   \n",
              "max       5.000000  199990.000000            9.000000          25.000000   \n",
              "\n",
              "       StandardHours  StockOptionLevel  TotalWorkingYears  \\\n",
              "count         4410.0       4410.000000        4401.000000   \n",
              "mean             8.0          0.793878          11.279936   \n",
              "std              0.0          0.851883           7.782222   \n",
              "min              8.0          0.000000           0.000000   \n",
              "25%              8.0          0.000000           6.000000   \n",
              "50%              8.0          1.000000          10.000000   \n",
              "75%              8.0          1.000000          15.000000   \n",
              "max              8.0          3.000000          40.000000   \n",
              "\n",
              "       TrainingTimesLastYear  YearsAtCompany  YearsSinceLastPromotion  \\\n",
              "count            4410.000000     4410.000000              4410.000000   \n",
              "mean                2.799320        7.008163                 2.187755   \n",
              "std                 1.288978        6.125135                 3.221699   \n",
              "min                 0.000000        0.000000                 0.000000   \n",
              "25%                 2.000000        3.000000                 0.000000   \n",
              "50%                 3.000000        5.000000                 1.000000   \n",
              "75%                 3.000000        9.000000                 3.000000   \n",
              "max                 6.000000       40.000000                15.000000   \n",
              "\n",
              "       YearsWithCurrManager  \n",
              "count           4410.000000  \n",
              "mean               4.123129  \n",
              "std                3.567327  \n",
              "min                0.000000  \n",
              "25%                2.000000  \n",
              "50%                3.000000  \n",
              "75%                7.000000  \n",
              "max               17.000000  "
            ],
            "text/html": [
              "\n",
              "  <div id=\"df-f157e7ba-64c0-44ee-ae99-c244c5369526\">\n",
              "    <div class=\"colab-df-container\">\n",
              "      <div>\n",
              "<style scoped>\n",
              "    .dataframe tbody tr th:only-of-type {\n",
              "        vertical-align: middle;\n",
              "    }\n",
              "\n",
              "    .dataframe tbody tr th {\n",
              "        vertical-align: top;\n",
              "    }\n",
              "\n",
              "    .dataframe thead th {\n",
              "        text-align: right;\n",
              "    }\n",
              "</style>\n",
              "<table border=\"1\" class=\"dataframe\">\n",
              "  <thead>\n",
              "    <tr style=\"text-align: right;\">\n",
              "      <th></th>\n",
              "      <th>Age</th>\n",
              "      <th>DistanceFromHome</th>\n",
              "      <th>Education</th>\n",
              "      <th>EmployeeCount</th>\n",
              "      <th>EmployeeID</th>\n",
              "      <th>JobLevel</th>\n",
              "      <th>MonthlyIncome</th>\n",
              "      <th>NumCompaniesWorked</th>\n",
              "      <th>PercentSalaryHike</th>\n",
              "      <th>StandardHours</th>\n",
              "      <th>StockOptionLevel</th>\n",
              "      <th>TotalWorkingYears</th>\n",
              "      <th>TrainingTimesLastYear</th>\n",
              "      <th>YearsAtCompany</th>\n",
              "      <th>YearsSinceLastPromotion</th>\n",
              "      <th>YearsWithCurrManager</th>\n",
              "    </tr>\n",
              "  </thead>\n",
              "  <tbody>\n",
              "    <tr>\n",
              "      <th>count</th>\n",
              "      <td>4410.000000</td>\n",
              "      <td>4410.000000</td>\n",
              "      <td>4410.000000</td>\n",
              "      <td>4410.0</td>\n",
              "      <td>4410.000000</td>\n",
              "      <td>4410.000000</td>\n",
              "      <td>4410.000000</td>\n",
              "      <td>4391.000000</td>\n",
              "      <td>4410.000000</td>\n",
              "      <td>4410.0</td>\n",
              "      <td>4410.000000</td>\n",
              "      <td>4401.000000</td>\n",
              "      <td>4410.000000</td>\n",
              "      <td>4410.000000</td>\n",
              "      <td>4410.000000</td>\n",
              "      <td>4410.000000</td>\n",
              "    </tr>\n",
              "    <tr>\n",
              "      <th>mean</th>\n",
              "      <td>36.923810</td>\n",
              "      <td>9.192517</td>\n",
              "      <td>2.912925</td>\n",
              "      <td>1.0</td>\n",
              "      <td>2205.500000</td>\n",
              "      <td>2.063946</td>\n",
              "      <td>65029.312925</td>\n",
              "      <td>2.694830</td>\n",
              "      <td>15.209524</td>\n",
              "      <td>8.0</td>\n",
              "      <td>0.793878</td>\n",
              "      <td>11.279936</td>\n",
              "      <td>2.799320</td>\n",
              "      <td>7.008163</td>\n",
              "      <td>2.187755</td>\n",
              "      <td>4.123129</td>\n",
              "    </tr>\n",
              "    <tr>\n",
              "      <th>std</th>\n",
              "      <td>9.133301</td>\n",
              "      <td>8.105026</td>\n",
              "      <td>1.023933</td>\n",
              "      <td>0.0</td>\n",
              "      <td>1273.201673</td>\n",
              "      <td>1.106689</td>\n",
              "      <td>47068.888559</td>\n",
              "      <td>2.498887</td>\n",
              "      <td>3.659108</td>\n",
              "      <td>0.0</td>\n",
              "      <td>0.851883</td>\n",
              "      <td>7.782222</td>\n",
              "      <td>1.288978</td>\n",
              "      <td>6.125135</td>\n",
              "      <td>3.221699</td>\n",
              "      <td>3.567327</td>\n",
              "    </tr>\n",
              "    <tr>\n",
              "      <th>min</th>\n",
              "      <td>18.000000</td>\n",
              "      <td>1.000000</td>\n",
              "      <td>1.000000</td>\n",
              "      <td>1.0</td>\n",
              "      <td>1.000000</td>\n",
              "      <td>1.000000</td>\n",
              "      <td>10090.000000</td>\n",
              "      <td>0.000000</td>\n",
              "      <td>11.000000</td>\n",
              "      <td>8.0</td>\n",
              "      <td>0.000000</td>\n",
              "      <td>0.000000</td>\n",
              "      <td>0.000000</td>\n",
              "      <td>0.000000</td>\n",
              "      <td>0.000000</td>\n",
              "      <td>0.000000</td>\n",
              "    </tr>\n",
              "    <tr>\n",
              "      <th>25%</th>\n",
              "      <td>30.000000</td>\n",
              "      <td>2.000000</td>\n",
              "      <td>2.000000</td>\n",
              "      <td>1.0</td>\n",
              "      <td>1103.250000</td>\n",
              "      <td>1.000000</td>\n",
              "      <td>29110.000000</td>\n",
              "      <td>1.000000</td>\n",
              "      <td>12.000000</td>\n",
              "      <td>8.0</td>\n",
              "      <td>0.000000</td>\n",
              "      <td>6.000000</td>\n",
              "      <td>2.000000</td>\n",
              "      <td>3.000000</td>\n",
              "      <td>0.000000</td>\n",
              "      <td>2.000000</td>\n",
              "    </tr>\n",
              "    <tr>\n",
              "      <th>50%</th>\n",
              "      <td>36.000000</td>\n",
              "      <td>7.000000</td>\n",
              "      <td>3.000000</td>\n",
              "      <td>1.0</td>\n",
              "      <td>2205.500000</td>\n",
              "      <td>2.000000</td>\n",
              "      <td>49190.000000</td>\n",
              "      <td>2.000000</td>\n",
              "      <td>14.000000</td>\n",
              "      <td>8.0</td>\n",
              "      <td>1.000000</td>\n",
              "      <td>10.000000</td>\n",
              "      <td>3.000000</td>\n",
              "      <td>5.000000</td>\n",
              "      <td>1.000000</td>\n",
              "      <td>3.000000</td>\n",
              "    </tr>\n",
              "    <tr>\n",
              "      <th>75%</th>\n",
              "      <td>43.000000</td>\n",
              "      <td>14.000000</td>\n",
              "      <td>4.000000</td>\n",
              "      <td>1.0</td>\n",
              "      <td>3307.750000</td>\n",
              "      <td>3.000000</td>\n",
              "      <td>83800.000000</td>\n",
              "      <td>4.000000</td>\n",
              "      <td>18.000000</td>\n",
              "      <td>8.0</td>\n",
              "      <td>1.000000</td>\n",
              "      <td>15.000000</td>\n",
              "      <td>3.000000</td>\n",
              "      <td>9.000000</td>\n",
              "      <td>3.000000</td>\n",
              "      <td>7.000000</td>\n",
              "    </tr>\n",
              "    <tr>\n",
              "      <th>max</th>\n",
              "      <td>60.000000</td>\n",
              "      <td>29.000000</td>\n",
              "      <td>5.000000</td>\n",
              "      <td>1.0</td>\n",
              "      <td>4410.000000</td>\n",
              "      <td>5.000000</td>\n",
              "      <td>199990.000000</td>\n",
              "      <td>9.000000</td>\n",
              "      <td>25.000000</td>\n",
              "      <td>8.0</td>\n",
              "      <td>3.000000</td>\n",
              "      <td>40.000000</td>\n",
              "      <td>6.000000</td>\n",
              "      <td>40.000000</td>\n",
              "      <td>15.000000</td>\n",
              "      <td>17.000000</td>\n",
              "    </tr>\n",
              "  </tbody>\n",
              "</table>\n",
              "</div>\n",
              "      <button class=\"colab-df-convert\" onclick=\"convertToInteractive('df-f157e7ba-64c0-44ee-ae99-c244c5369526')\"\n",
              "              title=\"Convert this dataframe to an interactive table.\"\n",
              "              style=\"display:none;\">\n",
              "        \n",
              "  <svg xmlns=\"http://www.w3.org/2000/svg\" height=\"24px\"viewBox=\"0 0 24 24\"\n",
              "       width=\"24px\">\n",
              "    <path d=\"M0 0h24v24H0V0z\" fill=\"none\"/>\n",
              "    <path d=\"M18.56 5.44l.94 2.06.94-2.06 2.06-.94-2.06-.94-.94-2.06-.94 2.06-2.06.94zm-11 1L8.5 8.5l.94-2.06 2.06-.94-2.06-.94L8.5 2.5l-.94 2.06-2.06.94zm10 10l.94 2.06.94-2.06 2.06-.94-2.06-.94-.94-2.06-.94 2.06-2.06.94z\"/><path d=\"M17.41 7.96l-1.37-1.37c-.4-.4-.92-.59-1.43-.59-.52 0-1.04.2-1.43.59L10.3 9.45l-7.72 7.72c-.78.78-.78 2.05 0 2.83L4 21.41c.39.39.9.59 1.41.59.51 0 1.02-.2 1.41-.59l7.78-7.78 2.81-2.81c.8-.78.8-2.07 0-2.86zM5.41 20L4 18.59l7.72-7.72 1.47 1.35L5.41 20z\"/>\n",
              "  </svg>\n",
              "      </button>\n",
              "      \n",
              "  <style>\n",
              "    .colab-df-container {\n",
              "      display:flex;\n",
              "      flex-wrap:wrap;\n",
              "      gap: 12px;\n",
              "    }\n",
              "\n",
              "    .colab-df-convert {\n",
              "      background-color: #E8F0FE;\n",
              "      border: none;\n",
              "      border-radius: 50%;\n",
              "      cursor: pointer;\n",
              "      display: none;\n",
              "      fill: #1967D2;\n",
              "      height: 32px;\n",
              "      padding: 0 0 0 0;\n",
              "      width: 32px;\n",
              "    }\n",
              "\n",
              "    .colab-df-convert:hover {\n",
              "      background-color: #E2EBFA;\n",
              "      box-shadow: 0px 1px 2px rgba(60, 64, 67, 0.3), 0px 1px 3px 1px rgba(60, 64, 67, 0.15);\n",
              "      fill: #174EA6;\n",
              "    }\n",
              "\n",
              "    [theme=dark] .colab-df-convert {\n",
              "      background-color: #3B4455;\n",
              "      fill: #D2E3FC;\n",
              "    }\n",
              "\n",
              "    [theme=dark] .colab-df-convert:hover {\n",
              "      background-color: #434B5C;\n",
              "      box-shadow: 0px 1px 3px 1px rgba(0, 0, 0, 0.15);\n",
              "      filter: drop-shadow(0px 1px 2px rgba(0, 0, 0, 0.3));\n",
              "      fill: #FFFFFF;\n",
              "    }\n",
              "  </style>\n",
              "\n",
              "      <script>\n",
              "        const buttonEl =\n",
              "          document.querySelector('#df-f157e7ba-64c0-44ee-ae99-c244c5369526 button.colab-df-convert');\n",
              "        buttonEl.style.display =\n",
              "          google.colab.kernel.accessAllowed ? 'block' : 'none';\n",
              "\n",
              "        async function convertToInteractive(key) {\n",
              "          const element = document.querySelector('#df-f157e7ba-64c0-44ee-ae99-c244c5369526');\n",
              "          const dataTable =\n",
              "            await google.colab.kernel.invokeFunction('convertToInteractive',\n",
              "                                                     [key], {});\n",
              "          if (!dataTable) return;\n",
              "\n",
              "          const docLinkHtml = 'Like what you see? Visit the ' +\n",
              "            '<a target=\"_blank\" href=https://colab.research.google.com/notebooks/data_table.ipynb>data table notebook</a>'\n",
              "            + ' to learn more about interactive tables.';\n",
              "          element.innerHTML = '';\n",
              "          dataTable['output_type'] = 'display_data';\n",
              "          await google.colab.output.renderOutput(dataTable, element);\n",
              "          const docLink = document.createElement('div');\n",
              "          docLink.innerHTML = docLinkHtml;\n",
              "          element.appendChild(docLink);\n",
              "        }\n",
              "      </script>\n",
              "    </div>\n",
              "  </div>\n",
              "  "
            ]
          },
          "metadata": {},
          "execution_count": 6
        }
      ]
    },
    {
      "cell_type": "markdown",
      "source": [
        "Note que o desvio-padrão do número de empregos (EmployeeCount) é 0 e a média é 1, o que indica que todos os trabalhadores têm um único emprego. Então, essa coluna é irrelevante para nós. O mesmo ocorre para a carga horária de trabalho (StandardHours), que tem desvio padrão 0 e média 8.\n",
        "\n",
        "Vamos observar a contagem de cada label dos dados não-numéricos:"
      ],
      "metadata": {
        "id": "r-HuLBlW5FC1"
      }
    },
    {
      "cell_type": "code",
      "source": [
        "employee_dataset[\"Attrition\"].value_counts()"
      ],
      "metadata": {
        "colab": {
          "base_uri": "https://localhost:8080/"
        },
        "id": "DSXSU4SZ0vGw",
        "outputId": "2357560e-fecb-468e-b229-93ce89a4d667"
      },
      "execution_count": 7,
      "outputs": [
        {
          "output_type": "execute_result",
          "data": {
            "text/plain": [
              "No     3699\n",
              "Yes     711\n",
              "Name: Attrition, dtype: int64"
            ]
          },
          "metadata": {},
          "execution_count": 7
        }
      ]
    },
    {
      "cell_type": "code",
      "source": [
        "employee_dataset[\"BusinessTravel\"].value_counts()"
      ],
      "metadata": {
        "colab": {
          "base_uri": "https://localhost:8080/"
        },
        "id": "uI_VRgh01BJS",
        "outputId": "a2255889-b55e-4c15-91ff-473ba79e570a"
      },
      "execution_count": 8,
      "outputs": [
        {
          "output_type": "execute_result",
          "data": {
            "text/plain": [
              "Travel_Rarely        3129\n",
              "Travel_Frequently     831\n",
              "Non-Travel            450\n",
              "Name: BusinessTravel, dtype: int64"
            ]
          },
          "metadata": {},
          "execution_count": 8
        }
      ]
    },
    {
      "cell_type": "code",
      "source": [
        "employee_dataset[\"Department\"].value_counts()"
      ],
      "metadata": {
        "colab": {
          "base_uri": "https://localhost:8080/"
        },
        "id": "Q8bvdeCI1E6d",
        "outputId": "e7b8d1a3-a9f2-43e1-8678-fe46440198ad"
      },
      "execution_count": 9,
      "outputs": [
        {
          "output_type": "execute_result",
          "data": {
            "text/plain": [
              "Research & Development    2883\n",
              "Sales                     1338\n",
              "Human Resources            189\n",
              "Name: Department, dtype: int64"
            ]
          },
          "metadata": {},
          "execution_count": 9
        }
      ]
    },
    {
      "cell_type": "code",
      "source": [
        "employee_dataset[\"EducationField\"].value_counts()"
      ],
      "metadata": {
        "colab": {
          "base_uri": "https://localhost:8080/"
        },
        "id": "u9Bj889E1LWw",
        "outputId": "eb5c32cf-7c51-4314-ce0d-a9882c28566b"
      },
      "execution_count": 10,
      "outputs": [
        {
          "output_type": "execute_result",
          "data": {
            "text/plain": [
              "Life Sciences       1818\n",
              "Medical             1392\n",
              "Marketing            477\n",
              "Technical Degree     396\n",
              "Other                246\n",
              "Human Resources       81\n",
              "Name: EducationField, dtype: int64"
            ]
          },
          "metadata": {},
          "execution_count": 10
        }
      ]
    },
    {
      "cell_type": "code",
      "source": [
        "employee_dataset[\"Gender\"].value_counts()"
      ],
      "metadata": {
        "colab": {
          "base_uri": "https://localhost:8080/"
        },
        "id": "pDZ4pF9N1Pqw",
        "outputId": "051c85a7-70e5-4a2a-d3b5-9f3302a5bdc5"
      },
      "execution_count": 11,
      "outputs": [
        {
          "output_type": "execute_result",
          "data": {
            "text/plain": [
              "Male      2646\n",
              "Female    1764\n",
              "Name: Gender, dtype: int64"
            ]
          },
          "metadata": {},
          "execution_count": 11
        }
      ]
    },
    {
      "cell_type": "code",
      "source": [
        "employee_dataset[\"JobRole\"].value_counts()"
      ],
      "metadata": {
        "colab": {
          "base_uri": "https://localhost:8080/"
        },
        "id": "tYW412KM1S6A",
        "outputId": "3fbd4c94-c7ba-4dc8-86fa-33876cf6c28a"
      },
      "execution_count": 12,
      "outputs": [
        {
          "output_type": "execute_result",
          "data": {
            "text/plain": [
              "Sales Executive              978\n",
              "Research Scientist           876\n",
              "Laboratory Technician        777\n",
              "Manufacturing Director       435\n",
              "Healthcare Representative    393\n",
              "Manager                      306\n",
              "Sales Representative         249\n",
              "Research Director            240\n",
              "Human Resources              156\n",
              "Name: JobRole, dtype: int64"
            ]
          },
          "metadata": {},
          "execution_count": 12
        }
      ]
    },
    {
      "cell_type": "code",
      "source": [
        "employee_dataset[\"MaritalStatus\"].value_counts()"
      ],
      "metadata": {
        "colab": {
          "base_uri": "https://localhost:8080/"
        },
        "id": "9slx3nlv1aY8",
        "outputId": "a53279eb-d830-4dc5-e2ed-3609361f3f52"
      },
      "execution_count": 13,
      "outputs": [
        {
          "output_type": "execute_result",
          "data": {
            "text/plain": [
              "Married     2019\n",
              "Single      1410\n",
              "Divorced     981\n",
              "Name: MaritalStatus, dtype: int64"
            ]
          },
          "metadata": {},
          "execution_count": 13
        }
      ]
    },
    {
      "cell_type": "code",
      "source": [
        "employee_dataset[\"Over18\"].value_counts()"
      ],
      "metadata": {
        "colab": {
          "base_uri": "https://localhost:8080/"
        },
        "id": "SVkOsAJA1aQd",
        "outputId": "f7d37228-1147-422c-8f85-4793000dd657"
      },
      "execution_count": 14,
      "outputs": [
        {
          "output_type": "execute_result",
          "data": {
            "text/plain": [
              "Y    4410\n",
              "Name: Over18, dtype: int64"
            ]
          },
          "metadata": {},
          "execution_count": 14
        }
      ]
    },
    {
      "cell_type": "markdown",
      "source": [
        "Perceba que \"Over18\" é sempre assinalado com \"Y\" (Isto é, todos os trabalhadores têm mais de 18 anos). Então esse dado é irrelevante para o treinamento do modelo.\n",
        "\n",
        "Vamos observar alguns histogramas da distribuição dos dados:"
      ],
      "metadata": {
        "id": "zXNQitUc5O_W"
      }
    },
    {
      "cell_type": "code",
      "source": [
        "%matplotlib inline\n",
        "import matplotlib.pyplot as plt\n",
        "employee_dataset.hist(bins=50, figsize=(20,15))\n",
        "plt.show()"
      ],
      "metadata": {
        "colab": {
          "base_uri": "https://localhost:8080/",
          "height": 716
        },
        "id": "ySskvYAu5mhX",
        "outputId": "e00d8d8e-aecb-4866-c428-8a45e2d5dfdf"
      },
      "execution_count": 15,
      "outputs": [
        {
          "output_type": "display_data",
          "data": {
            "text/plain": [
              "<Figure size 1440x1080 with 16 Axes>"
            ],
            "image/png": "[encoded data removed]"
          },
          "metadata": {
            "needs_background": "light"
          }
        }
      ]
    },
    {
      "cell_type": "markdown",
      "source": [
        "Perceba que os histogramas confirmam o fato das colunas EmployeeCount e StandardHours serem dispensáveis.\n",
        "\n",
        "Uma coluna curiosa é o EmployeeId. É intuitivo pensar que este não é um dado relevante no nosso projeto (em que o número do seu Id interfere no fato da pessoa sair da empresa?), mas mantive ele aí, pois pode estar codificando alguma informação interessante do empregado, dependendo de como esse Id é atribuído a ele pela empresa."
      ],
      "metadata": {
        "id": "HYB896rRKh4c"
      }
    },
    {
      "cell_type": "markdown",
      "source": [
        "# Separação em treino e teste"
      ],
      "metadata": {
        "id": "r_snUUQu7T5_"
      }
    },
    {
      "cell_type": "markdown",
      "source": [
        "Vamos dividir nossos dados em treino e teste, como de costume. Separei 20% do conjunto para teste. A função train_test_split do scikit-learn irá embaralhar os dados."
      ],
      "metadata": {
        "id": "lQR42rDgmpJc"
      }
    },
    {
      "cell_type": "code",
      "source": [
        "from sklearn.model_selection import train_test_split\n",
        "\n",
        "train_set, test_set = train_test_split(employee_dataset, \n",
        "                                       test_size=0.2,\n",
        "                                       random_state=seed)"
      ],
      "metadata": {
        "id": "7-iS8V7cCHqR"
      },
      "execution_count": 16,
      "outputs": []
    },
    {
      "cell_type": "markdown",
      "source": [
        "# Visualização da estrutura dos dados"
      ],
      "metadata": {
        "id": "FRJMfMFzEwnS"
      }
    },
    {
      "cell_type": "markdown",
      "source": [
        "Vamos tentar visualizar algum tipo de estrutura nos nossos dados de treino. Começamos fazendo uma cópia dos dados:"
      ],
      "metadata": {
        "id": "Za9jrC14mykN"
      }
    },
    {
      "cell_type": "code",
      "source": [
        "employee = train_set.copy()\n",
        "  "
      ],
      "metadata": {
        "id": "qesBHy7vFxYa"
      },
      "execution_count": 17,
      "outputs": []
    },
    {
      "cell_type": "markdown",
      "source": [
        "Para visualizar melhor a estrutura dos dados, vamos tirar as colunas numericas \"EmployeeCount\" e \"StandardHours\", que não são informativas. \n",
        "Também vamos adicionar um novo atributo \"Attrition_Num\" que substitui os valores categóricos Yes/No de \"Attrition\" por 1/0, respectivamente. Assim, esses dados irão aparecer na matriz de correlação "
      ],
      "metadata": {
        "id": "RsUlHHqWWTCM"
      }
    },
    {
      "cell_type": "code",
      "source": [
        "\n",
        "employee = employee.drop([\"EmployeeCount\", \"StandardHours\"],axis=1)\n",
        "employee_attrition = []\n",
        "for i in range (employee[\"Attrition\"].size):\n",
        "  if (employee[\"Attrition\"].values[i] == \"Yes\"):\n",
        "    employee_attrition.append(1)\n",
        "  else:\n",
        "    employee_attrition.append(0)\n",
        "employee[\"Attrition_Num\"] = employee_attrition"
      ],
      "metadata": {
        "id": "r7purrQIWRCh"
      },
      "execution_count": 18,
      "outputs": []
    },
    {
      "cell_type": "code",
      "source": [
        "corr_matrix = employee.corr()\n",
        "corr_matrix"
      ],
      "metadata": {
        "colab": {
          "base_uri": "https://localhost:8080/",
          "height": 584
        },
        "id": "fIi-BMhxF7Lc",
        "outputId": "96b4af85-e248-485e-8ac7-a69fd25deda5"
      },
      "execution_count": 19,
      "outputs": [
        {
          "output_type": "execute_result",
          "data": {
            "text/plain": [
              "                              Age  DistanceFromHome  Education  EmployeeID  \\\n",
              "Age                      1.000000          0.005012  -0.034956    0.008858   \n",
              "DistanceFromHome         0.005012          1.000000  -0.012839   -0.003293   \n",
              "Education               -0.034956         -0.012839   1.000000   -0.017178   \n",
              "EmployeeID               0.008858         -0.003293  -0.017178    1.000000   \n",
              "JobLevel                 0.015375         -0.033245   0.050645    0.015803   \n",
              "MonthlyIncome           -0.047349         -0.023709   0.021111    0.022726   \n",
              "NumCompaniesWorked       0.302437         -0.006956  -0.016989   -0.002186   \n",
              "PercentSalaryHike       -0.026457          0.041173  -0.046013   -0.008689   \n",
              "StockOptionLevel        -0.030157         -0.005681   0.006010   -0.009959   \n",
              "TotalWorkingYears        0.682359          0.002171  -0.001942   -0.007386   \n",
              "TrainingTimesLastYear   -0.030997         -0.002813   0.012123   -0.013069   \n",
              "YearsAtCompany           0.303106          0.032059   0.014487    0.003999   \n",
              "YearsSinceLastPromotion  0.219825         -0.004702   0.030365   -0.010705   \n",
              "YearsWithCurrManager     0.199226          0.016723   0.016169    0.003501   \n",
              "Attrition_Num           -0.152932         -0.018214  -0.026517   -0.011147   \n",
              "\n",
              "                         JobLevel  MonthlyIncome  NumCompaniesWorked  \\\n",
              "Age                      0.015375      -0.047349            0.302437   \n",
              "DistanceFromHome        -0.033245      -0.023709           -0.006956   \n",
              "Education                0.050645       0.021111           -0.016989   \n",
              "EmployeeID               0.015803       0.022726           -0.002186   \n",
              "JobLevel                 1.000000       0.048008            0.002620   \n",
              "MonthlyIncome            0.048008       1.000000           -0.029091   \n",
              "NumCompaniesWorked       0.002620      -0.029091            1.000000   \n",
              "PercentSalaryHike        0.010443       0.001796            0.034411   \n",
              "StockOptionLevel        -0.001725       0.026043            0.024839   \n",
              "TotalWorkingYears       -0.032351      -0.038531            0.244347   \n",
              "TrainingTimesLastYear   -0.033479       0.055977           -0.040735   \n",
              "YearsAtCompany          -0.064146      -0.008314           -0.126791   \n",
              "YearsSinceLastPromotion -0.055239       0.049554           -0.052217   \n",
              "YearsWithCurrManager    -0.054015       0.012598           -0.125122   \n",
              "Attrition_Num           -0.001094      -0.033436            0.043830   \n",
              "\n",
              "                         PercentSalaryHike  StockOptionLevel  \\\n",
              "Age                              -0.026457         -0.030157   \n",
              "DistanceFromHome                  0.041173         -0.005681   \n",
              "Education                        -0.046013          0.006010   \n",
              "EmployeeID                       -0.008689         -0.009959   \n",
              "JobLevel                          0.010443         -0.001725   \n",
              "MonthlyIncome                     0.001796          0.026043   \n",
              "NumCompaniesWorked                0.034411          0.024839   \n",
              "PercentSalaryHike                 1.000000          0.012587   \n",
              "StockOptionLevel                  0.012587          1.000000   \n",
              "TotalWorkingYears                -0.020284          0.003859   \n",
              "TrainingTimesLastYear            -0.032221         -0.064317   \n",
              "YearsAtCompany                   -0.035765          0.011166   \n",
              "YearsSinceLastPromotion          -0.030011          0.021446   \n",
              "YearsWithCurrManager             -0.041407          0.025106   \n",
              "Attrition_Num                     0.029474         -0.008809   \n",
              "\n",
              "                         TotalWorkingYears  TrainingTimesLastYear  \\\n",
              "Age                               0.682359              -0.030997   \n",
              "DistanceFromHome                  0.002171              -0.002813   \n",
              "Education                        -0.001942               0.012123   \n",
              "EmployeeID                       -0.007386              -0.013069   \n",
              "JobLevel                         -0.032351              -0.033479   \n",
              "MonthlyIncome                    -0.038531               0.055977   \n",
              "NumCompaniesWorked                0.244347              -0.040735   \n",
              "PercentSalaryHike                -0.020284              -0.032221   \n",
              "StockOptionLevel                  0.003859              -0.064317   \n",
              "TotalWorkingYears                 1.000000              -0.042225   \n",
              "TrainingTimesLastYear            -0.042225               1.000000   \n",
              "YearsAtCompany                    0.619083              -0.009443   \n",
              "YearsSinceLastPromotion           0.401414               0.012418   \n",
              "YearsWithCurrManager              0.451427              -0.021173   \n",
              "Attrition_Num                    -0.167060              -0.035911   \n",
              "\n",
              "                         YearsAtCompany  YearsSinceLastPromotion  \\\n",
              "Age                            0.303106                 0.219825   \n",
              "DistanceFromHome               0.032059                -0.004702   \n",
              "Education                      0.014487                 0.030365   \n",
              "EmployeeID                     0.003999                -0.010705   \n",
              "JobLevel                      -0.064146                -0.055239   \n",
              "MonthlyIncome                 -0.008314                 0.049554   \n",
              "NumCompaniesWorked            -0.126791                -0.052217   \n",
              "PercentSalaryHike             -0.035765                -0.030011   \n",
              "StockOptionLevel               0.011166                 0.021446   \n",
              "TotalWorkingYears              0.619083                 0.401414   \n",
              "TrainingTimesLastYear         -0.009443                 0.012418   \n",
              "YearsAtCompany                 1.000000                 0.621139   \n",
              "YearsSinceLastPromotion        0.621139                 1.000000   \n",
              "YearsWithCurrManager           0.771521                 0.505248   \n",
              "Attrition_Num                 -0.134529                -0.032546   \n",
              "\n",
              "                         YearsWithCurrManager  Attrition_Num  \n",
              "Age                                  0.199226      -0.152932  \n",
              "DistanceFromHome                     0.016723      -0.018214  \n",
              "Education                            0.016169      -0.026517  \n",
              "EmployeeID                           0.003501      -0.011147  \n",
              "JobLevel                            -0.054015      -0.001094  \n",
              "MonthlyIncome                        0.012598      -0.033436  \n",
              "NumCompaniesWorked                  -0.125122       0.043830  \n",
              "PercentSalaryHike                   -0.041407       0.029474  \n",
              "StockOptionLevel                     0.025106      -0.008809  \n",
              "TotalWorkingYears                    0.451427      -0.167060  \n",
              "TrainingTimesLastYear               -0.021173      -0.035911  \n",
              "YearsAtCompany                       0.771521      -0.134529  \n",
              "YearsSinceLastPromotion              0.505248      -0.032546  \n",
              "YearsWithCurrManager                 1.000000      -0.154764  \n",
              "Attrition_Num                       -0.154764       1.000000  "
            ],
            "text/html": [
              "\n",
              "  <div id=\"df-c29f5144-c1b8-4298-9395-f26f50ed2aa0\">\n",
              "    <div class=\"colab-df-container\">\n",
              "      <div>\n",
              "<style scoped>\n",
              "    .dataframe tbody tr th:only-of-type {\n",
              "        vertical-align: middle;\n",
              "    }\n",
              "\n",
              "    .dataframe tbody tr th {\n",
              "        vertical-align: top;\n",
              "    }\n",
              "\n",
              "    .dataframe thead th {\n",
              "        text-align: right;\n",
              "    }\n",
              "</style>\n",
              "<table border=\"1\" class=\"dataframe\">\n",
              "  <thead>\n",
              "    <tr style=\"text-align: right;\">\n",
              "      <th></th>\n",
              "      <th>Age</th>\n",
              "      <th>DistanceFromHome</th>\n",
              "      <th>Education</th>\n",
              "      <th>EmployeeID</th>\n",
              "      <th>JobLevel</th>\n",
              "      <th>MonthlyIncome</th>\n",
              "      <th>NumCompaniesWorked</th>\n",
              "      <th>PercentSalaryHike</th>\n",
              "      <th>StockOptionLevel</th>\n",
              "      <th>TotalWorkingYears</th>\n",
              "      <th>TrainingTimesLastYear</th>\n",
              "      <th>YearsAtCompany</th>\n",
              "      <th>YearsSinceLastPromotion</th>\n",
              "      <th>YearsWithCurrManager</th>\n",
              "      <th>Attrition_Num</th>\n",
              "    </tr>\n",
              "  </thead>\n",
              "  <tbody>\n",
              "    <tr>\n",
              "      <th>Age</th>\n",
              "      <td>1.000000</td>\n",
              "      <td>0.005012</td>\n",
              "      <td>-0.034956</td>\n",
              "      <td>0.008858</td>\n",
              "      <td>0.015375</td>\n",
              "      <td>-0.047349</td>\n",
              "      <td>0.302437</td>\n",
              "      <td>-0.026457</td>\n",
              "      <td>-0.030157</td>\n",
              "      <td>0.682359</td>\n",
              "      <td>-0.030997</td>\n",
              "      <td>0.303106</td>\n",
              "      <td>0.219825</td>\n",
              "      <td>0.199226</td>\n",
              "      <td>-0.152932</td>\n",
              "    </tr>\n",
              "    <tr>\n",
              "      <th>DistanceFromHome</th>\n",
              "      <td>0.005012</td>\n",
              "      <td>1.000000</td>\n",
              "      <td>-0.012839</td>\n",
              "      <td>-0.003293</td>\n",
              "      <td>-0.033245</td>\n",
              "      <td>-0.023709</td>\n",
              "      <td>-0.006956</td>\n",
              "      <td>0.041173</td>\n",
              "      <td>-0.005681</td>\n",
              "      <td>0.002171</td>\n",
              "      <td>-0.002813</td>\n",
              "      <td>0.032059</td>\n",
              "      <td>-0.004702</td>\n",
              "      <td>0.016723</td>\n",
              "      <td>-0.018214</td>\n",
              "    </tr>\n",
              "    <tr>\n",
              "      <th>Education</th>\n",
              "      <td>-0.034956</td>\n",
              "      <td>-0.012839</td>\n",
              "      <td>1.000000</td>\n",
              "      <td>-0.017178</td>\n",
              "      <td>0.050645</td>\n",
              "      <td>0.021111</td>\n",
              "      <td>-0.016989</td>\n",
              "      <td>-0.046013</td>\n",
              "      <td>0.006010</td>\n",
              "      <td>-0.001942</td>\n",
              "      <td>0.012123</td>\n",
              "      <td>0.014487</td>\n",
              "      <td>0.030365</td>\n",
              "      <td>0.016169</td>\n",
              "      <td>-0.026517</td>\n",
              "    </tr>\n",
              "    <tr>\n",
              "      <th>EmployeeID</th>\n",
              "      <td>0.008858</td>\n",
              "      <td>-0.003293</td>\n",
              "      <td>-0.017178</td>\n",
              "      <td>1.000000</td>\n",
              "      <td>0.015803</td>\n",
              "      <td>0.022726</td>\n",
              "      <td>-0.002186</td>\n",
              "      <td>-0.008689</td>\n",
              "      <td>-0.009959</td>\n",
              "      <td>-0.007386</td>\n",
              "      <td>-0.013069</td>\n",
              "      <td>0.003999</td>\n",
              "      <td>-0.010705</td>\n",
              "      <td>0.003501</td>\n",
              "      <td>-0.011147</td>\n",
              "    </tr>\n",
              "    <tr>\n",
              "      <th>JobLevel</th>\n",
              "      <td>0.015375</td>\n",
              "      <td>-0.033245</td>\n",
              "      <td>0.050645</td>\n",
              "      <td>0.015803</td>\n",
              "      <td>1.000000</td>\n",
              "      <td>0.048008</td>\n",
              "      <td>0.002620</td>\n",
              "      <td>0.010443</td>\n",
              "      <td>-0.001725</td>\n",
              "      <td>-0.032351</td>\n",
              "      <td>-0.033479</td>\n",
              "      <td>-0.064146</td>\n",
              "      <td>-0.055239</td>\n",
              "      <td>-0.054015</td>\n",
              "      <td>-0.001094</td>\n",
              "    </tr>\n",
              "    <tr>\n",
              "      <th>MonthlyIncome</th>\n",
              "      <td>-0.047349</td>\n",
              "      <td>-0.023709</td>\n",
              "      <td>0.021111</td>\n",
              "      <td>0.022726</td>\n",
              "      <td>0.048008</td>\n",
              "      <td>1.000000</td>\n",
              "      <td>-0.029091</td>\n",
              "      <td>0.001796</td>\n",
              "      <td>0.026043</td>\n",
              "      <td>-0.038531</td>\n",
              "      <td>0.055977</td>\n",
              "      <td>-0.008314</td>\n",
              "      <td>0.049554</td>\n",
              "      <td>0.012598</td>\n",
              "      <td>-0.033436</td>\n",
              "    </tr>\n",
              "    <tr>\n",
              "      <th>NumCompaniesWorked</th>\n",
              "      <td>0.302437</td>\n",
              "      <td>-0.006956</td>\n",
              "      <td>-0.016989</td>\n",
              "      <td>-0.002186</td>\n",
              "      <td>0.002620</td>\n",
              "      <td>-0.029091</td>\n",
              "      <td>1.000000</td>\n",
              "      <td>0.034411</td>\n",
              "      <td>0.024839</td>\n",
              "      <td>0.244347</td>\n",
              "      <td>-0.040735</td>\n",
              "      <td>-0.126791</td>\n",
              "      <td>-0.052217</td>\n",
              "      <td>-0.125122</td>\n",
              "      <td>0.043830</td>\n",
              "    </tr>\n",
              "    <tr>\n",
              "      <th>PercentSalaryHike</th>\n",
              "      <td>-0.026457</td>\n",
              "      <td>0.041173</td>\n",
              "      <td>-0.046013</td>\n",
              "      <td>-0.008689</td>\n",
              "      <td>0.010443</td>\n",
              "      <td>0.001796</td>\n",
              "      <td>0.034411</td>\n",
              "      <td>1.000000</td>\n",
              "      <td>0.012587</td>\n",
              "      <td>-0.020284</td>\n",
              "      <td>-0.032221</td>\n",
              "      <td>-0.035765</td>\n",
              "      <td>-0.030011</td>\n",
              "      <td>-0.041407</td>\n",
              "      <td>0.029474</td>\n",
              "    </tr>\n",
              "    <tr>\n",
              "      <th>StockOptionLevel</th>\n",
              "      <td>-0.030157</td>\n",
              "      <td>-0.005681</td>\n",
              "      <td>0.006010</td>\n",
              "      <td>-0.009959</td>\n",
              "      <td>-0.001725</td>\n",
              "      <td>0.026043</td>\n",
              "      <td>0.024839</td>\n",
              "      <td>0.012587</td>\n",
              "      <td>1.000000</td>\n",
              "      <td>0.003859</td>\n",
              "      <td>-0.064317</td>\n",
              "      <td>0.011166</td>\n",
              "      <td>0.021446</td>\n",
              "      <td>0.025106</td>\n",
              "      <td>-0.008809</td>\n",
              "    </tr>\n",
              "    <tr>\n",
              "      <th>TotalWorkingYears</th>\n",
              "      <td>0.682359</td>\n",
              "      <td>0.002171</td>\n",
              "      <td>-0.001942</td>\n",
              "      <td>-0.007386</td>\n",
              "      <td>-0.032351</td>\n",
              "      <td>-0.038531</td>\n",
              "      <td>0.244347</td>\n",
              "      <td>-0.020284</td>\n",
              "      <td>0.003859</td>\n",
              "      <td>1.000000</td>\n",
              "      <td>-0.042225</td>\n",
              "      <td>0.619083</td>\n",
              "      <td>0.401414</td>\n",
              "      <td>0.451427</td>\n",
              "      <td>-0.167060</td>\n",
              "    </tr>\n",
              "    <tr>\n",
              "      <th>TrainingTimesLastYear</th>\n",
              "      <td>-0.030997</td>\n",
              "      <td>-0.002813</td>\n",
              "      <td>0.012123</td>\n",
              "      <td>-0.013069</td>\n",
              "      <td>-0.033479</td>\n",
              "      <td>0.055977</td>\n",
              "      <td>-0.040735</td>\n",
              "      <td>-0.032221</td>\n",
              "      <td>-0.064317</td>\n",
              "      <td>-0.042225</td>\n",
              "      <td>1.000000</td>\n",
              "      <td>-0.009443</td>\n",
              "      <td>0.012418</td>\n",
              "      <td>-0.021173</td>\n",
              "      <td>-0.035911</td>\n",
              "    </tr>\n",
              "    <tr>\n",
              "      <th>YearsAtCompany</th>\n",
              "      <td>0.303106</td>\n",
              "      <td>0.032059</td>\n",
              "      <td>0.014487</td>\n",
              "      <td>0.003999</td>\n",
              "      <td>-0.064146</td>\n",
              "      <td>-0.008314</td>\n",
              "      <td>-0.126791</td>\n",
              "      <td>-0.035765</td>\n",
              "      <td>0.011166</td>\n",
              "      <td>0.619083</td>\n",
              "      <td>-0.009443</td>\n",
              "      <td>1.000000</td>\n",
              "      <td>0.621139</td>\n",
              "      <td>0.771521</td>\n",
              "      <td>-0.134529</td>\n",
              "    </tr>\n",
              "    <tr>\n",
              "      <th>YearsSinceLastPromotion</th>\n",
              "      <td>0.219825</td>\n",
              "      <td>-0.004702</td>\n",
              "      <td>0.030365</td>\n",
              "      <td>-0.010705</td>\n",
              "      <td>-0.055239</td>\n",
              "      <td>0.049554</td>\n",
              "      <td>-0.052217</td>\n",
              "      <td>-0.030011</td>\n",
              "      <td>0.021446</td>\n",
              "      <td>0.401414</td>\n",
              "      <td>0.012418</td>\n",
              "      <td>0.621139</td>\n",
              "      <td>1.000000</td>\n",
              "      <td>0.505248</td>\n",
              "      <td>-0.032546</td>\n",
              "    </tr>\n",
              "    <tr>\n",
              "      <th>YearsWithCurrManager</th>\n",
              "      <td>0.199226</td>\n",
              "      <td>0.016723</td>\n",
              "      <td>0.016169</td>\n",
              "      <td>0.003501</td>\n",
              "      <td>-0.054015</td>\n",
              "      <td>0.012598</td>\n",
              "      <td>-0.125122</td>\n",
              "      <td>-0.041407</td>\n",
              "      <td>0.025106</td>\n",
              "      <td>0.451427</td>\n",
              "      <td>-0.021173</td>\n",
              "      <td>0.771521</td>\n",
              "      <td>0.505248</td>\n",
              "      <td>1.000000</td>\n",
              "      <td>-0.154764</td>\n",
              "    </tr>\n",
              "    <tr>\n",
              "      <th>Attrition_Num</th>\n",
              "      <td>-0.152932</td>\n",
              "      <td>-0.018214</td>\n",
              "      <td>-0.026517</td>\n",
              "      <td>-0.011147</td>\n",
              "      <td>-0.001094</td>\n",
              "      <td>-0.033436</td>\n",
              "      <td>0.043830</td>\n",
              "      <td>0.029474</td>\n",
              "      <td>-0.008809</td>\n",
              "      <td>-0.167060</td>\n",
              "      <td>-0.035911</td>\n",
              "      <td>-0.134529</td>\n",
              "      <td>-0.032546</td>\n",
              "      <td>-0.154764</td>\n",
              "      <td>1.000000</td>\n",
              "    </tr>\n",
              "  </tbody>\n",
              "</table>\n",
              "</div>\n",
              "      <button class=\"colab-df-convert\" onclick=\"convertToInteractive('df-c29f5144-c1b8-4298-9395-f26f50ed2aa0')\"\n",
              "              title=\"Convert this dataframe to an interactive table.\"\n",
              "              style=\"display:none;\">\n",
              "        \n",
              "  <svg xmlns=\"http://www.w3.org/2000/svg\" height=\"24px\"viewBox=\"0 0 24 24\"\n",
              "       width=\"24px\">\n",
              "    <path d=\"M0 0h24v24H0V0z\" fill=\"none\"/>\n",
              "    <path d=\"M18.56 5.44l.94 2.06.94-2.06 2.06-.94-2.06-.94-.94-2.06-.94 2.06-2.06.94zm-11 1L8.5 8.5l.94-2.06 2.06-.94-2.06-.94L8.5 2.5l-.94 2.06-2.06.94zm10 10l.94 2.06.94-2.06 2.06-.94-2.06-.94-.94-2.06-.94 2.06-2.06.94z\"/><path d=\"M17.41 7.96l-1.37-1.37c-.4-.4-.92-.59-1.43-.59-.52 0-1.04.2-1.43.59L10.3 9.45l-7.72 7.72c-.78.78-.78 2.05 0 2.83L4 21.41c.39.39.9.59 1.41.59.51 0 1.02-.2 1.41-.59l7.78-7.78 2.81-2.81c.8-.78.8-2.07 0-2.86zM5.41 20L4 18.59l7.72-7.72 1.47 1.35L5.41 20z\"/>\n",
              "  </svg>\n",
              "      </button>\n",
              "      \n",
              "  <style>\n",
              "    .colab-df-container {\n",
              "      display:flex;\n",
              "      flex-wrap:wrap;\n",
              "      gap: 12px;\n",
              "    }\n",
              "\n",
              "    .colab-df-convert {\n",
              "      background-color: #E8F0FE;\n",
              "      border: none;\n",
              "      border-radius: 50%;\n",
              "      cursor: pointer;\n",
              "      display: none;\n",
              "      fill: #1967D2;\n",
              "      height: 32px;\n",
              "      padding: 0 0 0 0;\n",
              "      width: 32px;\n",
              "    }\n",
              "\n",
              "    .colab-df-convert:hover {\n",
              "      background-color: #E2EBFA;\n",
              "      box-shadow: 0px 1px 2px rgba(60, 64, 67, 0.3), 0px 1px 3px 1px rgba(60, 64, 67, 0.15);\n",
              "      fill: #174EA6;\n",
              "    }\n",
              "\n",
              "    [theme=dark] .colab-df-convert {\n",
              "      background-color: #3B4455;\n",
              "      fill: #D2E3FC;\n",
              "    }\n",
              "\n",
              "    [theme=dark] .colab-df-convert:hover {\n",
              "      background-color: #434B5C;\n",
              "      box-shadow: 0px 1px 3px 1px rgba(0, 0, 0, 0.15);\n",
              "      filter: drop-shadow(0px 1px 2px rgba(0, 0, 0, 0.3));\n",
              "      fill: #FFFFFF;\n",
              "    }\n",
              "  </style>\n",
              "\n",
              "      <script>\n",
              "        const buttonEl =\n",
              "          document.querySelector('#df-c29f5144-c1b8-4298-9395-f26f50ed2aa0 button.colab-df-convert');\n",
              "        buttonEl.style.display =\n",
              "          google.colab.kernel.accessAllowed ? 'block' : 'none';\n",
              "\n",
              "        async function convertToInteractive(key) {\n",
              "          const element = document.querySelector('#df-c29f5144-c1b8-4298-9395-f26f50ed2aa0');\n",
              "          const dataTable =\n",
              "            await google.colab.kernel.invokeFunction('convertToInteractive',\n",
              "                                                     [key], {});\n",
              "          if (!dataTable) return;\n",
              "\n",
              "          const docLinkHtml = 'Like what you see? Visit the ' +\n",
              "            '<a target=\"_blank\" href=https://colab.research.google.com/notebooks/data_table.ipynb>data table notebook</a>'\n",
              "            + ' to learn more about interactive tables.';\n",
              "          element.innerHTML = '';\n",
              "          dataTable['output_type'] = 'display_data';\n",
              "          await google.colab.output.renderOutput(dataTable, element);\n",
              "          const docLink = document.createElement('div');\n",
              "          docLink.innerHTML = docLinkHtml;\n",
              "          element.appendChild(docLink);\n",
              "        }\n",
              "      </script>\n",
              "    </div>\n",
              "  </div>\n",
              "  "
            ]
          },
          "metadata": {},
          "execution_count": 19
        }
      ]
    },
    {
      "cell_type": "markdown",
      "source": [
        "Vejamos agora quais features se relacionam mais com a feature Attrition_Num:"
      ],
      "metadata": {
        "id": "HlzNtlwNOj3r"
      }
    },
    {
      "cell_type": "code",
      "source": [
        "\n",
        "corr_matrix[\"Attrition_Num\"].sort_values(ascending=False)"
      ],
      "metadata": {
        "id": "OMLg_6DVGA0J",
        "colab": {
          "base_uri": "https://localhost:8080/"
        },
        "outputId": "745205e2-ee22-4d0a-e4f9-903e7cff7a10"
      },
      "execution_count": 20,
      "outputs": [
        {
          "output_type": "execute_result",
          "data": {
            "text/plain": [
              "Attrition_Num              1.000000\n",
              "NumCompaniesWorked         0.043830\n",
              "PercentSalaryHike          0.029474\n",
              "JobLevel                  -0.001094\n",
              "StockOptionLevel          -0.008809\n",
              "EmployeeID                -0.011147\n",
              "DistanceFromHome          -0.018214\n",
              "Education                 -0.026517\n",
              "YearsSinceLastPromotion   -0.032546\n",
              "MonthlyIncome             -0.033436\n",
              "TrainingTimesLastYear     -0.035911\n",
              "YearsAtCompany            -0.134529\n",
              "Age                       -0.152932\n",
              "YearsWithCurrManager      -0.154764\n",
              "TotalWorkingYears         -0.167060\n",
              "Name: Attrition_Num, dtype: float64"
            ]
          },
          "metadata": {},
          "execution_count": 20
        }
      ]
    },
    {
      "cell_type": "markdown",
      "source": [
        "Perceba que apenas dois parâmetros têm uma correlação positiva com Attrition = Yes, que são NumCompaniesWorked e PercentSalaryHike (este último é curioso, pois intuitivamente se pensaria o contrário). Mas são correlações com valores baixos, ou seja, correlações não muito fortes. Aparantemente, o dado que mais se relaciona o Attrition é o TotalWorkingYears, que influencia o empregado a não abandonar a empresa.\n",
        "\n",
        "Vamos agora investigar os dados categóricos. A função abaixo mostra em gráfico a quantidade de sim/não em \"Attrition\" por categoria, para cada coluna com valor categórico:"
      ],
      "metadata": {
        "id": "kF-f_J7-fzoz"
      }
    },
    {
      "cell_type": "code",
      "source": [
        "def show_number_of_attrition_by_cat(category):\n",
        "  employee_category = employee[category].unique()\n",
        "  employee_category_axis = np.arange(len(employee_category))\n",
        "\n",
        "  yes_category = train_set.loc[employee['Attrition'] == 'Yes'].groupby(category).size()\n",
        "  no_category = train_set.loc[employee['Attrition'] == 'No'].groupby(category).size()\n",
        "\n",
        "  plt.bar(employee_category_axis - 0.2, yes_category, 0.2, label = 'Yes')\n",
        "  plt.bar(employee_category_axis + 0.2, no_category, 0.2, label = 'No')\n",
        "  \n",
        "  plt.xticks(employee_category_axis, employee_category)\n",
        "  plt.xticks(rotation=60, ha=\"right\")\n",
        "  plt.xlabel(category)\n",
        "  plt.ylabel(\"Number of attrition\")\n",
        "  plt.title(\"Number of attrition by \" + category)\n",
        "  plt.legend()\n",
        "  plt.show()\n"
      ],
      "metadata": {
        "id": "4-eR-H8vcEf9"
      },
      "execution_count": 21,
      "outputs": []
    },
    {
      "cell_type": "markdown",
      "source": [
        "Vamos plotar esses gráficos para os parâmetros categóricos:"
      ],
      "metadata": {
        "id": "Jd1NfzyTgE0T"
      }
    },
    {
      "cell_type": "code",
      "source": [
        "show_number_of_attrition_by_cat('BusinessTravel')\n",
        "show_number_of_attrition_by_cat('Department')\n",
        "show_number_of_attrition_by_cat('EducationField')\n",
        "show_number_of_attrition_by_cat('Gender')\n",
        "show_number_of_attrition_by_cat('JobRole')\n",
        "show_number_of_attrition_by_cat('MaritalStatus')"
      ],
      "metadata": {
        "colab": {
          "base_uri": "https://localhost:8080/",
          "height": 1000
        },
        "id": "cXsH_0nidle-",
        "outputId": "9d67e852-af6d-4bf8-aa52-e7357e7250bf"
      },
      "execution_count": 22,
      "outputs": [
        {
          "output_type": "display_data",
          "data": {
            "text/plain": [
              "<Figure size 432x288 with 1 Axes>"
            ],
            "image/png": "[encoded data removed]"
          },
          "metadata": {
            "needs_background": "light"
          }
        },
        {
          "output_type": "display_data",
          "data": {
            "text/plain": [
              "<Figure size 432x288 with 1 Axes>"
            ],
            "image/png": "[encoded data removed]"
          },
          "metadata": {
            "needs_background": "light"
          }
        },
        {
          "output_type": "display_data",
          "data": {
            "text/plain": [
              "<Figure size 432x288 with 1 Axes>"
            ],
            "image/png": "[encoded data removed]"
          },
          "metadata": {
            "needs_background": "light"
          }
        },
        {
          "output_type": "display_data",
          "data": {
            "text/plain": [
              "<Figure size 432x288 with 1 Axes>"
            ],
            "image/png": "[encoded data removed]"
          },
          "metadata": {
            "needs_background": "light"
          }
        },
        {
          "output_type": "display_data",
          "data": {
            "text/plain": [
              "<Figure size 432x288 with 1 Axes>"
            ],
            "image/png": "[encoded data removed]"
          },
          "metadata": {
            "needs_background": "light"
          }
        },
        {
          "output_type": "display_data",
          "data": {
            "text/plain": [
              "<Figure size 432x288 with 1 Axes>"
            ],
            "image/png": "[encoded data removed]"
          },
          "metadata": {
            "needs_background": "light"
          }
        }
      ]
    },
    {
      "cell_type": "markdown",
      "source": [
        "Para ser mais revelador, vamos analisar a proporção de Sim/Não em cada categoria, através de gráficos de barra, que são construídos na função abaixo:"
      ],
      "metadata": {
        "id": "_P6PXEDbgns2"
      }
    },
    {
      "cell_type": "code",
      "source": [
        "def show_proportion_of_attrition_by_cat(category):\n",
        "  employee_category = employee[category].unique()\n",
        "  employee_category_axis = np.arange(len(employee_category))\n",
        "\n",
        "  yes_category = train_set.loc[employee['Attrition'] == 'Yes'].groupby(category).size()\n",
        "  no_category = train_set.loc[employee['Attrition'] == 'No'].groupby(category).size()\n",
        "\n",
        "  proportion = yes_category/no_category\n",
        "\n",
        "  plt.bar(employee_category_axis - 0.2, proportion, 0.2, label = 'Proportion Yes/No')\n",
        "    \n",
        "  plt.xticks(employee_category_axis, employee_category)\n",
        "  plt.xlabel(category)\n",
        "  plt.xticks(rotation=60, ha=\"right\")\n",
        "  plt.ylabel(\"Proportion\")\n",
        "  plt.title(\"Proportion between yes and no in attrition by \" + category)\n",
        "  plt.legend()\n",
        "  plt.show()"
      ],
      "metadata": {
        "id": "yvh_Ru_Wg9nE"
      },
      "execution_count": 23,
      "outputs": []
    },
    {
      "cell_type": "code",
      "source": [
        "show_proportion_of_attrition_by_cat('BusinessTravel')\n",
        "show_proportion_of_attrition_by_cat('Department')\n",
        "show_proportion_of_attrition_by_cat('EducationField')\n",
        "show_proportion_of_attrition_by_cat('Gender')\n",
        "show_proportion_of_attrition_by_cat('JobRole')\n",
        "show_proportion_of_attrition_by_cat('MaritalStatus')"
      ],
      "metadata": {
        "id": "uJ7AiOTmhxyP",
        "colab": {
          "base_uri": "https://localhost:8080/",
          "height": 1000
        },
        "outputId": "03fe880e-1e1e-4d0f-ab06-f3b6d131acda"
      },
      "execution_count": 24,
      "outputs": [
        {
          "output_type": "display_data",
          "data": {
            "text/plain": [
              "<Figure size 432x288 with 1 Axes>"
            ],
            "image/png": "[encoded data removed]"
          },
          "metadata": {
            "needs_background": "light"
          }
        },
        {
          "output_type": "display_data",
          "data": {
            "text/plain": [
              "<Figure size 432x288 with 1 Axes>"
            ],
            "image/png": "[encoded data removed]"
          },
          "metadata": {
            "needs_background": "light"
          }
        },
        {
          "output_type": "display_data",
          "data": {
            "text/plain": [
              "<Figure size 432x288 with 1 Axes>"
            ],
            "image/png": "[encoded data removed]"
          },
          "metadata": {
            "needs_background": "light"
          }
        },
        {
          "output_type": "display_data",
          "data": {
            "text/plain": [
              "<Figure size 432x288 with 1 Axes>"
            ],
            "image/png": "[encoded data removed]"
          },
          "metadata": {
            "needs_background": "light"
          }
        },
        {
          "output_type": "display_data",
          "data": {
            "text/plain": [
              "<Figure size 432x288 with 1 Axes>"
            ],
            "image/png": "[encoded data removed]"
          },
          "metadata": {
            "needs_background": "light"
          }
        },
        {
          "output_type": "display_data",
          "data": {
            "text/plain": [
              "<Figure size 432x288 with 1 Axes>"
            ],
            "image/png": "[encoded data removed]"
          },
          "metadata": {
            "needs_background": "light"
          }
        }
      ]
    },
    {
      "cell_type": "markdown",
      "source": [
        "Analisando esses gráficos, alguns dos dados que parecem ter uma maior correlação com o nível de attrition são:   \n",
        "  - EducationField como Medical;\n",
        "  - Department como Reserach and Development;\n",
        "  - MaritalStatus como Divorced;"
      ],
      "metadata": {
        "id": "tqks0CccjXMQ"
      }
    },
    {
      "cell_type": "markdown",
      "source": [
        "# Feature engenering"
      ],
      "metadata": {
        "id": "s5jQAn_qt3pk"
      }
    },
    {
      "cell_type": "markdown",
      "source": [
        "Vamos adicionar algumas colunas aos nossos dados. A primeira coluna é o tempo médio que o empregado ficou em cada empresa, dado pelo total de tempo trabalhado durante sua vida dividido pelo número de companias em que trabalhou. Esse parâmetro pode tentar simbolizar o perfil de uma pessoa: se for um valor baixo, quer dizer que a pessoa não fica muito tempo nas empresas que trabalha. Se for um valor alto indica que a pessoa geralmente procura por estabilidade. Se trabalhou em 0 companias, coloquei esse valor como zero.\n"
      ],
      "metadata": {
        "id": "iz7BfXSs375S"
      }
    },
    {
      "cell_type": "code",
      "source": [
        "mean_working_time_at_companies  = []\n",
        "for i in range (employee[\"NumCompaniesWorked\"].size):\n",
        "  if (employee[\"NumCompaniesWorked\"].values[i] == 0):\n",
        "    mean_working_time_at_companies.append(0);\n",
        "  else:\n",
        "    mean_working_time_at_companies.append(employee[\"TotalWorkingYears\"].values[i] / employee[\"NumCompaniesWorked\"].values[i])\n",
        "employee[\"MeanWorkingTimeAtCompanies\"] = mean_working_time_at_companies\n",
        "   "
      ],
      "metadata": {
        "id": "31Reu5mB4KLu"
      },
      "execution_count": 25,
      "outputs": []
    },
    {
      "cell_type": "markdown",
      "source": [
        "A próxima feature adicionada representa a fração entre o número de anos desde a última promoção e quantidade de anos na empresa. Um valor alto nessa fração pode indicar que o empregado ficou uma proporção alta de tempo na empresa sem receber aumento, o que, intuitivamente, pode contribuir para que queira sair da empresa. Se está a 0 anos na empresa, este valor é setado para 0."
      ],
      "metadata": {
        "id": "3PhSPHgr98z5"
      }
    },
    {
      "cell_type": "code",
      "source": [
        "fraction_of_years_since_last_promotion  = []\n",
        "for i in range (employee[\"YearsAtCompany\"].size):\n",
        "  if (employee[\"YearsAtCompany\"].values[i] == 0):\n",
        "    fraction_of_years_since_last_promotion.append(0);\n",
        "  else:\n",
        "    fraction_of_years_since_last_promotion.append(employee[\"YearsSinceLastPromotion\"].values[i] / employee[\"YearsAtCompany\"].values[i])\n",
        "employee[\"FractionOfYearsSinceLastPromotion\"] = fraction_of_years_since_last_promotion"
      ],
      "metadata": {
        "id": "mwCS0E_3OsHA"
      },
      "execution_count": 26,
      "outputs": []
    },
    {
      "cell_type": "markdown",
      "source": [
        "A feature seguinte busca representar a fração do tempo de vida do empregado em que ele trabalhou em alguma empresa. Talvez pessoas que passaram uma maior parte de sua vida trabalhando busquem maior estabilidade."
      ],
      "metadata": {
        "id": "n738Gxt3AAh7"
      }
    },
    {
      "cell_type": "code",
      "source": [
        "fraction_of_working_years_in_entire_life = []\n",
        "for i in range (employee[\"Age\"].size):\n",
        "  # if (employee[\"Age\"].values[i] == 0):  Desnecessário uma vez que Age =/= 0 sempre.\n",
        "  #   fraction_of_working_years_in_entire_life.append(0);\n",
        "  # else:\n",
        "  fraction_of_working_years_in_entire_life.append(employee[\"TotalWorkingYears\"].values[i] / employee[\"Age\"].values[i])\n",
        "employee[\"FractionOfWorkingYearsEntireLife\"] = fraction_of_working_years_in_entire_life"
      ],
      "metadata": {
        "id": "7mHn7-9tPHK3"
      },
      "execution_count": 27,
      "outputs": []
    },
    {
      "cell_type": "markdown",
      "source": [
        "Por último, calculo o aumento salarial da pessoa no último ano. Para isso, pego seu salário atual (MonthlyIncome), e utilizo o percentual de aumento salarial do último aluno (PercentSalaryHike) para estimar o aumento recebido no último ano. Perceba que se x era o salário do empregado antes dos aumentos do ano passado, então:\n",
        "  \n",
        "\n",
        "    x*(1 + PercentSalaryHike/100) = MonthlyIncome\n",
        "\n",
        "    x = MonthlyIncome/(1 + PercentSalaryHike/100)\n",
        "\n",
        "\n",
        "Então o aumento salarial é de MonthlyIncome - x, isto é:\n",
        "\n",
        "    salary_hike = MonthlyIncome - MonthlyIncome/(1 + PercentSalaryHike/100)\n",
        "                = MonthlyIncome*(1 - 1/(1 + PercentSalaryHike/100))\n",
        "\n",
        "\n",
        "Essa feature pode ser interessante, pois é possível que o aumento salarial percentual do empregado seja mais ou menos alto, mas o valor bruto seja baixo pois seu salário já era baixo, o que pode desincentivar o empregado a ficar na empresa."
      ],
      "metadata": {
        "id": "El0d-wN9Ao2z"
      }
    },
    {
      "cell_type": "code",
      "source": [
        "salary_hike = []\n",
        "for i in range (employee[\"MonthlyIncome\"].size):\n",
        "  salary_hike.append(employee[\"MonthlyIncome\"].values[i]*(1 - 1/(1 + employee[\"PercentSalaryHike\"].values[i]/100)))\n",
        "employee[\"SalaryHike\"] = salary_hike"
      ],
      "metadata": {
        "id": "6WZVILJ6t2JQ"
      },
      "execution_count": 28,
      "outputs": []
    },
    {
      "cell_type": "markdown",
      "source": [
        "Vejamos agora como essas fetaures se relacionam:"
      ],
      "metadata": {
        "id": "Lq0TaEdzCfQI"
      }
    },
    {
      "cell_type": "code",
      "source": [
        "corr_matrix = employee.corr()\n",
        "corr_matrix"
      ],
      "metadata": {
        "id": "iMJ6cI5w4I_t",
        "colab": {
          "base_uri": "https://localhost:8080/",
          "height": 709
        },
        "outputId": "65ba79aa-dbb7-4bad-bd84-7880c590cc49"
      },
      "execution_count": 29,
      "outputs": [
        {
          "output_type": "execute_result",
          "data": {
            "text/plain": [
              "                                        Age  DistanceFromHome  Education  \\\n",
              "Age                                1.000000          0.005012  -0.034956   \n",
              "DistanceFromHome                   0.005012          1.000000  -0.012839   \n",
              "Education                         -0.034956         -0.012839   1.000000   \n",
              "EmployeeID                         0.008858         -0.003293  -0.017178   \n",
              "JobLevel                           0.015375         -0.033245   0.050645   \n",
              "MonthlyIncome                     -0.047349         -0.023709   0.021111   \n",
              "NumCompaniesWorked                 0.302437         -0.006956  -0.016989   \n",
              "PercentSalaryHike                 -0.026457          0.041173  -0.046013   \n",
              "StockOptionLevel                  -0.030157         -0.005681   0.006010   \n",
              "TotalWorkingYears                  0.682359          0.002171  -0.001942   \n",
              "TrainingTimesLastYear             -0.030997         -0.002813   0.012123   \n",
              "YearsAtCompany                     0.303106          0.032059   0.014487   \n",
              "YearsSinceLastPromotion            0.219825         -0.004702   0.030365   \n",
              "YearsWithCurrManager               0.199226          0.016723   0.016169   \n",
              "Attrition_Num                     -0.152932         -0.018214  -0.026517   \n",
              "MeanWorkingTimeAtCompanies         0.264380          0.011395   0.020804   \n",
              "FractionOfYearsSinceLastPromotion  0.056684         -0.003170   0.003452   \n",
              "FractionOfWorkingYearsEntireLife   0.459045          0.012276   0.016803   \n",
              "SalaryHike                        -0.046523         -0.011409   0.012132   \n",
              "\n",
              "                                   EmployeeID  JobLevel  MonthlyIncome  \\\n",
              "Age                                  0.008858  0.015375      -0.047349   \n",
              "DistanceFromHome                    -0.003293 -0.033245      -0.023709   \n",
              "Education                           -0.017178  0.050645       0.021111   \n",
              "EmployeeID                           1.000000  0.015803       0.022726   \n",
              "JobLevel                             0.015803  1.000000       0.048008   \n",
              "MonthlyIncome                        0.022726  0.048008       1.000000   \n",
              "NumCompaniesWorked                  -0.002186  0.002620      -0.029091   \n",
              "PercentSalaryHike                   -0.008689  0.010443       0.001796   \n",
              "StockOptionLevel                    -0.009959 -0.001725       0.026043   \n",
              "TotalWorkingYears                   -0.007386 -0.032351      -0.038531   \n",
              "TrainingTimesLastYear               -0.013069 -0.033479       0.055977   \n",
              "YearsAtCompany                       0.003999 -0.064146      -0.008314   \n",
              "YearsSinceLastPromotion             -0.010705 -0.055239       0.049554   \n",
              "YearsWithCurrManager                 0.003501 -0.054015       0.012598   \n",
              "Attrition_Num                       -0.011147 -0.001094      -0.033436   \n",
              "MeanWorkingTimeAtCompanies           0.001311 -0.067311      -0.014886   \n",
              "FractionOfYearsSinceLastPromotion   -0.008305 -0.024312       0.049861   \n",
              "FractionOfWorkingYearsEntireLife    -0.010125 -0.042235      -0.024377   \n",
              "SalaryHike                           0.020989  0.040687       0.943411   \n",
              "\n",
              "                                   NumCompaniesWorked  PercentSalaryHike  \\\n",
              "Age                                          0.302437          -0.026457   \n",
              "DistanceFromHome                            -0.006956           0.041173   \n",
              "Education                                   -0.016989          -0.046013   \n",
              "EmployeeID                                  -0.002186          -0.008689   \n",
              "JobLevel                                     0.002620           0.010443   \n",
              "MonthlyIncome                               -0.029091           0.001796   \n",
              "NumCompaniesWorked                           1.000000           0.034411   \n",
              "PercentSalaryHike                            0.034411           1.000000   \n",
              "StockOptionLevel                             0.024839           0.012587   \n",
              "TotalWorkingYears                            0.244347          -0.020284   \n",
              "TrainingTimesLastYear                       -0.040735          -0.032221   \n",
              "YearsAtCompany                              -0.126791          -0.035765   \n",
              "YearsSinceLastPromotion                     -0.052217          -0.030011   \n",
              "YearsWithCurrManager                        -0.125122          -0.041407   \n",
              "Attrition_Num                                0.043830           0.029474   \n",
              "MeanWorkingTimeAtCompanies                  -0.238141          -0.039446   \n",
              "FractionOfYearsSinceLastPromotion            0.013036          -0.017625   \n",
              "FractionOfWorkingYearsEntireLife             0.200651          -0.026340   \n",
              "SalaryHike                                  -0.021360           0.269720   \n",
              "\n",
              "                                   StockOptionLevel  TotalWorkingYears  \\\n",
              "Age                                       -0.030157           0.682359   \n",
              "DistanceFromHome                          -0.005681           0.002171   \n",
              "Education                                  0.006010          -0.001942   \n",
              "EmployeeID                                -0.009959          -0.007386   \n",
              "JobLevel                                  -0.001725          -0.032351   \n",
              "MonthlyIncome                              0.026043          -0.038531   \n",
              "NumCompaniesWorked                         0.024839           0.244347   \n",
              "PercentSalaryHike                          0.012587          -0.020284   \n",
              "StockOptionLevel                           1.000000           0.003859   \n",
              "TotalWorkingYears                          0.003859           1.000000   \n",
              "TrainingTimesLastYear                     -0.064317          -0.042225   \n",
              "YearsAtCompany                             0.011166           0.619083   \n",
              "YearsSinceLastPromotion                    0.021446           0.401414   \n",
              "YearsWithCurrManager                       0.025106           0.451427   \n",
              "Attrition_Num                             -0.008809          -0.167060   \n",
              "MeanWorkingTimeAtCompanies                 0.035287           0.517548   \n",
              "FractionOfYearsSinceLastPromotion         -0.014229           0.050328   \n",
              "FractionOfWorkingYearsEntireLife           0.021194           0.939043   \n",
              "SalaryHike                                 0.028877          -0.032490   \n",
              "\n",
              "                                   TrainingTimesLastYear  YearsAtCompany  \\\n",
              "Age                                            -0.030997        0.303106   \n",
              "DistanceFromHome                               -0.002813        0.032059   \n",
              "Education                                       0.012123        0.014487   \n",
              "EmployeeID                                     -0.013069        0.003999   \n",
              "JobLevel                                       -0.033479       -0.064146   \n",
              "MonthlyIncome                                   0.055977       -0.008314   \n",
              "NumCompaniesWorked                             -0.040735       -0.126791   \n",
              "PercentSalaryHike                              -0.032221       -0.035765   \n",
              "StockOptionLevel                               -0.064317        0.011166   \n",
              "TotalWorkingYears                              -0.042225        0.619083   \n",
              "TrainingTimesLastYear                           1.000000       -0.009443   \n",
              "YearsAtCompany                                 -0.009443        1.000000   \n",
              "YearsSinceLastPromotion                         0.012418        0.621139   \n",
              "YearsWithCurrManager                           -0.021173        0.771521   \n",
              "Attrition_Num                                  -0.035911       -0.134529   \n",
              "MeanWorkingTimeAtCompanies                      0.025005        0.616123   \n",
              "FractionOfYearsSinceLastPromotion              -0.009402        0.076589   \n",
              "FractionOfWorkingYearsEntireLife               -0.033459        0.657347   \n",
              "SalaryHike                                      0.045161       -0.015969   \n",
              "\n",
              "                                   YearsSinceLastPromotion  \\\n",
              "Age                                               0.219825   \n",
              "DistanceFromHome                                 -0.004702   \n",
              "Education                                         0.030365   \n",
              "EmployeeID                                       -0.010705   \n",
              "JobLevel                                         -0.055239   \n",
              "MonthlyIncome                                     0.049554   \n",
              "NumCompaniesWorked                               -0.052217   \n",
              "PercentSalaryHike                                -0.030011   \n",
              "StockOptionLevel                                  0.021446   \n",
              "TotalWorkingYears                                 0.401414   \n",
              "TrainingTimesLastYear                             0.012418   \n",
              "YearsAtCompany                                    0.621139   \n",
              "YearsSinceLastPromotion                           1.000000   \n",
              "YearsWithCurrManager                              0.505248   \n",
              "Attrition_Num                                    -0.032546   \n",
              "MeanWorkingTimeAtCompanies                        0.381636   \n",
              "FractionOfYearsSinceLastPromotion                 0.625285   \n",
              "FractionOfWorkingYearsEntireLife                  0.418150   \n",
              "SalaryHike                                        0.039539   \n",
              "\n",
              "                                   YearsWithCurrManager  Attrition_Num  \\\n",
              "Age                                            0.199226      -0.152932   \n",
              "DistanceFromHome                               0.016723      -0.018214   \n",
              "Education                                      0.016169      -0.026517   \n",
              "EmployeeID                                     0.003501      -0.011147   \n",
              "JobLevel                                      -0.054015      -0.001094   \n",
              "MonthlyIncome                                  0.012598      -0.033436   \n",
              "NumCompaniesWorked                            -0.125122       0.043830   \n",
              "PercentSalaryHike                             -0.041407       0.029474   \n",
              "StockOptionLevel                               0.025106      -0.008809   \n",
              "TotalWorkingYears                              0.451427      -0.167060   \n",
              "TrainingTimesLastYear                         -0.021173      -0.035911   \n",
              "YearsAtCompany                                 0.771521      -0.134529   \n",
              "YearsSinceLastPromotion                        0.505248      -0.032546   \n",
              "YearsWithCurrManager                           1.000000      -0.154764   \n",
              "Attrition_Num                                 -0.154764       1.000000   \n",
              "MeanWorkingTimeAtCompanies                     0.452710      -0.113523   \n",
              "FractionOfYearsSinceLastPromotion              0.124637       0.029594   \n",
              "FractionOfWorkingYearsEntireLife               0.531490      -0.177892   \n",
              "SalaryHike                                     0.006886      -0.028529   \n",
              "\n",
              "                                   MeanWorkingTimeAtCompanies  \\\n",
              "Age                                                  0.264380   \n",
              "DistanceFromHome                                     0.011395   \n",
              "Education                                            0.020804   \n",
              "EmployeeID                                           0.001311   \n",
              "JobLevel                                            -0.067311   \n",
              "MonthlyIncome                                       -0.014886   \n",
              "NumCompaniesWorked                                  -0.238141   \n",
              "PercentSalaryHike                                   -0.039446   \n",
              "StockOptionLevel                                     0.035287   \n",
              "TotalWorkingYears                                    0.517548   \n",
              "TrainingTimesLastYear                                0.025005   \n",
              "YearsAtCompany                                       0.616123   \n",
              "YearsSinceLastPromotion                              0.381636   \n",
              "YearsWithCurrManager                                 0.452710   \n",
              "Attrition_Num                                       -0.113523   \n",
              "MeanWorkingTimeAtCompanies                           1.000000   \n",
              "FractionOfYearsSinceLastPromotion                    0.038486   \n",
              "FractionOfWorkingYearsEntireLife                     0.540304   \n",
              "SalaryHike                                          -0.015201   \n",
              "\n",
              "                                   FractionOfYearsSinceLastPromotion  \\\n",
              "Age                                                         0.056684   \n",
              "DistanceFromHome                                           -0.003170   \n",
              "Education                                                   0.003452   \n",
              "EmployeeID                                                 -0.008305   \n",
              "JobLevel                                                   -0.024312   \n",
              "MonthlyIncome                                               0.049861   \n",
              "NumCompaniesWorked                                          0.013036   \n",
              "PercentSalaryHike                                          -0.017625   \n",
              "StockOptionLevel                                           -0.014229   \n",
              "TotalWorkingYears                                           0.050328   \n",
              "TrainingTimesLastYear                                      -0.009402   \n",
              "YearsAtCompany                                              0.076589   \n",
              "YearsSinceLastPromotion                                     0.625285   \n",
              "YearsWithCurrManager                                        0.124637   \n",
              "Attrition_Num                                               0.029594   \n",
              "MeanWorkingTimeAtCompanies                                  0.038486   \n",
              "FractionOfYearsSinceLastPromotion                           1.000000   \n",
              "FractionOfWorkingYearsEntireLife                            0.039876   \n",
              "SalaryHike                                                  0.047875   \n",
              "\n",
              "                                   FractionOfWorkingYearsEntireLife  \\\n",
              "Age                                                        0.459045   \n",
              "DistanceFromHome                                           0.012276   \n",
              "Education                                                  0.016803   \n",
              "EmployeeID                                                -0.010125   \n",
              "JobLevel                                                  -0.042235   \n",
              "MonthlyIncome                                             -0.024377   \n",
              "NumCompaniesWorked                                         0.200651   \n",
              "PercentSalaryHike                                         -0.026340   \n",
              "StockOptionLevel                                           0.021194   \n",
              "TotalWorkingYears                                          0.939043   \n",
              "TrainingTimesLastYear                                     -0.033459   \n",
              "YearsAtCompany                                             0.657347   \n",
              "YearsSinceLastPromotion                                    0.418150   \n",
              "YearsWithCurrManager                                       0.531490   \n",
              "Attrition_Num                                             -0.177892   \n",
              "MeanWorkingTimeAtCompanies                                 0.540304   \n",
              "FractionOfYearsSinceLastPromotion                          0.039876   \n",
              "FractionOfWorkingYearsEntireLife                           1.000000   \n",
              "SalaryHike                                                -0.020424   \n",
              "\n",
              "                                   SalaryHike  \n",
              "Age                                 -0.046523  \n",
              "DistanceFromHome                    -0.011409  \n",
              "Education                            0.012132  \n",
              "EmployeeID                           0.020989  \n",
              "JobLevel                             0.040687  \n",
              "MonthlyIncome                        0.943411  \n",
              "NumCompaniesWorked                  -0.021360  \n",
              "PercentSalaryHike                    0.269720  \n",
              "StockOptionLevel                     0.028877  \n",
              "TotalWorkingYears                   -0.032490  \n",
              "TrainingTimesLastYear                0.045161  \n",
              "YearsAtCompany                      -0.015969  \n",
              "YearsSinceLastPromotion              0.039539  \n",
              "YearsWithCurrManager                 0.006886  \n",
              "Attrition_Num                       -0.028529  \n",
              "MeanWorkingTimeAtCompanies          -0.015201  \n",
              "FractionOfYearsSinceLastPromotion    0.047875  \n",
              "FractionOfWorkingYearsEntireLife    -0.020424  \n",
              "SalaryHike                           1.000000  "
            ],
            "text/html": [
              "\n",
              "  <div id=\"df-27b86304-5914-42d8-98ba-cbbfef6bc81b\">\n",
              "    <div class=\"colab-df-container\">\n",
              "      <div>\n",
              "<style scoped>\n",
              "    .dataframe tbody tr th:only-of-type {\n",
              "        vertical-align: middle;\n",
              "    }\n",
              "\n",
              "    .dataframe tbody tr th {\n",
              "        vertical-align: top;\n",
              "    }\n",
              "\n",
              "    .dataframe thead th {\n",
              "        text-align: right;\n",
              "    }\n",
              "</style>\n",
              "<table border=\"1\" class=\"dataframe\">\n",
              "  <thead>\n",
              "    <tr style=\"text-align: right;\">\n",
              "      <th></th>\n",
              "      <th>Age</th>\n",
              "      <th>DistanceFromHome</th>\n",
              "      <th>Education</th>\n",
              "      <th>EmployeeID</th>\n",
              "      <th>JobLevel</th>\n",
              "      <th>MonthlyIncome</th>\n",
              "      <th>NumCompaniesWorked</th>\n",
              "      <th>PercentSalaryHike</th>\n",
              "      <th>StockOptionLevel</th>\n",
              "      <th>TotalWorkingYears</th>\n",
              "      <th>TrainingTimesLastYear</th>\n",
              "      <th>YearsAtCompany</th>\n",
              "      <th>YearsSinceLastPromotion</th>\n",
              "      <th>YearsWithCurrManager</th>\n",
              "      <th>Attrition_Num</th>\n",
              "      <th>MeanWorkingTimeAtCompanies</th>\n",
              "      <th>FractionOfYearsSinceLastPromotion</th>\n",
              "      <th>FractionOfWorkingYearsEntireLife</th>\n",
              "      <th>SalaryHike</th>\n",
              "    </tr>\n",
              "  </thead>\n",
              "  <tbody>\n",
              "    <tr>\n",
              "      <th>Age</th>\n",
              "      <td>1.000000</td>\n",
              "      <td>0.005012</td>\n",
              "      <td>-0.034956</td>\n",
              "      <td>0.008858</td>\n",
              "      <td>0.015375</td>\n",
              "      <td>-0.047349</td>\n",
              "      <td>0.302437</td>\n",
              "      <td>-0.026457</td>\n",
              "      <td>-0.030157</td>\n",
              "      <td>0.682359</td>\n",
              "      <td>-0.030997</td>\n",
              "      <td>0.303106</td>\n",
              "      <td>0.219825</td>\n",
              "      <td>0.199226</td>\n",
              "      <td>-0.152932</td>\n",
              "      <td>0.264380</td>\n",
              "      <td>0.056684</td>\n",
              "      <td>0.459045</td>\n",
              "      <td>-0.046523</td>\n",
              "    </tr>\n",
              "    <tr>\n",
              "      <th>DistanceFromHome</th>\n",
              "      <td>0.005012</td>\n",
              "      <td>1.000000</td>\n",
              "      <td>-0.012839</td>\n",
              "      <td>-0.003293</td>\n",
              "      <td>-0.033245</td>\n",
              "      <td>-0.023709</td>\n",
              "      <td>-0.006956</td>\n",
              "      <td>0.041173</td>\n",
              "      <td>-0.005681</td>\n",
              "      <td>0.002171</td>\n",
              "      <td>-0.002813</td>\n",
              "      <td>0.032059</td>\n",
              "      <td>-0.004702</td>\n",
              "      <td>0.016723</td>\n",
              "      <td>-0.018214</td>\n",
              "      <td>0.011395</td>\n",
              "      <td>-0.003170</td>\n",
              "      <td>0.012276</td>\n",
              "      <td>-0.011409</td>\n",
              "    </tr>\n",
              "    <tr>\n",
              "      <th>Education</th>\n",
              "      <td>-0.034956</td>\n",
              "      <td>-0.012839</td>\n",
              "      <td>1.000000</td>\n",
              "      <td>-0.017178</td>\n",
              "      <td>0.050645</td>\n",
              "      <td>0.021111</td>\n",
              "      <td>-0.016989</td>\n",
              "      <td>-0.046013</td>\n",
              "      <td>0.006010</td>\n",
              "      <td>-0.001942</td>\n",
              "      <td>0.012123</td>\n",
              "      <td>0.014487</td>\n",
              "      <td>0.030365</td>\n",
              "      <td>0.016169</td>\n",
              "      <td>-0.026517</td>\n",
              "      <td>0.020804</td>\n",
              "      <td>0.003452</td>\n",
              "      <td>0.016803</td>\n",
              "      <td>0.012132</td>\n",
              "    </tr>\n",
              "    <tr>\n",
              "      <th>EmployeeID</th>\n",
              "      <td>0.008858</td>\n",
              "      <td>-0.003293</td>\n",
              "      <td>-0.017178</td>\n",
              "      <td>1.000000</td>\n",
              "      <td>0.015803</td>\n",
              "      <td>0.022726</td>\n",
              "      <td>-0.002186</td>\n",
              "      <td>-0.008689</td>\n",
              "      <td>-0.009959</td>\n",
              "      <td>-0.007386</td>\n",
              "      <td>-0.013069</td>\n",
              "      <td>0.003999</td>\n",
              "      <td>-0.010705</td>\n",
              "      <td>0.003501</td>\n",
              "      <td>-0.011147</td>\n",
              "      <td>0.001311</td>\n",
              "      <td>-0.008305</td>\n",
              "      <td>-0.010125</td>\n",
              "      <td>0.020989</td>\n",
              "    </tr>\n",
              "    <tr>\n",
              "      <th>JobLevel</th>\n",
              "      <td>0.015375</td>\n",
              "      <td>-0.033245</td>\n",
              "      <td>0.050645</td>\n",
              "      <td>0.015803</td>\n",
              "      <td>1.000000</td>\n",
              "      <td>0.048008</td>\n",
              "      <td>0.002620</td>\n",
              "      <td>0.010443</td>\n",
              "      <td>-0.001725</td>\n",
              "      <td>-0.032351</td>\n",
              "      <td>-0.033479</td>\n",
              "      <td>-0.064146</td>\n",
              "      <td>-0.055239</td>\n",
              "      <td>-0.054015</td>\n",
              "      <td>-0.001094</td>\n",
              "      <td>-0.067311</td>\n",
              "      <td>-0.024312</td>\n",
              "      <td>-0.042235</td>\n",
              "      <td>0.040687</td>\n",
              "    </tr>\n",
              "    <tr>\n",
              "      <th>MonthlyIncome</th>\n",
              "      <td>-0.047349</td>\n",
              "      <td>-0.023709</td>\n",
              "      <td>0.021111</td>\n",
              "      <td>0.022726</td>\n",
              "      <td>0.048008</td>\n",
              "      <td>1.000000</td>\n",
              "      <td>-0.029091</td>\n",
              "      <td>0.001796</td>\n",
              "      <td>0.026043</td>\n",
              "      <td>-0.038531</td>\n",
              "      <td>0.055977</td>\n",
              "      <td>-0.008314</td>\n",
              "      <td>0.049554</td>\n",
              "      <td>0.012598</td>\n",
              "      <td>-0.033436</td>\n",
              "      <td>-0.014886</td>\n",
              "      <td>0.049861</td>\n",
              "      <td>-0.024377</td>\n",
              "      <td>0.943411</td>\n",
              "    </tr>\n",
              "    <tr>\n",
              "      <th>NumCompaniesWorked</th>\n",
              "      <td>0.302437</td>\n",
              "      <td>-0.006956</td>\n",
              "      <td>-0.016989</td>\n",
              "      <td>-0.002186</td>\n",
              "      <td>0.002620</td>\n",
              "      <td>-0.029091</td>\n",
              "      <td>1.000000</td>\n",
              "      <td>0.034411</td>\n",
              "      <td>0.024839</td>\n",
              "      <td>0.244347</td>\n",
              "      <td>-0.040735</td>\n",
              "      <td>-0.126791</td>\n",
              "      <td>-0.052217</td>\n",
              "      <td>-0.125122</td>\n",
              "      <td>0.043830</td>\n",
              "      <td>-0.238141</td>\n",
              "      <td>0.013036</td>\n",
              "      <td>0.200651</td>\n",
              "      <td>-0.021360</td>\n",
              "    </tr>\n",
              "    <tr>\n",
              "      <th>PercentSalaryHike</th>\n",
              "      <td>-0.026457</td>\n",
              "      <td>0.041173</td>\n",
              "      <td>-0.046013</td>\n",
              "      <td>-0.008689</td>\n",
              "      <td>0.010443</td>\n",
              "      <td>0.001796</td>\n",
              "      <td>0.034411</td>\n",
              "      <td>1.000000</td>\n",
              "      <td>0.012587</td>\n",
              "      <td>-0.020284</td>\n",
              "      <td>-0.032221</td>\n",
              "      <td>-0.035765</td>\n",
              "      <td>-0.030011</td>\n",
              "      <td>-0.041407</td>\n",
              "      <td>0.029474</td>\n",
              "      <td>-0.039446</td>\n",
              "      <td>-0.017625</td>\n",
              "      <td>-0.026340</td>\n",
              "      <td>0.269720</td>\n",
              "    </tr>\n",
              "    <tr>\n",
              "      <th>StockOptionLevel</th>\n",
              "      <td>-0.030157</td>\n",
              "      <td>-0.005681</td>\n",
              "      <td>0.006010</td>\n",
              "      <td>-0.009959</td>\n",
              "      <td>-0.001725</td>\n",
              "      <td>0.026043</td>\n",
              "      <td>0.024839</td>\n",
              "      <td>0.012587</td>\n",
              "      <td>1.000000</td>\n",
              "      <td>0.003859</td>\n",
              "      <td>-0.064317</td>\n",
              "      <td>0.011166</td>\n",
              "      <td>0.021446</td>\n",
              "      <td>0.025106</td>\n",
              "      <td>-0.008809</td>\n",
              "      <td>0.035287</td>\n",
              "      <td>-0.014229</td>\n",
              "      <td>0.021194</td>\n",
              "      <td>0.028877</td>\n",
              "    </tr>\n",
              "    <tr>\n",
              "      <th>TotalWorkingYears</th>\n",
              "      <td>0.682359</td>\n",
              "      <td>0.002171</td>\n",
              "      <td>-0.001942</td>\n",
              "      <td>-0.007386</td>\n",
              "      <td>-0.032351</td>\n",
              "      <td>-0.038531</td>\n",
              "      <td>0.244347</td>\n",
              "      <td>-0.020284</td>\n",
              "      <td>0.003859</td>\n",
              "      <td>1.000000</td>\n",
              "      <td>-0.042225</td>\n",
              "      <td>0.619083</td>\n",
              "      <td>0.401414</td>\n",
              "      <td>0.451427</td>\n",
              "      <td>-0.167060</td>\n",
              "      <td>0.517548</td>\n",
              "      <td>0.050328</td>\n",
              "      <td>0.939043</td>\n",
              "      <td>-0.032490</td>\n",
              "    </tr>\n",
              "    <tr>\n",
              "      <th>TrainingTimesLastYear</th>\n",
              "      <td>-0.030997</td>\n",
              "      <td>-0.002813</td>\n",
              "      <td>0.012123</td>\n",
              "      <td>-0.013069</td>\n",
              "      <td>-0.033479</td>\n",
              "      <td>0.055977</td>\n",
              "      <td>-0.040735</td>\n",
              "      <td>-0.032221</td>\n",
              "      <td>-0.064317</td>\n",
              "      <td>-0.042225</td>\n",
              "      <td>1.000000</td>\n",
              "      <td>-0.009443</td>\n",
              "      <td>0.012418</td>\n",
              "      <td>-0.021173</td>\n",
              "      <td>-0.035911</td>\n",
              "      <td>0.025005</td>\n",
              "      <td>-0.009402</td>\n",
              "      <td>-0.033459</td>\n",
              "      <td>0.045161</td>\n",
              "    </tr>\n",
              "    <tr>\n",
              "      <th>YearsAtCompany</th>\n",
              "      <td>0.303106</td>\n",
              "      <td>0.032059</td>\n",
              "      <td>0.014487</td>\n",
              "      <td>0.003999</td>\n",
              "      <td>-0.064146</td>\n",
              "      <td>-0.008314</td>\n",
              "      <td>-0.126791</td>\n",
              "      <td>-0.035765</td>\n",
              "      <td>0.011166</td>\n",
              "      <td>0.619083</td>\n",
              "      <td>-0.009443</td>\n",
              "      <td>1.000000</td>\n",
              "      <td>0.621139</td>\n",
              "      <td>0.771521</td>\n",
              "      <td>-0.134529</td>\n",
              "      <td>0.616123</td>\n",
              "      <td>0.076589</td>\n",
              "      <td>0.657347</td>\n",
              "      <td>-0.015969</td>\n",
              "    </tr>\n",
              "    <tr>\n",
              "      <th>YearsSinceLastPromotion</th>\n",
              "      <td>0.219825</td>\n",
              "      <td>-0.004702</td>\n",
              "      <td>0.030365</td>\n",
              "      <td>-0.010705</td>\n",
              "      <td>-0.055239</td>\n",
              "      <td>0.049554</td>\n",
              "      <td>-0.052217</td>\n",
              "      <td>-0.030011</td>\n",
              "      <td>0.021446</td>\n",
              "      <td>0.401414</td>\n",
              "      <td>0.012418</td>\n",
              "      <td>0.621139</td>\n",
              "      <td>1.000000</td>\n",
              "      <td>0.505248</td>\n",
              "      <td>-0.032546</td>\n",
              "      <td>0.381636</td>\n",
              "      <td>0.625285</td>\n",
              "      <td>0.418150</td>\n",
              "      <td>0.039539</td>\n",
              "    </tr>\n",
              "    <tr>\n",
              "      <th>YearsWithCurrManager</th>\n",
              "      <td>0.199226</td>\n",
              "      <td>0.016723</td>\n",
              "      <td>0.016169</td>\n",
              "      <td>0.003501</td>\n",
              "      <td>-0.054015</td>\n",
              "      <td>0.012598</td>\n",
              "      <td>-0.125122</td>\n",
              "      <td>-0.041407</td>\n",
              "      <td>0.025106</td>\n",
              "      <td>0.451427</td>\n",
              "      <td>-0.021173</td>\n",
              "      <td>0.771521</td>\n",
              "      <td>0.505248</td>\n",
              "      <td>1.000000</td>\n",
              "      <td>-0.154764</td>\n",
              "      <td>0.452710</td>\n",
              "      <td>0.124637</td>\n",
              "      <td>0.531490</td>\n",
              "      <td>0.006886</td>\n",
              "    </tr>\n",
              "    <tr>\n",
              "      <th>Attrition_Num</th>\n",
              "      <td>-0.152932</td>\n",
              "      <td>-0.018214</td>\n",
              "      <td>-0.026517</td>\n",
              "      <td>-0.011147</td>\n",
              "      <td>-0.001094</td>\n",
              "      <td>-0.033436</td>\n",
              "      <td>0.043830</td>\n",
              "      <td>0.029474</td>\n",
              "      <td>-0.008809</td>\n",
              "      <td>-0.167060</td>\n",
              "      <td>-0.035911</td>\n",
              "      <td>-0.134529</td>\n",
              "      <td>-0.032546</td>\n",
              "      <td>-0.154764</td>\n",
              "      <td>1.000000</td>\n",
              "      <td>-0.113523</td>\n",
              "      <td>0.029594</td>\n",
              "      <td>-0.177892</td>\n",
              "      <td>-0.028529</td>\n",
              "    </tr>\n",
              "    <tr>\n",
              "      <th>MeanWorkingTimeAtCompanies</th>\n",
              "      <td>0.264380</td>\n",
              "      <td>0.011395</td>\n",
              "      <td>0.020804</td>\n",
              "      <td>0.001311</td>\n",
              "      <td>-0.067311</td>\n",
              "      <td>-0.014886</td>\n",
              "      <td>-0.238141</td>\n",
              "      <td>-0.039446</td>\n",
              "      <td>0.035287</td>\n",
              "      <td>0.517548</td>\n",
              "      <td>0.025005</td>\n",
              "      <td>0.616123</td>\n",
              "      <td>0.381636</td>\n",
              "      <td>0.452710</td>\n",
              "      <td>-0.113523</td>\n",
              "      <td>1.000000</td>\n",
              "      <td>0.038486</td>\n",
              "      <td>0.540304</td>\n",
              "      <td>-0.015201</td>\n",
              "    </tr>\n",
              "    <tr>\n",
              "      <th>FractionOfYearsSinceLastPromotion</th>\n",
              "      <td>0.056684</td>\n",
              "      <td>-0.003170</td>\n",
              "      <td>0.003452</td>\n",
              "      <td>-0.008305</td>\n",
              "      <td>-0.024312</td>\n",
              "      <td>0.049861</td>\n",
              "      <td>0.013036</td>\n",
              "      <td>-0.017625</td>\n",
              "      <td>-0.014229</td>\n",
              "      <td>0.050328</td>\n",
              "      <td>-0.009402</td>\n",
              "      <td>0.076589</td>\n",
              "      <td>0.625285</td>\n",
              "      <td>0.124637</td>\n",
              "      <td>0.029594</td>\n",
              "      <td>0.038486</td>\n",
              "      <td>1.000000</td>\n",
              "      <td>0.039876</td>\n",
              "      <td>0.047875</td>\n",
              "    </tr>\n",
              "    <tr>\n",
              "      <th>FractionOfWorkingYearsEntireLife</th>\n",
              "      <td>0.459045</td>\n",
              "      <td>0.012276</td>\n",
              "      <td>0.016803</td>\n",
              "      <td>-0.010125</td>\n",
              "      <td>-0.042235</td>\n",
              "      <td>-0.024377</td>\n",
              "      <td>0.200651</td>\n",
              "      <td>-0.026340</td>\n",
              "      <td>0.021194</td>\n",
              "      <td>0.939043</td>\n",
              "      <td>-0.033459</td>\n",
              "      <td>0.657347</td>\n",
              "      <td>0.418150</td>\n",
              "      <td>0.531490</td>\n",
              "      <td>-0.177892</td>\n",
              "      <td>0.540304</td>\n",
              "      <td>0.039876</td>\n",
              "      <td>1.000000</td>\n",
              "      <td>-0.020424</td>\n",
              "    </tr>\n",
              "    <tr>\n",
              "      <th>SalaryHike</th>\n",
              "      <td>-0.046523</td>\n",
              "      <td>-0.011409</td>\n",
              "      <td>0.012132</td>\n",
              "      <td>0.020989</td>\n",
              "      <td>0.040687</td>\n",
              "      <td>0.943411</td>\n",
              "      <td>-0.021360</td>\n",
              "      <td>0.269720</td>\n",
              "      <td>0.028877</td>\n",
              "      <td>-0.032490</td>\n",
              "      <td>0.045161</td>\n",
              "      <td>-0.015969</td>\n",
              "      <td>0.039539</td>\n",
              "      <td>0.006886</td>\n",
              "      <td>-0.028529</td>\n",
              "      <td>-0.015201</td>\n",
              "      <td>0.047875</td>\n",
              "      <td>-0.020424</td>\n",
              "      <td>1.000000</td>\n",
              "    </tr>\n",
              "  </tbody>\n",
              "</table>\n",
              "</div>\n",
              "      <button class=\"colab-df-convert\" onclick=\"convertToInteractive('df-27b86304-5914-42d8-98ba-cbbfef6bc81b')\"\n",
              "              title=\"Convert this dataframe to an interactive table.\"\n",
              "              style=\"display:none;\">\n",
              "        \n",
              "  <svg xmlns=\"http://www.w3.org/2000/svg\" height=\"24px\"viewBox=\"0 0 24 24\"\n",
              "       width=\"24px\">\n",
              "    <path d=\"M0 0h24v24H0V0z\" fill=\"none\"/>\n",
              "    <path d=\"M18.56 5.44l.94 2.06.94-2.06 2.06-.94-2.06-.94-.94-2.06-.94 2.06-2.06.94zm-11 1L8.5 8.5l.94-2.06 2.06-.94-2.06-.94L8.5 2.5l-.94 2.06-2.06.94zm10 10l.94 2.06.94-2.06 2.06-.94-2.06-.94-.94-2.06-.94 2.06-2.06.94z\"/><path d=\"M17.41 7.96l-1.37-1.37c-.4-.4-.92-.59-1.43-.59-.52 0-1.04.2-1.43.59L10.3 9.45l-7.72 7.72c-.78.78-.78 2.05 0 2.83L4 21.41c.39.39.9.59 1.41.59.51 0 1.02-.2 1.41-.59l7.78-7.78 2.81-2.81c.8-.78.8-2.07 0-2.86zM5.41 20L4 18.59l7.72-7.72 1.47 1.35L5.41 20z\"/>\n",
              "  </svg>\n",
              "      </button>\n",
              "      \n",
              "  <style>\n",
              "    .colab-df-container {\n",
              "      display:flex;\n",
              "      flex-wrap:wrap;\n",
              "      gap: 12px;\n",
              "    }\n",
              "\n",
              "    .colab-df-convert {\n",
              "      background-color: #E8F0FE;\n",
              "      border: none;\n",
              "      border-radius: 50%;\n",
              "      cursor: pointer;\n",
              "      display: none;\n",
              "      fill: #1967D2;\n",
              "      height: 32px;\n",
              "      padding: 0 0 0 0;\n",
              "      width: 32px;\n",
              "    }\n",
              "\n",
              "    .colab-df-convert:hover {\n",
              "      background-color: #E2EBFA;\n",
              "      box-shadow: 0px 1px 2px rgba(60, 64, 67, 0.3), 0px 1px 3px 1px rgba(60, 64, 67, 0.15);\n",
              "      fill: #174EA6;\n",
              "    }\n",
              "\n",
              "    [theme=dark] .colab-df-convert {\n",
              "      background-color: #3B4455;\n",
              "      fill: #D2E3FC;\n",
              "    }\n",
              "\n",
              "    [theme=dark] .colab-df-convert:hover {\n",
              "      background-color: #434B5C;\n",
              "      box-shadow: 0px 1px 3px 1px rgba(0, 0, 0, 0.15);\n",
              "      filter: drop-shadow(0px 1px 2px rgba(0, 0, 0, 0.3));\n",
              "      fill: #FFFFFF;\n",
              "    }\n",
              "  </style>\n",
              "\n",
              "      <script>\n",
              "        const buttonEl =\n",
              "          document.querySelector('#df-27b86304-5914-42d8-98ba-cbbfef6bc81b button.colab-df-convert');\n",
              "        buttonEl.style.display =\n",
              "          google.colab.kernel.accessAllowed ? 'block' : 'none';\n",
              "\n",
              "        async function convertToInteractive(key) {\n",
              "          const element = document.querySelector('#df-27b86304-5914-42d8-98ba-cbbfef6bc81b');\n",
              "          const dataTable =\n",
              "            await google.colab.kernel.invokeFunction('convertToInteractive',\n",
              "                                                     [key], {});\n",
              "          if (!dataTable) return;\n",
              "\n",
              "          const docLinkHtml = 'Like what you see? Visit the ' +\n",
              "            '<a target=\"_blank\" href=https://colab.research.google.com/notebooks/data_table.ipynb>data table notebook</a>'\n",
              "            + ' to learn more about interactive tables.';\n",
              "          element.innerHTML = '';\n",
              "          dataTable['output_type'] = 'display_data';\n",
              "          await google.colab.output.renderOutput(dataTable, element);\n",
              "          const docLink = document.createElement('div');\n",
              "          docLink.innerHTML = docLinkHtml;\n",
              "          element.appendChild(docLink);\n",
              "        }\n",
              "      </script>\n",
              "    </div>\n",
              "  </div>\n",
              "  "
            ]
          },
          "metadata": {},
          "execution_count": 29
        }
      ]
    },
    {
      "cell_type": "code",
      "source": [
        "corr_matrix[\"Attrition_Num\"].sort_values(ascending=False)"
      ],
      "metadata": {
        "id": "O6NxkRAL6w_b",
        "colab": {
          "base_uri": "https://localhost:8080/"
        },
        "outputId": "50c07f0a-dcae-405f-92f2-5aa7713e7635"
      },
      "execution_count": 30,
      "outputs": [
        {
          "output_type": "execute_result",
          "data": {
            "text/plain": [
              "Attrition_Num                        1.000000\n",
              "NumCompaniesWorked                   0.043830\n",
              "FractionOfYearsSinceLastPromotion    0.029594\n",
              "PercentSalaryHike                    0.029474\n",
              "JobLevel                            -0.001094\n",
              "StockOptionLevel                    -0.008809\n",
              "EmployeeID                          -0.011147\n",
              "DistanceFromHome                    -0.018214\n",
              "Education                           -0.026517\n",
              "SalaryHike                          -0.028529\n",
              "YearsSinceLastPromotion             -0.032546\n",
              "MonthlyIncome                       -0.033436\n",
              "TrainingTimesLastYear               -0.035911\n",
              "MeanWorkingTimeAtCompanies          -0.113523\n",
              "YearsAtCompany                      -0.134529\n",
              "Age                                 -0.152932\n",
              "YearsWithCurrManager                -0.154764\n",
              "TotalWorkingYears                   -0.167060\n",
              "FractionOfWorkingYearsEntireLife    -0.177892\n",
              "Name: Attrition_Num, dtype: float64"
            ]
          },
          "metadata": {},
          "execution_count": 30
        }
      ]
    },
    {
      "cell_type": "markdown",
      "source": [
        "Perceba que a feature FractionWorkingYearsEntireLife se tornou a feature com maior correlação com o fato da pessoa NÃO sair da empresa.  \n",
        "\n",
        "FractionOfYearsSinceLastPromotion tem correlação (embora baixa) com Attrition, conforme esperado. \n",
        "\n",
        "SalaryHike e MeanWorkingTimeAtCompanies possuem relação negativa com o Attrition, como esperávamos. (Pessoas com maior aumento salarial bruto tendem a ficar na empresa, pessoas cujo tempo médio nas empresas é maior tendem a ficar na empresa). \n",
        "\n",
        "Entretanto, é interessante notar que nenhuma feature tem uma correlação aparente FORTE com o Attrition."
      ],
      "metadata": {
        "id": "X3H8Pt3dCjLF"
      }
    },
    {
      "cell_type": "markdown",
      "source": [
        "# Preparação dos dados"
      ],
      "metadata": {
        "id": "akkETprgFts-"
      }
    },
    {
      "cell_type": "markdown",
      "source": [
        "Vamos reiniciar os dados:"
      ],
      "metadata": {
        "id": "pd51G-zgGUup"
      }
    },
    {
      "cell_type": "code",
      "source": [
        "employee_train_dataset = train_set.drop(\"Attrition\", axis=1)\n",
        "employee_train_labels  = train_set[\"Attrition\"].copy()"
      ],
      "metadata": {
        "id": "Ftgrp_NaERdQ"
      },
      "execution_count": 31,
      "outputs": []
    },
    {
      "cell_type": "markdown",
      "source": [
        "Vamos excluir as colunas irrelevantes para o nosso problema, que são Over18, EmployeeCount e StandardHours, como já foi mencionado. Para isso, criaremos uma classe que dropa as colunas, para, na posterioridade, incluir em um pipeline. \n"
      ],
      "metadata": {
        "id": "pwcoXU1tGSQJ"
      }
    },
    {
      "cell_type": "code",
      "source": [
        "class ColumnDropper():\n",
        "    def __init__(self,columns):\n",
        "        self.columns=columns\n",
        "\n",
        "    def transform(self,X,y=None):\n",
        "        return X.drop(self.columns,axis=1)\n",
        "\n",
        "    def fit(self, X, y=None):\n",
        "        return self "
      ],
      "metadata": {
        "id": "wlEM9tRvMPzs"
      },
      "execution_count": 32,
      "outputs": []
    },
    {
      "cell_type": "markdown",
      "source": [
        "Vamos testar se nossa classe funcionou:"
      ],
      "metadata": {
        "id": "7BZOeGgESuOB"
      }
    },
    {
      "cell_type": "code",
      "source": [
        "columnDropper = ColumnDropper([\"Over18\", \"EmployeeCount\", \"StandardHours\"])\n",
        "X = columnDropper.transform(employee_train_dataset)\n",
        "\n",
        "X.head()"
      ],
      "metadata": {
        "id": "njOqASd7HKbO",
        "colab": {
          "base_uri": "https://localhost:8080/",
          "height": 357
        },
        "outputId": "03eaf97a-c3f4-42d9-fa57-b258a44c09bc"
      },
      "execution_count": 33,
      "outputs": [
        {
          "output_type": "execute_result",
          "data": {
            "text/plain": [
              "      Age     BusinessTravel              Department  DistanceFromHome  \\\n",
              "2578   39         Non-Travel  Research & Development                 8   \n",
              "1014   38      Travel_Rarely  Research & Development                 8   \n",
              "3717   31      Travel_Rarely  Research & Development                16   \n",
              "2813   50  Travel_Frequently  Research & Development                19   \n",
              "3795   32         Non-Travel  Research & Development                10   \n",
              "\n",
              "      Education EducationField  EmployeeID  Gender  JobLevel  \\\n",
              "2578          5        Medical        2579  Female         2   \n",
              "1014          2  Life Sciences        1015  Female         2   \n",
              "3717          4  Life Sciences        3718    Male         3   \n",
              "2813          4  Life Sciences        2814    Male         2   \n",
              "3795          4  Life Sciences        3796  Female         5   \n",
              "\n",
              "                   JobRole MaritalStatus  MonthlyIncome  NumCompaniesWorked  \\\n",
              "2578  Sales Representative       Married         188240                 6.0   \n",
              "1014       Sales Executive       Married          32010                 1.0   \n",
              "3717       Human Resources        Single          42440                 9.0   \n",
              "2813       Sales Executive        Single          53770                 4.0   \n",
              "3795    Research Scientist       Married          23800                 4.0   \n",
              "\n",
              "      PercentSalaryHike  StockOptionLevel  TotalWorkingYears  \\\n",
              "2578                 19                 1               10.0   \n",
              "1014                 11                 1                5.0   \n",
              "3717                 13                 0                8.0   \n",
              "2813                 14                 1               16.0   \n",
              "3795                 13                 0                9.0   \n",
              "\n",
              "      TrainingTimesLastYear  YearsAtCompany  YearsSinceLastPromotion  \\\n",
              "2578                      4               3                        1   \n",
              "1014                      3               5                        0   \n",
              "3717                      3               3                        0   \n",
              "2813                      3               2                        2   \n",
              "3795                      5               6                        1   \n",
              "\n",
              "      YearsWithCurrManager  \n",
              "2578                     2  \n",
              "1014                     4  \n",
              "3717                     2  \n",
              "2813                     1  \n",
              "3795                     2  "
            ],
            "text/html": [
              "\n",
              "  <div id=\"df-97f852db-be17-4040-ba78-1ffaf4dce7d3\">\n",
              "    <div class=\"colab-df-container\">\n",
              "      <div>\n",
              "<style scoped>\n",
              "    .dataframe tbody tr th:only-of-type {\n",
              "        vertical-align: middle;\n",
              "    }\n",
              "\n",
              "    .dataframe tbody tr th {\n",
              "        vertical-align: top;\n",
              "    }\n",
              "\n",
              "    .dataframe thead th {\n",
              "        text-align: right;\n",
              "    }\n",
              "</style>\n",
              "<table border=\"1\" class=\"dataframe\">\n",
              "  <thead>\n",
              "    <tr style=\"text-align: right;\">\n",
              "      <th></th>\n",
              "      <th>Age</th>\n",
              "      <th>BusinessTravel</th>\n",
              "      <th>Department</th>\n",
              "      <th>DistanceFromHome</th>\n",
              "      <th>Education</th>\n",
              "      <th>EducationField</th>\n",
              "      <th>EmployeeID</th>\n",
              "      <th>Gender</th>\n",
              "      <th>JobLevel</th>\n",
              "      <th>JobRole</th>\n",
              "      <th>MaritalStatus</th>\n",
              "      <th>MonthlyIncome</th>\n",
              "      <th>NumCompaniesWorked</th>\n",
              "      <th>PercentSalaryHike</th>\n",
              "      <th>StockOptionLevel</th>\n",
              "      <th>TotalWorkingYears</th>\n",
              "      <th>TrainingTimesLastYear</th>\n",
              "      <th>YearsAtCompany</th>\n",
              "      <th>YearsSinceLastPromotion</th>\n",
              "      <th>YearsWithCurrManager</th>\n",
              "    </tr>\n",
              "  </thead>\n",
              "  <tbody>\n",
              "    <tr>\n",
              "      <th>2578</th>\n",
              "      <td>39</td>\n",
              "      <td>Non-Travel</td>\n",
              "      <td>Research &amp; Development</td>\n",
              "      <td>8</td>\n",
              "      <td>5</td>\n",
              "      <td>Medical</td>\n",
              "      <td>2579</td>\n",
              "      <td>Female</td>\n",
              "      <td>2</td>\n",
              "      <td>Sales Representative</td>\n",
              "      <td>Married</td>\n",
              "      <td>188240</td>\n",
              "      <td>6.0</td>\n",
              "      <td>19</td>\n",
              "      <td>1</td>\n",
              "      <td>10.0</td>\n",
              "      <td>4</td>\n",
              "      <td>3</td>\n",
              "      <td>1</td>\n",
              "      <td>2</td>\n",
              "    </tr>\n",
              "    <tr>\n",
              "      <th>1014</th>\n",
              "      <td>38</td>\n",
              "      <td>Travel_Rarely</td>\n",
              "      <td>Research &amp; Development</td>\n",
              "      <td>8</td>\n",
              "      <td>2</td>\n",
              "      <td>Life Sciences</td>\n",
              "      <td>1015</td>\n",
              "      <td>Female</td>\n",
              "      <td>2</td>\n",
              "      <td>Sales Executive</td>\n",
              "      <td>Married</td>\n",
              "      <td>32010</td>\n",
              "      <td>1.0</td>\n",
              "      <td>11</td>\n",
              "      <td>1</td>\n",
              "      <td>5.0</td>\n",
              "      <td>3</td>\n",
              "      <td>5</td>\n",
              "      <td>0</td>\n",
              "      <td>4</td>\n",
              "    </tr>\n",
              "    <tr>\n",
              "      <th>3717</th>\n",
              "      <td>31</td>\n",
              "      <td>Travel_Rarely</td>\n",
              "      <td>Research &amp; Development</td>\n",
              "      <td>16</td>\n",
              "      <td>4</td>\n",
              "      <td>Life Sciences</td>\n",
              "      <td>3718</td>\n",
              "      <td>Male</td>\n",
              "      <td>3</td>\n",
              "      <td>Human Resources</td>\n",
              "      <td>Single</td>\n",
              "      <td>42440</td>\n",
              "      <td>9.0</td>\n",
              "      <td>13</td>\n",
              "      <td>0</td>\n",
              "      <td>8.0</td>\n",
              "      <td>3</td>\n",
              "      <td>3</td>\n",
              "      <td>0</td>\n",
              "      <td>2</td>\n",
              "    </tr>\n",
              "    <tr>\n",
              "      <th>2813</th>\n",
              "      <td>50</td>\n",
              "      <td>Travel_Frequently</td>\n",
              "      <td>Research &amp; Development</td>\n",
              "      <td>19</td>\n",
              "      <td>4</td>\n",
              "      <td>Life Sciences</td>\n",
              "      <td>2814</td>\n",
              "      <td>Male</td>\n",
              "      <td>2</td>\n",
              "      <td>Sales Executive</td>\n",
              "      <td>Single</td>\n",
              "      <td>53770</td>\n",
              "      <td>4.0</td>\n",
              "      <td>14</td>\n",
              "      <td>1</td>\n",
              "      <td>16.0</td>\n",
              "      <td>3</td>\n",
              "      <td>2</td>\n",
              "      <td>2</td>\n",
              "      <td>1</td>\n",
              "    </tr>\n",
              "    <tr>\n",
              "      <th>3795</th>\n",
              "      <td>32</td>\n",
              "      <td>Non-Travel</td>\n",
              "      <td>Research &amp; Development</td>\n",
              "      <td>10</td>\n",
              "      <td>4</td>\n",
              "      <td>Life Sciences</td>\n",
              "      <td>3796</td>\n",
              "      <td>Female</td>\n",
              "      <td>5</td>\n",
              "      <td>Research Scientist</td>\n",
              "      <td>Married</td>\n",
              "      <td>23800</td>\n",
              "      <td>4.0</td>\n",
              "      <td>13</td>\n",
              "      <td>0</td>\n",
              "      <td>9.0</td>\n",
              "      <td>5</td>\n",
              "      <td>6</td>\n",
              "      <td>1</td>\n",
              "      <td>2</td>\n",
              "    </tr>\n",
              "  </tbody>\n",
              "</table>\n",
              "</div>\n",
              "      <button class=\"colab-df-convert\" onclick=\"convertToInteractive('df-97f852db-be17-4040-ba78-1ffaf4dce7d3')\"\n",
              "              title=\"Convert this dataframe to an interactive table.\"\n",
              "              style=\"display:none;\">\n",
              "        \n",
              "  <svg xmlns=\"http://www.w3.org/2000/svg\" height=\"24px\"viewBox=\"0 0 24 24\"\n",
              "       width=\"24px\">\n",
              "    <path d=\"M0 0h24v24H0V0z\" fill=\"none\"/>\n",
              "    <path d=\"M18.56 5.44l.94 2.06.94-2.06 2.06-.94-2.06-.94-.94-2.06-.94 2.06-2.06.94zm-11 1L8.5 8.5l.94-2.06 2.06-.94-2.06-.94L8.5 2.5l-.94 2.06-2.06.94zm10 10l.94 2.06.94-2.06 2.06-.94-2.06-.94-.94-2.06-.94 2.06-2.06.94z\"/><path d=\"M17.41 7.96l-1.37-1.37c-.4-.4-.92-.59-1.43-.59-.52 0-1.04.2-1.43.59L10.3 9.45l-7.72 7.72c-.78.78-.78 2.05 0 2.83L4 21.41c.39.39.9.59 1.41.59.51 0 1.02-.2 1.41-.59l7.78-7.78 2.81-2.81c.8-.78.8-2.07 0-2.86zM5.41 20L4 18.59l7.72-7.72 1.47 1.35L5.41 20z\"/>\n",
              "  </svg>\n",
              "      </button>\n",
              "      \n",
              "  <style>\n",
              "    .colab-df-container {\n",
              "      display:flex;\n",
              "      flex-wrap:wrap;\n",
              "      gap: 12px;\n",
              "    }\n",
              "\n",
              "    .colab-df-convert {\n",
              "      background-color: #E8F0FE;\n",
              "      border: none;\n",
              "      border-radius: 50%;\n",
              "      cursor: pointer;\n",
              "      display: none;\n",
              "      fill: #1967D2;\n",
              "      height: 32px;\n",
              "      padding: 0 0 0 0;\n",
              "      width: 32px;\n",
              "    }\n",
              "\n",
              "    .colab-df-convert:hover {\n",
              "      background-color: #E2EBFA;\n",
              "      box-shadow: 0px 1px 2px rgba(60, 64, 67, 0.3), 0px 1px 3px 1px rgba(60, 64, 67, 0.15);\n",
              "      fill: #174EA6;\n",
              "    }\n",
              "\n",
              "    [theme=dark] .colab-df-convert {\n",
              "      background-color: #3B4455;\n",
              "      fill: #D2E3FC;\n",
              "    }\n",
              "\n",
              "    [theme=dark] .colab-df-convert:hover {\n",
              "      background-color: #434B5C;\n",
              "      box-shadow: 0px 1px 3px 1px rgba(0, 0, 0, 0.15);\n",
              "      filter: drop-shadow(0px 1px 2px rgba(0, 0, 0, 0.3));\n",
              "      fill: #FFFFFF;\n",
              "    }\n",
              "  </style>\n",
              "\n",
              "      <script>\n",
              "        const buttonEl =\n",
              "          document.querySelector('#df-97f852db-be17-4040-ba78-1ffaf4dce7d3 button.colab-df-convert');\n",
              "        buttonEl.style.display =\n",
              "          google.colab.kernel.accessAllowed ? 'block' : 'none';\n",
              "\n",
              "        async function convertToInteractive(key) {\n",
              "          const element = document.querySelector('#df-97f852db-be17-4040-ba78-1ffaf4dce7d3');\n",
              "          const dataTable =\n",
              "            await google.colab.kernel.invokeFunction('convertToInteractive',\n",
              "                                                     [key], {});\n",
              "          if (!dataTable) return;\n",
              "\n",
              "          const docLinkHtml = 'Like what you see? Visit the ' +\n",
              "            '<a target=\"_blank\" href=https://colab.research.google.com/notebooks/data_table.ipynb>data table notebook</a>'\n",
              "            + ' to learn more about interactive tables.';\n",
              "          element.innerHTML = '';\n",
              "          dataTable['output_type'] = 'display_data';\n",
              "          await google.colab.output.renderOutput(dataTable, element);\n",
              "          const docLink = document.createElement('div');\n",
              "          docLink.innerHTML = docLinkHtml;\n",
              "          element.appendChild(docLink);\n",
              "        }\n",
              "      </script>\n",
              "    </div>\n",
              "  </div>\n",
              "  "
            ]
          },
          "metadata": {},
          "execution_count": 33
        }
      ]
    },
    {
      "cell_type": "markdown",
      "source": [
        "Perceba que funcionou. Vamos agora transformar os dados não-numéricos em dados numéricos. Para o campo Gender (gênero), como temos uma opção binária (Male/Female), podemos usar o OrdinalEncoder:"
      ],
      "metadata": {
        "id": "Sp56FLcvABHC"
      }
    },
    {
      "cell_type": "code",
      "source": [
        "try:\n",
        "    from sklearn.preprocessing import OrdinalEncoder\n",
        "    from sklearn.preprocessing import OneHotEncoder\n",
        "    print(\"Scikit-Learn >= 2.0\")\n",
        "except ImportError:\n",
        "    from future_encoders import OrdinalEncoder # Scikit-Learn < 0.20\n",
        "    from future_encoders import OneHotEncoder # Scikit-Learn < 0.20\n",
        "    print(\"Scikit-Learn antigo\")"
      ],
      "metadata": {
        "id": "ZlUpOBkEXxef",
        "colab": {
          "base_uri": "https://localhost:8080/"
        },
        "outputId": "8d7365fa-360e-4e99-dbfe-c5c7d9c88bf4"
      },
      "execution_count": 34,
      "outputs": [
        {
          "output_type": "stream",
          "name": "stdout",
          "text": [
            "Scikit-Learn >= 2.0\n"
          ]
        }
      ]
    },
    {
      "cell_type": "code",
      "source": [
        "employee_gender = employee_train_dataset[['Gender']]\n",
        "\n",
        "ordinal_encoder = OrdinalEncoder()\n",
        "employee_gender_encoded = ordinal_encoder.fit_transform(employee_gender)\n",
        "\n",
        "employee_gender_encoded[:12]"
      ],
      "metadata": {
        "id": "9ADb7LYVX_nb",
        "colab": {
          "base_uri": "https://localhost:8080/"
        },
        "outputId": "1f221994-ddec-44ef-f6d4-e076f168aca4"
      },
      "execution_count": 35,
      "outputs": [
        {
          "output_type": "execute_result",
          "data": {
            "text/plain": [
              "array([[0.],\n",
              "       [0.],\n",
              "       [1.],\n",
              "       [1.],\n",
              "       [0.],\n",
              "       [1.],\n",
              "       [1.],\n",
              "       [0.],\n",
              "       [1.],\n",
              "       [0.],\n",
              "       [1.],\n",
              "       [0.]])"
            ]
          },
          "metadata": {},
          "execution_count": 35
        }
      ]
    },
    {
      "cell_type": "markdown",
      "source": [
        "Poderíamos tentar usar o OrdinalEnconder também para os dados de BusinessTravel, já que eles são divididos em Non-Travel, Travel_Rarely e Travel_Frequently, o que indica uma progressão. Entretanto, não achei adequado fazer isso pois a escolha de valores (0, 1, 2) para os campos pode ser arbitrária, isto é, talvez Travel_Frequently merecesse receber um valor 4 vezes maior que o Travel_Rarely, ou algo do tipo, por exemplo.\n",
        "\n",
        "As demais colunas (Department, EducationField, JobRole, MaritalStatus) não podem ser ordenadas (pelo menos não claramente) de modo a indicar uma progressão, portanto enumerá-las não faria sentido. Para estas, usaremos o OneHotEncoder, que já fora importado."
      ],
      "metadata": {
        "id": "32pzI7PZY6E6"
      }
    },
    {
      "cell_type": "code",
      "source": [
        "employee_businesstravel = employee_train_dataset[['BusinessTravel']]\n",
        "employee_department = employee_train_dataset[['Department']]\n",
        "employee_educationfield = employee_train_dataset[['EducationField']]\n",
        "employee_jobrole = employee_train_dataset[['JobRole']]\n",
        "employee_maritalstatus = employee_train_dataset[['MaritalStatus']]\n",
        "\n",
        "oneHotEnconder = OneHotEncoder(sparse=False);\n",
        "\n",
        "employee_businesstravel = oneHotEnconder.fit_transform(employee_businesstravel)\n",
        "employee_department = oneHotEnconder.fit_transform(employee_department)\n",
        "employee_educationfield = oneHotEnconder.fit_transform(employee_educationfield)\n",
        "employee_jobrole = oneHotEnconder.fit_transform(employee_jobrole)\n",
        "employee_maritalstatus = oneHotEnconder.fit_transform(employee_maritalstatus)\n",
        "\n",
        "employee_businesstravel"
      ],
      "metadata": {
        "id": "NbnMKmCnaaQb",
        "colab": {
          "base_uri": "https://localhost:8080/"
        },
        "outputId": "a968bb84-c28e-4551-fd82-465e80d1f3c7"
      },
      "execution_count": 36,
      "outputs": [
        {
          "output_type": "execute_result",
          "data": {
            "text/plain": [
              "array([[1., 0., 0.],\n",
              "       [0., 0., 1.],\n",
              "       [0., 0., 1.],\n",
              "       ...,\n",
              "       [0., 0., 1.],\n",
              "       [0., 1., 0.],\n",
              "       [0., 0., 1.]])"
            ]
          },
          "metadata": {},
          "execution_count": 36
        }
      ]
    },
    {
      "cell_type": "markdown",
      "source": [
        "Vamos agora procurar arrumar o problema dos dados nulos. Vamos rever algumas estatísticas das features que possuem dados nulos:"
      ],
      "metadata": {
        "id": "ObZVwZEhaeTm"
      }
    },
    {
      "cell_type": "code",
      "source": [
        "employee_train_dataset[\"NumCompaniesWorked\"].describe()"
      ],
      "metadata": {
        "id": "LRmJuTmaHmJQ",
        "colab": {
          "base_uri": "https://localhost:8080/"
        },
        "outputId": "1cfa5c31-b1ea-4fab-9d9a-9fd6ade547b4"
      },
      "execution_count": 37,
      "outputs": [
        {
          "output_type": "execute_result",
          "data": {
            "text/plain": [
              "count    3514.000000\n",
              "mean        2.686397\n",
              "std         2.485736\n",
              "min         0.000000\n",
              "25%         1.000000\n",
              "50%         2.000000\n",
              "75%         4.000000\n",
              "max         9.000000\n",
              "Name: NumCompaniesWorked, dtype: float64"
            ]
          },
          "metadata": {},
          "execution_count": 37
        }
      ]
    },
    {
      "cell_type": "code",
      "source": [
        "employee_train_dataset[\"TotalWorkingYears\"].describe()"
      ],
      "metadata": {
        "id": "qt40699Aj3z_",
        "colab": {
          "base_uri": "https://localhost:8080/"
        },
        "outputId": "86196b88-3162-4343-947f-a8673633c6cd"
      },
      "execution_count": 38,
      "outputs": [
        {
          "output_type": "execute_result",
          "data": {
            "text/plain": [
              "count    3520.000000\n",
              "mean       11.264205\n",
              "std         7.781111\n",
              "min         0.000000\n",
              "25%         6.000000\n",
              "50%        10.000000\n",
              "75%        15.000000\n",
              "max        40.000000\n",
              "Name: TotalWorkingYears, dtype: float64"
            ]
          },
          "metadata": {},
          "execution_count": 38
        }
      ]
    },
    {
      "cell_type": "code",
      "source": [
        "print(\"NumCompaniesWorked:\")\n",
        "for i in range (9):\n",
        "  print (employee_train_dataset[employee_train_dataset[\"NumCompaniesWorked\"] == i].shape[0])\n",
        "\n",
        "print(\"TotalWorkingYears:\")\n",
        "for i in range (40):\n",
        "  print (employee_train_dataset[employee_train_dataset[\"TotalWorkingYears\"] == i].shape[0])"
      ],
      "metadata": {
        "id": "H09Ua5YkIW7m",
        "colab": {
          "base_uri": "https://localhost:8080/"
        },
        "outputId": "9261345c-7a05-4270-a408-ecaf608c310e"
      },
      "execution_count": 39,
      "outputs": [
        {
          "output_type": "stream",
          "name": "stdout",
          "text": [
            "NumCompaniesWorked:\n",
            "466\n",
            "1245\n",
            "367\n",
            "368\n",
            "331\n",
            "159\n",
            "164\n",
            "178\n",
            "116\n",
            "TotalWorkingYears:\n",
            "27\n",
            "191\n",
            "73\n",
            "98\n",
            "157\n",
            "209\n",
            "306\n",
            "189\n",
            "244\n",
            "232\n",
            "491\n",
            "93\n",
            "109\n",
            "86\n",
            "79\n",
            "94\n",
            "88\n",
            "78\n",
            "63\n",
            "50\n",
            "74\n",
            "75\n",
            "49\n",
            "50\n",
            "43\n",
            "37\n",
            "30\n",
            "16\n",
            "35\n",
            "25\n",
            "19\n",
            "21\n",
            "16\n",
            "21\n",
            "12\n",
            "9\n",
            "16\n",
            "8\n",
            "2\n",
            "0\n"
          ]
        }
      ]
    },
    {
      "cell_type": "markdown",
      "source": [
        "Três estratégias podem ser aplicadas para resolver esse problema: Apagar as linhas com dados nulos, apagar as colunas com dados nulos ou imputar algum dado nessas células nulas.\n",
        "\n",
        "Considerando que apenas NO MÁXIMO 28 linhas possuem dados nulos, de um total de 4410 linhas, exclui-lás se torna uma opção viável.\n",
        "\n",
        "Vamos criar uma classe que elimina as linhas em que as colunas NumCompaniesWorked e TotalWorkingYears estejam com dados faltantes, para usar no pipeline:"
      ],
      "metadata": {
        "id": "CO5OPgiXOzIX"
      }
    },
    {
      "cell_type": "code",
      "source": [
        "class NullRowDropper():\n",
        "    def transform(self,X,y=None):\n",
        "        Y = X.dropna(subset=[\"NumCompaniesWorked\"])\n",
        "        Y = Y.dropna(subset=[\"TotalWorkingYears\"])\n",
        "        return Y\n",
        "\n",
        "    def fit(self, X, y=None):\n",
        "        return self "
      ],
      "metadata": {
        "id": "Eu1NTwpnksFM"
      },
      "execution_count": 40,
      "outputs": []
    },
    {
      "cell_type": "markdown",
      "source": [
        "Vamos ver se realmente funcionou:\n"
      ],
      "metadata": {
        "id": "W8KzGbRbom0M"
      }
    },
    {
      "cell_type": "code",
      "source": [
        "nullRowDropper = NullRowDropper()\n",
        "X = nullRowDropper.transform(employee_train_dataset)"
      ],
      "metadata": {
        "id": "eem_drQEkz7F"
      },
      "execution_count": 41,
      "outputs": []
    },
    {
      "cell_type": "code",
      "source": [
        "X.info()"
      ],
      "metadata": {
        "id": "lEsnIUmnivER",
        "colab": {
          "base_uri": "https://localhost:8080/"
        },
        "outputId": "2b2aa743-0a2e-44ba-dc9a-f5512bff6152"
      },
      "execution_count": 42,
      "outputs": [
        {
          "output_type": "stream",
          "name": "stdout",
          "text": [
            "<class 'pandas.core.frame.DataFrame'>\n",
            "Int64Index: 3506 entries, 2578 to 2064\n",
            "Data columns (total 23 columns):\n",
            " #   Column                   Non-Null Count  Dtype  \n",
            "---  ------                   --------------  -----  \n",
            " 0   Age                      3506 non-null   int64  \n",
            " 1   BusinessTravel           3506 non-null   object \n",
            " 2   Department               3506 non-null   object \n",
            " 3   DistanceFromHome         3506 non-null   int64  \n",
            " 4   Education                3506 non-null   int64  \n",
            " 5   EducationField           3506 non-null   object \n",
            " 6   EmployeeCount            3506 non-null   int64  \n",
            " 7   EmployeeID               3506 non-null   int64  \n",
            " 8   Gender                   3506 non-null   object \n",
            " 9   JobLevel                 3506 non-null   int64  \n",
            " 10  JobRole                  3506 non-null   object \n",
            " 11  MaritalStatus            3506 non-null   object \n",
            " 12  MonthlyIncome            3506 non-null   int64  \n",
            " 13  NumCompaniesWorked       3506 non-null   float64\n",
            " 14  Over18                   3506 non-null   object \n",
            " 15  PercentSalaryHike        3506 non-null   int64  \n",
            " 16  StandardHours            3506 non-null   int64  \n",
            " 17  StockOptionLevel         3506 non-null   int64  \n",
            " 18  TotalWorkingYears        3506 non-null   float64\n",
            " 19  TrainingTimesLastYear    3506 non-null   int64  \n",
            " 20  YearsAtCompany           3506 non-null   int64  \n",
            " 21  YearsSinceLastPromotion  3506 non-null   int64  \n",
            " 22  YearsWithCurrManager     3506 non-null   int64  \n",
            "dtypes: float64(2), int64(14), object(7)\n",
            "memory usage: 657.4+ KB\n"
          ]
        }
      ]
    },
    {
      "cell_type": "markdown",
      "source": [
        "Perfeito, agora não temos mais linhas com dados faltantes.\n",
        "\n",
        "Vamos adicionar agora as colunas trabalhadas na etapa de feature engenering aos nossos dados:"
      ],
      "metadata": {
        "id": "pdKwcEwooDKy"
      }
    },
    {
      "cell_type": "code",
      "source": [
        "class AddExtraFeatures():\n",
        "    def transform(self,X,y=None):\n",
        "\n",
        "      working_years_index, num_companies_index, years_since_last_promotion_index, years_at_company_index, age_index, monthly_income_index, percent_salary_hike_index= [\n",
        "        list(X.columns).index(col)\n",
        "        for col in (\"TotalWorkingYears\", \"NumCompaniesWorked\", \"YearsSinceLastPromotion\", \"YearsAtCompany\", \"Age\", \"MonthlyIncome\", \"PercentSalaryHike\")]\n",
        "\n",
        "      mean_working_time_at_companies  = np.zeros(X.iloc[:, num_companies_index].size);\n",
        "      for i in range (mean_working_time_at_companies.size):\n",
        "        if (X.iloc[i, num_companies_index] == 0):\n",
        "          mean_working_time_at_companies[i] = 0;\n",
        "        else:\n",
        "          mean_working_time_at_companies[i] = X.iloc[i, working_years_index] / X.iloc[i, num_companies_index]\n",
        "\n",
        "      fraction_of_years_since_last_promotion  = np.zeros(X.iloc[:, years_at_company_index].size);\n",
        "      for i in range (fraction_of_years_since_last_promotion.size):\n",
        "        if (X.iloc[i, years_at_company_index] == 0):\n",
        "          fraction_of_years_since_last_promotion[i] = 0;\n",
        "        else:\n",
        "          fraction_of_years_since_last_promotion[i] = X.iloc[i, years_since_last_promotion_index] / X.iloc[i, years_at_company_index]\n",
        "\n",
        "      fraction_of_working_years_in_entire_life  = np.zeros(X.iloc[:, age_index].size);\n",
        "      for i in range (fraction_of_working_years_in_entire_life.size):        \n",
        "          fraction_of_working_years_in_entire_life[i] = X.iloc[i, working_years_index] / X.iloc[i, age_index]\n",
        "\n",
        "      salary_hike = np.zeros(X.iloc[:, age_index].size);\n",
        "      for i in range (salary_hike.size):\n",
        "        salary_hike[i] = X.iloc[i, monthly_income_index]*(1 - 1/(1 + X.iloc[i, percent_salary_hike_index]/100))\n",
        "\n",
        "      return np.c_[X, mean_working_time_at_companies, fraction_of_years_since_last_promotion, fraction_of_working_years_in_entire_life, salary_hike]\n",
        "\n",
        "    def fit(self, X, y=None):\n",
        "        return self "
      ],
      "metadata": {
        "id": "9Y1tDFDVOYD8"
      },
      "execution_count": 43,
      "outputs": []
    },
    {
      "cell_type": "code",
      "source": [
        "addExtraFeatures = AddExtraFeatures()\n",
        "X = addExtraFeatures.transform(employee_train_dataset)"
      ],
      "metadata": {
        "id": "I3NjnULEPe2Y"
      },
      "execution_count": 44,
      "outputs": []
    },
    {
      "cell_type": "code",
      "source": [
        "X = pd.DataFrame(\n",
        "    X,\n",
        "    columns= list(employee_train_dataset.columns) + [\"MeanWorkingYearsAtCompanies\"] + [\"FractionOfYearsSinceLastPromotion\"] + [\"FracionOfWorkingYearsEntireLife\"] + [\"SalaryHike\"],\n",
        "    index=employee_train_dataset.index)\n",
        "\n",
        "X.head()"
      ],
      "metadata": {
        "id": "AUOCoCD2QXq2",
        "colab": {
          "base_uri": "https://localhost:8080/",
          "height": 386
        },
        "outputId": "89de1ec7-8aaf-46d8-ec2b-5cb1b7a8e772"
      },
      "execution_count": 45,
      "outputs": [
        {
          "output_type": "execute_result",
          "data": {
            "text/plain": [
              "     Age     BusinessTravel              Department DistanceFromHome  \\\n",
              "2578  39         Non-Travel  Research & Development                8   \n",
              "1014  38      Travel_Rarely  Research & Development                8   \n",
              "3717  31      Travel_Rarely  Research & Development               16   \n",
              "2813  50  Travel_Frequently  Research & Development               19   \n",
              "3795  32         Non-Travel  Research & Development               10   \n",
              "\n",
              "     Education EducationField EmployeeCount EmployeeID  Gender JobLevel  ...  \\\n",
              "2578         5        Medical             1       2579  Female        2  ...   \n",
              "1014         2  Life Sciences             1       1015  Female        2  ...   \n",
              "3717         4  Life Sciences             1       3718    Male        3  ...   \n",
              "2813         4  Life Sciences             1       2814    Male        2  ...   \n",
              "3795         4  Life Sciences             1       3796  Female        5  ...   \n",
              "\n",
              "     StockOptionLevel TotalWorkingYears TrainingTimesLastYear YearsAtCompany  \\\n",
              "2578                1              10.0                     4              3   \n",
              "1014                1               5.0                     3              5   \n",
              "3717                0               8.0                     3              3   \n",
              "2813                1              16.0                     3              2   \n",
              "3795                0               9.0                     5              6   \n",
              "\n",
              "     YearsSinceLastPromotion YearsWithCurrManager MeanWorkingYearsAtCompanies  \\\n",
              "2578                       1                    2                    1.666667   \n",
              "1014                       0                    4                         5.0   \n",
              "3717                       0                    2                    0.888889   \n",
              "2813                       2                    1                         4.0   \n",
              "3795                       1                    2                        2.25   \n",
              "\n",
              "     FractionOfYearsSinceLastPromotion FracionOfWorkingYearsEntireLife  \\\n",
              "2578                          0.333333                         0.25641   \n",
              "1014                               0.0                        0.131579   \n",
              "3717                               0.0                        0.258065   \n",
              "2813                               1.0                            0.32   \n",
              "3795                          0.166667                         0.28125   \n",
              "\n",
              "       SalaryHike  \n",
              "2578  30055.12605  \n",
              "1014  3172.162162  \n",
              "3717  4882.477876  \n",
              "2813  6603.333333  \n",
              "3795  2738.053097  \n",
              "\n",
              "[5 rows x 27 columns]"
            ],
            "text/html": [
              "\n",
              "  <div id=\"df-4a1d0711-95b5-45bd-8c2d-e320c0804ca7\">\n",
              "    <div class=\"colab-df-container\">\n",
              "      <div>\n",
              "<style scoped>\n",
              "    .dataframe tbody tr th:only-of-type {\n",
              "        vertical-align: middle;\n",
              "    }\n",
              "\n",
              "    .dataframe tbody tr th {\n",
              "        vertical-align: top;\n",
              "    }\n",
              "\n",
              "    .dataframe thead th {\n",
              "        text-align: right;\n",
              "    }\n",
              "</style>\n",
              "<table border=\"1\" class=\"dataframe\">\n",
              "  <thead>\n",
              "    <tr style=\"text-align: right;\">\n",
              "      <th></th>\n",
              "      <th>Age</th>\n",
              "      <th>BusinessTravel</th>\n",
              "      <th>Department</th>\n",
              "      <th>DistanceFromHome</th>\n",
              "      <th>Education</th>\n",
              "      <th>EducationField</th>\n",
              "      <th>EmployeeCount</th>\n",
              "      <th>EmployeeID</th>\n",
              "      <th>Gender</th>\n",
              "      <th>JobLevel</th>\n",
              "      <th>...</th>\n",
              "      <th>StockOptionLevel</th>\n",
              "      <th>TotalWorkingYears</th>\n",
              "      <th>TrainingTimesLastYear</th>\n",
              "      <th>YearsAtCompany</th>\n",
              "      <th>YearsSinceLastPromotion</th>\n",
              "      <th>YearsWithCurrManager</th>\n",
              "      <th>MeanWorkingYearsAtCompanies</th>\n",
              "      <th>FractionOfYearsSinceLastPromotion</th>\n",
              "      <th>FracionOfWorkingYearsEntireLife</th>\n",
              "      <th>SalaryHike</th>\n",
              "    </tr>\n",
              "  </thead>\n",
              "  <tbody>\n",
              "    <tr>\n",
              "      <th>2578</th>\n",
              "      <td>39</td>\n",
              "      <td>Non-Travel</td>\n",
              "      <td>Research &amp; Development</td>\n",
              "      <td>8</td>\n",
              "      <td>5</td>\n",
              "      <td>Medical</td>\n",
              "      <td>1</td>\n",
              "      <td>2579</td>\n",
              "      <td>Female</td>\n",
              "      <td>2</td>\n",
              "      <td>...</td>\n",
              "      <td>1</td>\n",
              "      <td>10.0</td>\n",
              "      <td>4</td>\n",
              "      <td>3</td>\n",
              "      <td>1</td>\n",
              "      <td>2</td>\n",
              "      <td>1.666667</td>\n",
              "      <td>0.333333</td>\n",
              "      <td>0.25641</td>\n",
              "      <td>30055.12605</td>\n",
              "    </tr>\n",
              "    <tr>\n",
              "      <th>1014</th>\n",
              "      <td>38</td>\n",
              "      <td>Travel_Rarely</td>\n",
              "      <td>Research &amp; Development</td>\n",
              "      <td>8</td>\n",
              "      <td>2</td>\n",
              "      <td>Life Sciences</td>\n",
              "      <td>1</td>\n",
              "      <td>1015</td>\n",
              "      <td>Female</td>\n",
              "      <td>2</td>\n",
              "      <td>...</td>\n",
              "      <td>1</td>\n",
              "      <td>5.0</td>\n",
              "      <td>3</td>\n",
              "      <td>5</td>\n",
              "      <td>0</td>\n",
              "      <td>4</td>\n",
              "      <td>5.0</td>\n",
              "      <td>0.0</td>\n",
              "      <td>0.131579</td>\n",
              "      <td>3172.162162</td>\n",
              "    </tr>\n",
              "    <tr>\n",
              "      <th>3717</th>\n",
              "      <td>31</td>\n",
              "      <td>Travel_Rarely</td>\n",
              "      <td>Research &amp; Development</td>\n",
              "      <td>16</td>\n",
              "      <td>4</td>\n",
              "      <td>Life Sciences</td>\n",
              "      <td>1</td>\n",
              "      <td>3718</td>\n",
              "      <td>Male</td>\n",
              "      <td>3</td>\n",
              "      <td>...</td>\n",
              "      <td>0</td>\n",
              "      <td>8.0</td>\n",
              "      <td>3</td>\n",
              "      <td>3</td>\n",
              "      <td>0</td>\n",
              "      <td>2</td>\n",
              "      <td>0.888889</td>\n",
              "      <td>0.0</td>\n",
              "      <td>0.258065</td>\n",
              "      <td>4882.477876</td>\n",
              "    </tr>\n",
              "    <tr>\n",
              "      <th>2813</th>\n",
              "      <td>50</td>\n",
              "      <td>Travel_Frequently</td>\n",
              "      <td>Research &amp; Development</td>\n",
              "      <td>19</td>\n",
              "      <td>4</td>\n",
              "      <td>Life Sciences</td>\n",
              "      <td>1</td>\n",
              "      <td>2814</td>\n",
              "      <td>Male</td>\n",
              "      <td>2</td>\n",
              "      <td>...</td>\n",
              "      <td>1</td>\n",
              "      <td>16.0</td>\n",
              "      <td>3</td>\n",
              "      <td>2</td>\n",
              "      <td>2</td>\n",
              "      <td>1</td>\n",
              "      <td>4.0</td>\n",
              "      <td>1.0</td>\n",
              "      <td>0.32</td>\n",
              "      <td>6603.333333</td>\n",
              "    </tr>\n",
              "    <tr>\n",
              "      <th>3795</th>\n",
              "      <td>32</td>\n",
              "      <td>Non-Travel</td>\n",
              "      <td>Research &amp; Development</td>\n",
              "      <td>10</td>\n",
              "      <td>4</td>\n",
              "      <td>Life Sciences</td>\n",
              "      <td>1</td>\n",
              "      <td>3796</td>\n",
              "      <td>Female</td>\n",
              "      <td>5</td>\n",
              "      <td>...</td>\n",
              "      <td>0</td>\n",
              "      <td>9.0</td>\n",
              "      <td>5</td>\n",
              "      <td>6</td>\n",
              "      <td>1</td>\n",
              "      <td>2</td>\n",
              "      <td>2.25</td>\n",
              "      <td>0.166667</td>\n",
              "      <td>0.28125</td>\n",
              "      <td>2738.053097</td>\n",
              "    </tr>\n",
              "  </tbody>\n",
              "</table>\n",
              "<p>5 rows × 27 columns</p>\n",
              "</div>\n",
              "      <button class=\"colab-df-convert\" onclick=\"convertToInteractive('df-4a1d0711-95b5-45bd-8c2d-e320c0804ca7')\"\n",
              "              title=\"Convert this dataframe to an interactive table.\"\n",
              "              style=\"display:none;\">\n",
              "        \n",
              "  <svg xmlns=\"http://www.w3.org/2000/svg\" height=\"24px\"viewBox=\"0 0 24 24\"\n",
              "       width=\"24px\">\n",
              "    <path d=\"M0 0h24v24H0V0z\" fill=\"none\"/>\n",
              "    <path d=\"M18.56 5.44l.94 2.06.94-2.06 2.06-.94-2.06-.94-.94-2.06-.94 2.06-2.06.94zm-11 1L8.5 8.5l.94-2.06 2.06-.94-2.06-.94L8.5 2.5l-.94 2.06-2.06.94zm10 10l.94 2.06.94-2.06 2.06-.94-2.06-.94-.94-2.06-.94 2.06-2.06.94z\"/><path d=\"M17.41 7.96l-1.37-1.37c-.4-.4-.92-.59-1.43-.59-.52 0-1.04.2-1.43.59L10.3 9.45l-7.72 7.72c-.78.78-.78 2.05 0 2.83L4 21.41c.39.39.9.59 1.41.59.51 0 1.02-.2 1.41-.59l7.78-7.78 2.81-2.81c.8-.78.8-2.07 0-2.86zM5.41 20L4 18.59l7.72-7.72 1.47 1.35L5.41 20z\"/>\n",
              "  </svg>\n",
              "      </button>\n",
              "      \n",
              "  <style>\n",
              "    .colab-df-container {\n",
              "      display:flex;\n",
              "      flex-wrap:wrap;\n",
              "      gap: 12px;\n",
              "    }\n",
              "\n",
              "    .colab-df-convert {\n",
              "      background-color: #E8F0FE;\n",
              "      border: none;\n",
              "      border-radius: 50%;\n",
              "      cursor: pointer;\n",
              "      display: none;\n",
              "      fill: #1967D2;\n",
              "      height: 32px;\n",
              "      padding: 0 0 0 0;\n",
              "      width: 32px;\n",
              "    }\n",
              "\n",
              "    .colab-df-convert:hover {\n",
              "      background-color: #E2EBFA;\n",
              "      box-shadow: 0px 1px 2px rgba(60, 64, 67, 0.3), 0px 1px 3px 1px rgba(60, 64, 67, 0.15);\n",
              "      fill: #174EA6;\n",
              "    }\n",
              "\n",
              "    [theme=dark] .colab-df-convert {\n",
              "      background-color: #3B4455;\n",
              "      fill: #D2E3FC;\n",
              "    }\n",
              "\n",
              "    [theme=dark] .colab-df-convert:hover {\n",
              "      background-color: #434B5C;\n",
              "      box-shadow: 0px 1px 3px 1px rgba(0, 0, 0, 0.15);\n",
              "      filter: drop-shadow(0px 1px 2px rgba(0, 0, 0, 0.3));\n",
              "      fill: #FFFFFF;\n",
              "    }\n",
              "  </style>\n",
              "\n",
              "      <script>\n",
              "        const buttonEl =\n",
              "          document.querySelector('#df-4a1d0711-95b5-45bd-8c2d-e320c0804ca7 button.colab-df-convert');\n",
              "        buttonEl.style.display =\n",
              "          google.colab.kernel.accessAllowed ? 'block' : 'none';\n",
              "\n",
              "        async function convertToInteractive(key) {\n",
              "          const element = document.querySelector('#df-4a1d0711-95b5-45bd-8c2d-e320c0804ca7');\n",
              "          const dataTable =\n",
              "            await google.colab.kernel.invokeFunction('convertToInteractive',\n",
              "                                                     [key], {});\n",
              "          if (!dataTable) return;\n",
              "\n",
              "          const docLinkHtml = 'Like what you see? Visit the ' +\n",
              "            '<a target=\"_blank\" href=https://colab.research.google.com/notebooks/data_table.ipynb>data table notebook</a>'\n",
              "            + ' to learn more about interactive tables.';\n",
              "          element.innerHTML = '';\n",
              "          dataTable['output_type'] = 'display_data';\n",
              "          await google.colab.output.renderOutput(dataTable, element);\n",
              "          const docLink = document.createElement('div');\n",
              "          docLink.innerHTML = docLinkHtml;\n",
              "          element.appendChild(docLink);\n",
              "        }\n",
              "      </script>\n",
              "    </div>\n",
              "  </div>\n",
              "  "
            ]
          },
          "metadata": {},
          "execution_count": 45
        }
      ]
    },
    {
      "cell_type": "markdown",
      "source": [
        "Vamos montar o pipeline. Primeiro, criamos um conjunto de treino sem as linhas nulas. O nullRowDropper não é colocado no pipeline pois também precisamos dropar as linhas nulas nos labels.\n",
        "\n",
        "Depois salvamos os labels e os dados."
      ],
      "metadata": {
        "id": "z5PINmQNPdPx"
      }
    },
    {
      "cell_type": "code",
      "source": [
        "nullRowDropper = NullRowDropper()\n",
        "without_null_train_set = nullRowDropper.transform(train_set)\n",
        "\n",
        "employee_train_dataset = without_null_train_set.drop(\"Attrition\", axis=1)\n",
        "employee_train_labels  = without_null_train_set[\"Attrition\"].copy()"
      ],
      "metadata": {
        "id": "qPTyO-hODMY-"
      },
      "execution_count": 46,
      "outputs": []
    },
    {
      "cell_type": "markdown",
      "source": [
        "Agora, vamos de fato montar o pipeline. Comecemos pelo pipeline numérico. Para isso, criamos uma variável \"employee_num\" que retira os dados categóricos. Nele, implementamos o ColumnDropper, o AddExtraFeatures e o standardScaler para escalonar os dados"
      ],
      "metadata": {
        "id": "LuC0nQMqDj1P"
      }
    },
    {
      "cell_type": "code",
      "source": [
        "\n",
        "\n",
        "employee_num = employee_train_dataset.drop('Gender', axis=1)\n",
        "employee_num = employee_num.drop('BusinessTravel', axis=1)\n",
        "employee_num = employee_num.drop('Department', axis=1)\n",
        "employee_num = employee_num.drop('EducationField', axis=1)\n",
        "employee_num = employee_num.drop('JobRole', axis=1)\n",
        "employee_num = employee_num.drop('MaritalStatus', axis=1)\n",
        "\n",
        "from sklearn.pipeline import Pipeline\n",
        "from sklearn.preprocessing import StandardScaler \n",
        "\n",
        "num_pipeline = Pipeline([\n",
        "        ('columnDropper', ColumnDropper([\"Over18\", \"EmployeeCount\", \"StandardHours\"])),\n",
        "        ('addExtraFeatures', AddExtraFeatures()),\n",
        "        ('standardScaler', StandardScaler()),\n",
        "    ])\n",
        "\n",
        "employee_num_transformed = num_pipeline.fit_transform(employee_num)"
      ],
      "metadata": {
        "id": "6vCtfgbIprDq"
      },
      "execution_count": 47,
      "outputs": []
    },
    {
      "cell_type": "markdown",
      "source": [
        "Agora, iremos criar o pipeline completo, que consiste do pipeline numérico e dos codificadores das features categóricas."
      ],
      "metadata": {
        "id": "JLVfsCERD808"
      }
    },
    {
      "cell_type": "code",
      "source": [
        "try:\n",
        "    from sklearn.compose import ColumnTransformer\n",
        "except ImportError:\n",
        "    from future_encoders import ColumnTransformer # Scikit-Learn < 0.20\n",
        "\n",
        "numerical_attributes = list(employee_num)\n",
        "ordinal_attribs = [\"Gender\"]\n",
        "one_hot_attribs = [\"BusinessTravel\", \"Department\", \"EducationField\", \"JobRole\", \"MaritalStatus\"]\n",
        "\n",
        "full_pipeline = ColumnTransformer([\n",
        "        (\"num\", num_pipeline, numerical_attributes), \n",
        "        (\"ordinal_encoder\", OrdinalEncoder(), ordinal_attribs),\n",
        "        (\"one_hot_encoder\", OneHotEncoder(), one_hot_attribs),\n",
        "    ]) \n",
        "\n",
        "employee_prepared = full_pipeline.fit_transform(employee_train_dataset)"
      ],
      "metadata": {
        "id": "zpuNc0PCzik-"
      },
      "execution_count": 48,
      "outputs": []
    },
    {
      "cell_type": "markdown",
      "source": [
        "Temos o pipeline pronto."
      ],
      "metadata": {
        "id": "gyaUBpktEWOC"
      }
    },
    {
      "cell_type": "markdown",
      "source": [
        "# Selecionar modelo"
      ],
      "metadata": {
        "id": "75hhElWgU3kn"
      }
    },
    {
      "cell_type": "markdown",
      "source": [
        "Vamos agora partir para a etapa de seleção de modelo. Primeiro, vamos preparar os labels, transformando Yes em 1 e No em 0:"
      ],
      "metadata": {
        "id": "CnVHUMmSEZqz"
      }
    },
    {
      "cell_type": "code",
      "source": [
        "employee_prepared_labels = []\n",
        "for i in range (employee_train_labels.size):\n",
        "  if (employee_train_labels.values[i] == \"Yes\"):\n",
        "    employee_prepared_labels.append(1)\n",
        "  else:\n",
        "    employee_prepared_labels.append(0)"
      ],
      "metadata": {
        "id": "7wK_vQamU6_P"
      },
      "execution_count": 49,
      "outputs": []
    },
    {
      "cell_type": "markdown",
      "source": [
        "Agora vamos efetivamente fazer a seleção do modelo. Utilizaremos o gradiente estocástico. É um método interessante para os tipos de modelos que serão usados pois a aleatoriedade (estocástico) diminui os riscos de encontrarmos um plateau ou um mínimo local.\n",
        "\n",
        "Para selecionar os hiperparâmetros, utilizaremos o GridSearchCV. Para o gradiente estocástico, treinaremos com dois parâmetros de loss: log (regressão logística) e hinge (SVM). Consideraremos três tipos de penalidade: l1 (regressão de Lasso), l2 (regressão de Ridge) e elasticnet (que é uma combinação linear de l1 e l2).\n",
        "\n",
        "O parâmetro alpha será testado com os valores \"1e-4, 1e-3, 1e-2, 1e-1, 1\".\n",
        "\n",
        "Poderíamos treinar outros modelos também. Dois principais candidatos seriam o kNN e o RandomForest. Como o conjunto de dados é relativamente pequeno (4410 linhas), o modelo RandomForest pode ser arriscado pois ele tende a um maior sobreajuste, e isso somado ao tamanho da amostra pode deixar o nosso modelo enviésado. O kNN não se associa a probabilidades, que é um requisito do nosso problema, por isso fora dispensado.\n",
        "\n",
        "O GridSearchCV faz um CrossValidation. Passaremos cv=10 para que seja realizado um CrossValidation com 10 folds. O parâmetro verbose=15 apenas indica a quantidade de mensagens informativas a serem printadas, e o parâmetro n_jobs = -1 indica que o modelo deve usar todos os cores do computador.\n",
        "\n",
        "Para o scoring, optei por usar o recall. O recall diminui o número de falsos negativos, isso é, o número de pessoas que sairiam da empresa (Attrition = Yes) mas foram classificadas erroneamente (classificadas como No). Achei esse score mais interessante pois, como mencionado, há um custo alto ao contratar uma pessoa que sai da empresa, então o modelo deve evitar ao máximo fazer isso. Além disso, como todo ano pessoas são recontratadas (15% da empresa), aparantemente há uma grande quantidade de pessoas no mercado de trabalho que estão disponíveis. Devido a isso, é interessante correr o risco de deixar de contratar uma pessoa que não vai sair da empresa, já que temos várias opções no mercado, visando o menor risco de contratar alguém que efetivamente vai sair da empresa."
      ],
      "metadata": {
        "id": "tmkK-mPnz6wH"
      }
    },
    {
      "cell_type": "code",
      "source": [
        "from sklearn.linear_model import SGDClassifier \n",
        "from sklearn.model_selection import GridSearchCV\n",
        "from sklearn.pipeline import Pipeline #Para criar um pipeline!\n",
        "from sklearn.preprocessing import StandardScaler\n",
        "\n",
        "pipe = Pipeline([('std_scaler', StandardScaler()),\n",
        "                 ('estimator', SGDClassifier(max_iter = 1000, random_state=31))\n",
        "             ]) #O nosso modelo passará pelo std_scaler e depois pelo estimador\n",
        "\n",
        "param_grid = [{'estimator__penalty' : ['l1'],\n",
        "               'estimator__loss' : ['hinge', 'log'],\n",
        "               'estimator__alpha': [1e-4, 1e-3, 1e-2, 1e-1, 1],\n",
        "               }, \n",
        "              {'estimator__penalty' : ['l2'],\n",
        "               'estimator__loss' : ['hinge', 'log'],\n",
        "               'estimator__alpha': [1e-4, 1e-3, 1e-2, 1e-1, 1],\n",
        "               },\n",
        "               {'estimator__penalty' : ['elasticnet'],\n",
        "               'estimator__loss' : ['hinge', 'log'],\n",
        "               'estimator__alpha': [1e-4, 1e-3, 1e-2, 1e-1, 1],\n",
        "               }\n",
        "              ] \n",
        "\n",
        "grid_search = GridSearchCV(pipe, param_grid, cv=10, verbose=15, n_jobs=-1, scoring='recall')\n",
        "grid_search.fit(employee_prepared, employee_prepared_labels)"
      ],
      "metadata": {
        "id": "5SCjBguXm5IA",
        "colab": {
          "base_uri": "https://localhost:8080/"
        },
        "outputId": "319177b1-abfd-4b5e-d539-71ab836a647c"
      },
      "execution_count": 50,
      "outputs": [
        {
          "output_type": "stream",
          "name": "stdout",
          "text": [
            "Fitting 10 folds for each of 30 candidates, totalling 300 fits\n"
          ]
        },
        {
          "output_type": "execute_result",
          "data": {
            "text/plain": [
              "GridSearchCV(cv=10,\n",
              "             estimator=Pipeline(steps=[('std_scaler', StandardScaler()),\n",
              "                                       ('estimator',\n",
              "                                        SGDClassifier(random_state=31))]),\n",
              "             n_jobs=-1,\n",
              "             param_grid=[{'estimator__alpha': [0.0001, 0.001, 0.01, 0.1, 1],\n",
              "                          'estimator__loss': ['hinge', 'log'],\n",
              "                          'estimator__penalty': ['l1']},\n",
              "                         {'estimator__alpha': [0.0001, 0.001, 0.01, 0.1, 1],\n",
              "                          'estimator__loss': ['hinge', 'log'],\n",
              "                          'estimator__penalty': ['l2']},\n",
              "                         {'estimator__alpha': [0.0001, 0.001, 0.01, 0.1, 1],\n",
              "                          'estimator__loss': ['hinge', 'log'],\n",
              "                          'estimator__penalty': ['elasticnet']}],\n",
              "             scoring='recall', verbose=15)"
            ]
          },
          "metadata": {},
          "execution_count": 50
        }
      ]
    },
    {
      "cell_type": "markdown",
      "source": [
        "Vamos observar os resultados:"
      ],
      "metadata": {
        "id": "szKA563NLC63"
      }
    },
    {
      "cell_type": "code",
      "source": [
        "results = pd.concat([pd.DataFrame(grid_search.cv_results_[\"params\"]),\n",
        "                     pd.DataFrame(grid_search.cv_results_['std_test_score'], \n",
        "                                  columns=[\"Std\"]),\n",
        "                     pd.DataFrame(grid_search.cv_results_[\"mean_test_score\"], \n",
        "                                  columns=[\"Score\"])],axis=1)\n",
        "\n",
        "results.sort_values(\"Score\", ascending=False) #Ordenamento decrescente"
      ],
      "metadata": {
        "id": "j9aUzuEJnIWF",
        "colab": {
          "base_uri": "https://localhost:8080/",
          "height": 990
        },
        "outputId": "f9cabd77-02bc-4c71-986b-c57c81af28b1"
      },
      "execution_count": 51,
      "outputs": [
        {
          "output_type": "execute_result",
          "data": {
            "text/plain": [
              "    estimator__alpha estimator__loss estimator__penalty       Std     Score\n",
              "10            0.0001           hinge                 l2  0.110700  0.194518\n",
              "11            0.0001             log                 l2  0.092993  0.174718\n",
              "13            0.0010             log                 l2  0.063899  0.159430\n",
              "1             0.0001             log                 l1  0.064930  0.148434\n",
              "21            0.0001             log         elasticnet  0.071250  0.134524\n",
              "23            0.0010             log         elasticnet  0.062497  0.133020\n",
              "3             0.0010             log                 l1  0.054324  0.125909\n",
              "20            0.0001           hinge         elasticnet  0.132566  0.122494\n",
              "0             0.0001           hinge                 l1  0.080091  0.097682\n",
              "15            0.0100             log                 l2  0.032503  0.086905\n",
              "25            0.0100             log         elasticnet  0.025765  0.069110\n",
              "5             0.0100             log                 l1  0.027807  0.028383\n",
              "17            0.1000             log                 l2  0.016837  0.015977\n",
              "12            0.0010           hinge                 l2  0.022294  0.014223\n",
              "2             0.0010           hinge                 l1  0.014146  0.010589\n",
              "22            0.0010           hinge         elasticnet  0.007018  0.003509\n",
              "4             0.0100           hinge                 l1  0.000000  0.000000\n",
              "28            1.0000           hinge         elasticnet  0.000000  0.000000\n",
              "27            0.1000             log         elasticnet  0.000000  0.000000\n",
              "26            0.1000           hinge         elasticnet  0.000000  0.000000\n",
              "24            0.0100           hinge         elasticnet  0.000000  0.000000\n",
              "9             1.0000             log                 l1  0.000000  0.000000\n",
              "8             1.0000           hinge                 l1  0.000000  0.000000\n",
              "19            1.0000             log                 l2  0.000000  0.000000\n",
              "18            1.0000           hinge                 l2  0.000000  0.000000\n",
              "16            0.1000           hinge                 l2  0.000000  0.000000\n",
              "6             0.1000           hinge                 l1  0.000000  0.000000\n",
              "14            0.0100           hinge                 l2  0.000000  0.000000\n",
              "7             0.1000             log                 l1  0.000000  0.000000\n",
              "29            1.0000             log         elasticnet  0.000000  0.000000"
            ],
            "text/html": [
              "\n",
              "  <div id=\"df-443a8520-e5af-435b-ad5b-11861dd406c4\">\n",
              "    <div class=\"colab-df-container\">\n",
              "      <div>\n",
              "<style scoped>\n",
              "    .dataframe tbody tr th:only-of-type {\n",
              "        vertical-align: middle;\n",
              "    }\n",
              "\n",
              "    .dataframe tbody tr th {\n",
              "        vertical-align: top;\n",
              "    }\n",
              "\n",
              "    .dataframe thead th {\n",
              "        text-align: right;\n",
              "    }\n",
              "</style>\n",
              "<table border=\"1\" class=\"dataframe\">\n",
              "  <thead>\n",
              "    <tr style=\"text-align: right;\">\n",
              "      <th></th>\n",
              "      <th>estimator__alpha</th>\n",
              "      <th>estimator__loss</th>\n",
              "      <th>estimator__penalty</th>\n",
              "      <th>Std</th>\n",
              "      <th>Score</th>\n",
              "    </tr>\n",
              "  </thead>\n",
              "  <tbody>\n",
              "    <tr>\n",
              "      <th>10</th>\n",
              "      <td>0.0001</td>\n",
              "      <td>hinge</td>\n",
              "      <td>l2</td>\n",
              "      <td>0.110700</td>\n",
              "      <td>0.194518</td>\n",
              "    </tr>\n",
              "    <tr>\n",
              "      <th>11</th>\n",
              "      <td>0.0001</td>\n",
              "      <td>log</td>\n",
              "      <td>l2</td>\n",
              "      <td>0.092993</td>\n",
              "      <td>0.174718</td>\n",
              "    </tr>\n",
              "    <tr>\n",
              "      <th>13</th>\n",
              "      <td>0.0010</td>\n",
              "      <td>log</td>\n",
              "      <td>l2</td>\n",
              "      <td>0.063899</td>\n",
              "      <td>0.159430</td>\n",
              "    </tr>\n",
              "    <tr>\n",
              "      <th>1</th>\n",
              "      <td>0.0001</td>\n",
              "      <td>log</td>\n",
              "      <td>l1</td>\n",
              "      <td>0.064930</td>\n",
              "      <td>0.148434</td>\n",
              "    </tr>\n",
              "    <tr>\n",
              "      <th>21</th>\n",
              "      <td>0.0001</td>\n",
              "      <td>log</td>\n",
              "      <td>elasticnet</td>\n",
              "      <td>0.071250</td>\n",
              "      <td>0.134524</td>\n",
              "    </tr>\n",
              "    <tr>\n",
              "      <th>23</th>\n",
              "      <td>0.0010</td>\n",
              "      <td>log</td>\n",
              "      <td>elasticnet</td>\n",
              "      <td>0.062497</td>\n",
              "      <td>0.133020</td>\n",
              "    </tr>\n",
              "    <tr>\n",
              "      <th>3</th>\n",
              "      <td>0.0010</td>\n",
              "      <td>log</td>\n",
              "      <td>l1</td>\n",
              "      <td>0.054324</td>\n",
              "      <td>0.125909</td>\n",
              "    </tr>\n",
              "    <tr>\n",
              "      <th>20</th>\n",
              "      <td>0.0001</td>\n",
              "      <td>hinge</td>\n",
              "      <td>elasticnet</td>\n",
              "      <td>0.132566</td>\n",
              "      <td>0.122494</td>\n",
              "    </tr>\n",
              "    <tr>\n",
              "      <th>0</th>\n",
              "      <td>0.0001</td>\n",
              "      <td>hinge</td>\n",
              "      <td>l1</td>\n",
              "      <td>0.080091</td>\n",
              "      <td>0.097682</td>\n",
              "    </tr>\n",
              "    <tr>\n",
              "      <th>15</th>\n",
              "      <td>0.0100</td>\n",
              "      <td>log</td>\n",
              "      <td>l2</td>\n",
              "      <td>0.032503</td>\n",
              "      <td>0.086905</td>\n",
              "    </tr>\n",
              "    <tr>\n",
              "      <th>25</th>\n",
              "      <td>0.0100</td>\n",
              "      <td>log</td>\n",
              "      <td>elasticnet</td>\n",
              "      <td>0.025765</td>\n",
              "      <td>0.069110</td>\n",
              "    </tr>\n",
              "    <tr>\n",
              "      <th>5</th>\n",
              "      <td>0.0100</td>\n",
              "      <td>log</td>\n",
              "      <td>l1</td>\n",
              "      <td>0.027807</td>\n",
              "      <td>0.028383</td>\n",
              "    </tr>\n",
              "    <tr>\n",
              "      <th>17</th>\n",
              "      <td>0.1000</td>\n",
              "      <td>log</td>\n",
              "      <td>l2</td>\n",
              "      <td>0.016837</td>\n",
              "      <td>0.015977</td>\n",
              "    </tr>\n",
              "    <tr>\n",
              "      <th>12</th>\n",
              "      <td>0.0010</td>\n",
              "      <td>hinge</td>\n",
              "      <td>l2</td>\n",
              "      <td>0.022294</td>\n",
              "      <td>0.014223</td>\n",
              "    </tr>\n",
              "    <tr>\n",
              "      <th>2</th>\n",
              "      <td>0.0010</td>\n",
              "      <td>hinge</td>\n",
              "      <td>l1</td>\n",
              "      <td>0.014146</td>\n",
              "      <td>0.010589</td>\n",
              "    </tr>\n",
              "    <tr>\n",
              "      <th>22</th>\n",
              "      <td>0.0010</td>\n",
              "      <td>hinge</td>\n",
              "      <td>elasticnet</td>\n",
              "      <td>0.007018</td>\n",
              "      <td>0.003509</td>\n",
              "    </tr>\n",
              "    <tr>\n",
              "      <th>4</th>\n",
              "      <td>0.0100</td>\n",
              "      <td>hinge</td>\n",
              "      <td>l1</td>\n",
              "      <td>0.000000</td>\n",
              "      <td>0.000000</td>\n",
              "    </tr>\n",
              "    <tr>\n",
              "      <th>28</th>\n",
              "      <td>1.0000</td>\n",
              "      <td>hinge</td>\n",
              "      <td>elasticnet</td>\n",
              "      <td>0.000000</td>\n",
              "      <td>0.000000</td>\n",
              "    </tr>\n",
              "    <tr>\n",
              "      <th>27</th>\n",
              "      <td>0.1000</td>\n",
              "      <td>log</td>\n",
              "      <td>elasticnet</td>\n",
              "      <td>0.000000</td>\n",
              "      <td>0.000000</td>\n",
              "    </tr>\n",
              "    <tr>\n",
              "      <th>26</th>\n",
              "      <td>0.1000</td>\n",
              "      <td>hinge</td>\n",
              "      <td>elasticnet</td>\n",
              "      <td>0.000000</td>\n",
              "      <td>0.000000</td>\n",
              "    </tr>\n",
              "    <tr>\n",
              "      <th>24</th>\n",
              "      <td>0.0100</td>\n",
              "      <td>hinge</td>\n",
              "      <td>elasticnet</td>\n",
              "      <td>0.000000</td>\n",
              "      <td>0.000000</td>\n",
              "    </tr>\n",
              "    <tr>\n",
              "      <th>9</th>\n",
              "      <td>1.0000</td>\n",
              "      <td>log</td>\n",
              "      <td>l1</td>\n",
              "      <td>0.000000</td>\n",
              "      <td>0.000000</td>\n",
              "    </tr>\n",
              "    <tr>\n",
              "      <th>8</th>\n",
              "      <td>1.0000</td>\n",
              "      <td>hinge</td>\n",
              "      <td>l1</td>\n",
              "      <td>0.000000</td>\n",
              "      <td>0.000000</td>\n",
              "    </tr>\n",
              "    <tr>\n",
              "      <th>19</th>\n",
              "      <td>1.0000</td>\n",
              "      <td>log</td>\n",
              "      <td>l2</td>\n",
              "      <td>0.000000</td>\n",
              "      <td>0.000000</td>\n",
              "    </tr>\n",
              "    <tr>\n",
              "      <th>18</th>\n",
              "      <td>1.0000</td>\n",
              "      <td>hinge</td>\n",
              "      <td>l2</td>\n",
              "      <td>0.000000</td>\n",
              "      <td>0.000000</td>\n",
              "    </tr>\n",
              "    <tr>\n",
              "      <th>16</th>\n",
              "      <td>0.1000</td>\n",
              "      <td>hinge</td>\n",
              "      <td>l2</td>\n",
              "      <td>0.000000</td>\n",
              "      <td>0.000000</td>\n",
              "    </tr>\n",
              "    <tr>\n",
              "      <th>6</th>\n",
              "      <td>0.1000</td>\n",
              "      <td>hinge</td>\n",
              "      <td>l1</td>\n",
              "      <td>0.000000</td>\n",
              "      <td>0.000000</td>\n",
              "    </tr>\n",
              "    <tr>\n",
              "      <th>14</th>\n",
              "      <td>0.0100</td>\n",
              "      <td>hinge</td>\n",
              "      <td>l2</td>\n",
              "      <td>0.000000</td>\n",
              "      <td>0.000000</td>\n",
              "    </tr>\n",
              "    <tr>\n",
              "      <th>7</th>\n",
              "      <td>0.1000</td>\n",
              "      <td>log</td>\n",
              "      <td>l1</td>\n",
              "      <td>0.000000</td>\n",
              "      <td>0.000000</td>\n",
              "    </tr>\n",
              "    <tr>\n",
              "      <th>29</th>\n",
              "      <td>1.0000</td>\n",
              "      <td>log</td>\n",
              "      <td>elasticnet</td>\n",
              "      <td>0.000000</td>\n",
              "      <td>0.000000</td>\n",
              "    </tr>\n",
              "  </tbody>\n",
              "</table>\n",
              "</div>\n",
              "      <button class=\"colab-df-convert\" onclick=\"convertToInteractive('df-443a8520-e5af-435b-ad5b-11861dd406c4')\"\n",
              "              title=\"Convert this dataframe to an interactive table.\"\n",
              "              style=\"display:none;\">\n",
              "        \n",
              "  <svg xmlns=\"http://www.w3.org/2000/svg\" height=\"24px\"viewBox=\"0 0 24 24\"\n",
              "       width=\"24px\">\n",
              "    <path d=\"M0 0h24v24H0V0z\" fill=\"none\"/>\n",
              "    <path d=\"M18.56 5.44l.94 2.06.94-2.06 2.06-.94-2.06-.94-.94-2.06-.94 2.06-2.06.94zm-11 1L8.5 8.5l.94-2.06 2.06-.94-2.06-.94L8.5 2.5l-.94 2.06-2.06.94zm10 10l.94 2.06.94-2.06 2.06-.94-2.06-.94-.94-2.06-.94 2.06-2.06.94z\"/><path d=\"M17.41 7.96l-1.37-1.37c-.4-.4-.92-.59-1.43-.59-.52 0-1.04.2-1.43.59L10.3 9.45l-7.72 7.72c-.78.78-.78 2.05 0 2.83L4 21.41c.39.39.9.59 1.41.59.51 0 1.02-.2 1.41-.59l7.78-7.78 2.81-2.81c.8-.78.8-2.07 0-2.86zM5.41 20L4 18.59l7.72-7.72 1.47 1.35L5.41 20z\"/>\n",
              "  </svg>\n",
              "      </button>\n",
              "      \n",
              "  <style>\n",
              "    .colab-df-container {\n",
              "      display:flex;\n",
              "      flex-wrap:wrap;\n",
              "      gap: 12px;\n",
              "    }\n",
              "\n",
              "    .colab-df-convert {\n",
              "      background-color: #E8F0FE;\n",
              "      border: none;\n",
              "      border-radius: 50%;\n",
              "      cursor: pointer;\n",
              "      display: none;\n",
              "      fill: #1967D2;\n",
              "      height: 32px;\n",
              "      padding: 0 0 0 0;\n",
              "      width: 32px;\n",
              "    }\n",
              "\n",
              "    .colab-df-convert:hover {\n",
              "      background-color: #E2EBFA;\n",
              "      box-shadow: 0px 1px 2px rgba(60, 64, 67, 0.3), 0px 1px 3px 1px rgba(60, 64, 67, 0.15);\n",
              "      fill: #174EA6;\n",
              "    }\n",
              "\n",
              "    [theme=dark] .colab-df-convert {\n",
              "      background-color: #3B4455;\n",
              "      fill: #D2E3FC;\n",
              "    }\n",
              "\n",
              "    [theme=dark] .colab-df-convert:hover {\n",
              "      background-color: #434B5C;\n",
              "      box-shadow: 0px 1px 3px 1px rgba(0, 0, 0, 0.15);\n",
              "      filter: drop-shadow(0px 1px 2px rgba(0, 0, 0, 0.3));\n",
              "      fill: #FFFFFF;\n",
              "    }\n",
              "  </style>\n",
              "\n",
              "      <script>\n",
              "        const buttonEl =\n",
              "          document.querySelector('#df-443a8520-e5af-435b-ad5b-11861dd406c4 button.colab-df-convert');\n",
              "        buttonEl.style.display =\n",
              "          google.colab.kernel.accessAllowed ? 'block' : 'none';\n",
              "\n",
              "        async function convertToInteractive(key) {\n",
              "          const element = document.querySelector('#df-443a8520-e5af-435b-ad5b-11861dd406c4');\n",
              "          const dataTable =\n",
              "            await google.colab.kernel.invokeFunction('convertToInteractive',\n",
              "                                                     [key], {});\n",
              "          if (!dataTable) return;\n",
              "\n",
              "          const docLinkHtml = 'Like what you see? Visit the ' +\n",
              "            '<a target=\"_blank\" href=https://colab.research.google.com/notebooks/data_table.ipynb>data table notebook</a>'\n",
              "            + ' to learn more about interactive tables.';\n",
              "          element.innerHTML = '';\n",
              "          dataTable['output_type'] = 'display_data';\n",
              "          await google.colab.output.renderOutput(dataTable, element);\n",
              "          const docLink = document.createElement('div');\n",
              "          docLink.innerHTML = docLinkHtml;\n",
              "          element.appendChild(docLink);\n",
              "        }\n",
              "      </script>\n",
              "    </div>\n",
              "  </div>\n",
              "  "
            ]
          },
          "metadata": {},
          "execution_count": 51
        }
      ]
    },
    {
      "cell_type": "markdown",
      "source": [
        "Pelo o que consta na tabela, SVM (loss=hinge) com penalidade do tipo l2 e alpha = 0.0001 é o conjunto ótimo de hiperparâmetros encontrado. Vamos criar o modelo com os melhores parâmetros:\n"
      ],
      "metadata": {
        "id": "dFa1QN8TKqTC"
      }
    },
    {
      "cell_type": "code",
      "source": [
        "#classe que implementa OvO na força\n",
        "from sklearn.multiclass import OneVsOneClassifier\n",
        "\n",
        "#Vamos aumentar o número de iterações.\n",
        "#Lembra que na técnica OvO há mais treinamentos mas pode ser interessante \n",
        "#quando o modelo sofre com a escala\n",
        "\n",
        "model = Pipeline([('std_scaler', StandardScaler()),\n",
        "                 ('estimator', SGDClassifier(max_iter = 1000, random_state=31))\n",
        "             ])\n",
        "\n",
        "model.set_params(**grid_search.best_params_)"
      ],
      "metadata": {
        "id": "qUks2fWgnRuc",
        "colab": {
          "base_uri": "https://localhost:8080/"
        },
        "outputId": "041549da-d5f3-455d-9493-0d31389ef040"
      },
      "execution_count": 52,
      "outputs": [
        {
          "output_type": "execute_result",
          "data": {
            "text/plain": [
              "Pipeline(steps=[('std_scaler', StandardScaler()),\n",
              "                ('estimator', SGDClassifier(random_state=31))])"
            ]
          },
          "metadata": {},
          "execution_count": 52
        }
      ]
    },
    {
      "cell_type": "markdown",
      "source": [
        "Agora, vamos usar o modelo no conjunto de treino:"
      ],
      "metadata": {
        "id": "ec-_UyaoiRUs"
      }
    },
    {
      "cell_type": "code",
      "source": [
        "model_backup = model.fit(employee_prepared, employee_prepared_labels)"
      ],
      "metadata": {
        "id": "dyxmn9YZiQMS"
      },
      "execution_count": 53,
      "outputs": []
    },
    {
      "cell_type": "markdown",
      "source": [
        "Vamos entender como nosso modelo atua. Separei dos employees para o modelo prever se vão sair da empresa ou não:"
      ],
      "metadata": {
        "id": "NLZirHLwksKd"
      }
    },
    {
      "cell_type": "code",
      "source": [
        "random_employee_1 = employee_prepared[0]\n",
        "random_employee_2 = employee_prepared[7]\n",
        "print (model.predict([random_employee_1]), model.predict([random_employee_2]))"
      ],
      "metadata": {
        "colab": {
          "base_uri": "https://localhost:8080/"
        },
        "id": "xl0hY2V0isXP",
        "outputId": "7c7b10e1-4c1e-4f93-cb04-401272c3ea93"
      },
      "execution_count": 54,
      "outputs": [
        {
          "output_type": "stream",
          "name": "stdout",
          "text": [
            "[0] [1]\n"
          ]
        }
      ]
    },
    {
      "cell_type": "code",
      "source": [
        "print(employee_prepared_labels[0], employee_prepared_labels[7])"
      ],
      "metadata": {
        "colab": {
          "base_uri": "https://localhost:8080/"
        },
        "id": "5KZs-UrTixQP",
        "outputId": "eb2e15f2-0b27-44da-f931-d9e9c8a96b20"
      },
      "execution_count": 55,
      "outputs": [
        {
          "output_type": "stream",
          "name": "stdout",
          "text": [
            "0 1\n"
          ]
        }
      ]
    },
    {
      "cell_type": "markdown",
      "source": [
        "Esse resultado bateu com o que está nos labels (eu escolhi para que isso ocorresse, apenas para demonstrar aqui).\n",
        "\n",
        "Agora, vamos ver como o modelo classifica o employee:"
      ],
      "metadata": {
        "id": "ORNhZepSkz_f"
      }
    },
    {
      "cell_type": "code",
      "source": [
        "random_employee_1_score = model.decision_function([random_employee_1])\n",
        "random_employee_2_score = model.decision_function([random_employee_2])\n",
        "print(random_employee_1_score, random_employee_2_score)"
      ],
      "metadata": {
        "colab": {
          "base_uri": "https://localhost:8080/"
        },
        "id": "dIfaYhXli3He",
        "outputId": "d349756c-a7d6-41b9-e38d-42edcafcc540"
      },
      "execution_count": 56,
      "outputs": [
        {
          "output_type": "stream",
          "name": "stdout",
          "text": [
            "[-5.11482262] [0.84201346]\n"
          ]
        }
      ]
    },
    {
      "cell_type": "markdown",
      "source": [
        "Perceba, se o score é menor que zero, então o employee tende a ficar (Attrition = 0/No), enquanto que se o score é maior que zero, Attrition é classificado com 1 (Yes).\n",
        "\n",
        "Vamos observar a matriz de confusão:"
      ],
      "metadata": {
        "id": "AVggbZyNlEOH"
      }
    },
    {
      "cell_type": "code",
      "source": [
        "from sklearn.metrics  import confusion_matrix\n",
        "\n",
        "y_pred = model.predict(employee_prepared)\n",
        "conf_mx = confusion_matrix(employee_prepared_labels, y_pred)\n",
        "conf_mx"
      ],
      "metadata": {
        "id": "R0GoY8ILquhL",
        "colab": {
          "base_uri": "https://localhost:8080/"
        },
        "outputId": "579d79df-3f46-46f2-e8a6-5e32ae1fa604"
      },
      "execution_count": 57,
      "outputs": [
        {
          "output_type": "execute_result",
          "data": {
            "text/plain": [
              "array([[2842,   99],\n",
              "       [ 477,   88]])"
            ]
          },
          "metadata": {},
          "execution_count": 57
        }
      ]
    },
    {
      "cell_type": "markdown",
      "source": [
        "Perceba que o modelo possui uma quantidade alta de falsos negativos. (477 Attrition = Yes são classificados como Attrition = No)"
      ],
      "metadata": {
        "id": "ud0cMhVQl-9U"
      }
    },
    {
      "cell_type": "code",
      "source": [
        "from sklearn.metrics import accuracy_score, recall_score, precision_score, f1_score\n",
        "\n",
        "print(\"Accuracy:\", accuracy_score(employee_prepared_labels, y_pred))\n",
        "print(\"Recall:\", recall_score(employee_prepared_labels, y_pred))\n",
        "print(\"Precision:\", precision_score(employee_prepared_labels, y_pred))\n",
        "print(\"F1_score:\", f1_score(employee_prepared_labels, y_pred))"
      ],
      "metadata": {
        "id": "zDN2sfoMrMCB",
        "colab": {
          "base_uri": "https://localhost:8080/"
        },
        "outputId": "61cab389-2292-410b-dc40-69aea152a30f"
      },
      "execution_count": 64,
      "outputs": [
        {
          "output_type": "stream",
          "name": "stdout",
          "text": [
            "Accuracy: 0.8357102110667427\n",
            "Recall: 0.15575221238938053\n",
            "Precision: 0.47058823529411764\n",
            "F1_score: 0.23404255319148937\n"
          ]
        }
      ]
    },
    {
      "cell_type": "markdown",
      "source": [
        "Acima, vemos alguns scores do modelo no conjunto de treino."
      ],
      "metadata": {
        "id": "dorleJM3UPnw"
      }
    },
    {
      "cell_type": "markdown",
      "source": [
        "# Usar o modelo no conjunto de testes"
      ],
      "metadata": {
        "id": "x8MiW5JFtFBp"
      }
    },
    {
      "cell_type": "markdown",
      "source": [
        "Vamos agora verificar o modelo no conjunto de teste."
      ],
      "metadata": {
        "id": "aArmDUnvxZw_"
      }
    },
    {
      "cell_type": "code",
      "source": [
        "test_set = nullRowDropper.transform(test_set)\n",
        "\n",
        "X_test = test_set.drop(\"Attrition\", axis=1)\n",
        "y_test = test_set[\"Attrition\"].copy()\n",
        "\n",
        "y_test_prepared = []\n",
        "for i in range (y_test.size):\n",
        "  if (y_test.values[i] == \"Yes\"):\n",
        "    y_test_prepared.append(1)\n",
        "  else:\n",
        "    y_test_prepared.append(0)\n",
        "\n",
        "X_test_prepared = full_pipeline.fit_transform(X_test)\n",
        "test_predictions = model.predict(X_test_prepared)\n",
        "\n",
        "print(\"Accuracy:\", accuracy_score(y_test_prepared, test_predictions))\n",
        "print(\"Recall:\", recall_score(y_test_prepared, test_predictions))\n",
        "print(\"Precision:\", precision_score(y_test_prepared, test_predictions))\n",
        "print(\"F1-score:\", f1_score(y_test_prepared, test_predictions))"
      ],
      "metadata": {
        "colab": {
          "base_uri": "https://localhost:8080/"
        },
        "id": "Lzw47pVktRJv",
        "outputId": "82857f4a-387a-4e34-d2d4-3faa1e11cfb1"
      },
      "execution_count": 66,
      "outputs": [
        {
          "output_type": "stream",
          "name": "stdout",
          "text": [
            "Accuracy: 0.8561643835616438\n",
            "Recall: 0.25\n",
            "Precision: 0.625\n",
            "F1-score: 0.35714285714285715\n"
          ]
        }
      ]
    },
    {
      "cell_type": "markdown",
      "source": [
        "Perceba que o score não diminuiu no conjunto de testes, o que é um bom indicativo de que nosso modelo não é muito enviesado."
      ],
      "metadata": {
        "id": "uAe1FKLjxcuG"
      }
    },
    {
      "cell_type": "code",
      "source": [
        "conf_mx = confusion_matrix(y_test_prepared, test_predictions)\n",
        "conf_mx"
      ],
      "metadata": {
        "colab": {
          "base_uri": "https://localhost:8080/"
        },
        "id": "h7l7G-XEv7-h",
        "outputId": "1b779be6-5cbd-4df4-c88f-bd780c5bcf5e"
      },
      "execution_count": 60,
      "outputs": [
        {
          "output_type": "execute_result",
          "data": {
            "text/plain": [
              "array([[715,  21],\n",
              "       [105,  35]])"
            ]
          },
          "metadata": {},
          "execution_count": 60
        }
      ]
    },
    {
      "cell_type": "markdown",
      "source": [
        "Como utilizamos o loss='hinge', o modelo em questão é o SVM, que nativamente não nos da probabilidade. Então, para obter probabilidades, precisamos utilizar o CalibratedClassifierCV, como no exemplo abaixo:"
      ],
      "metadata": {
        "id": "SrhFAh--x0df"
      }
    },
    {
      "cell_type": "code",
      "source": [
        "from sklearn.calibration import CalibratedClassifierCV\n",
        "\n",
        "calibrator = CalibratedClassifierCV(model_backup, cv='prefit')\n",
        "model_prob=calibrator.fit(employee_prepared, employee_prepared_labels)\n",
        "\n",
        "random_prediction = model_prob.predict_proba([X_test_prepared[0]])\n",
        "random_prediction"
      ],
      "metadata": {
        "colab": {
          "base_uri": "https://localhost:8080/"
        },
        "id": "NLCXPMRSyAGE",
        "outputId": "e6645990-b54a-425a-f5a2-9d43caa6bff7"
      },
      "execution_count": 61,
      "outputs": [
        {
          "output_type": "execute_result",
          "data": {
            "text/plain": [
              "array([[0.85318348, 0.14681652]])"
            ]
          },
          "metadata": {},
          "execution_count": 61
        }
      ]
    },
    {
      "cell_type": "markdown",
      "source": [
        "O item da esquerda representa a probabilidade de que Attrition = No, e o da direita de que Attrition = Yes. Perceba que, de fato, o label é 0, como a probabiliade indica:"
      ],
      "metadata": {
        "id": "590M76vD6h-8"
      }
    },
    {
      "cell_type": "code",
      "source": [
        "y_test_prepared[0]"
      ],
      "metadata": {
        "colab": {
          "base_uri": "https://localhost:8080/"
        },
        "id": "AS5mivVDySs-",
        "outputId": "86b3f984-8e25-4b32-93ae-928836b7f78d"
      },
      "execution_count": 62,
      "outputs": [
        {
          "output_type": "execute_result",
          "data": {
            "text/plain": [
              "0"
            ]
          },
          "metadata": {},
          "execution_count": 62
        }
      ]
    },
    {
      "cell_type": "markdown",
      "source": [
        "\n",
        "\n",
        "\n",
        "Com isso, finalizo o projeto."
      ],
      "metadata": {
        "id": "eGiTri71yWXx"
      }
    }
  ]
}